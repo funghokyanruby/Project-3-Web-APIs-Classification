{
 "cells": [
  {
   "cell_type": "markdown",
   "metadata": {},
   "source": [
    "![Marvel Logo](https://www.regmovies.com/static/dam/jcr:5914096c-fc7c-4fda-ace5-f46c1744faa7/MARVEL-title_Small.jpg)"
   ]
  },
  {
   "cell_type": "markdown",
   "metadata": {},
   "source": [
    "# Project 3: Web APIs & Classification"
   ]
  },
  {
   "cell_type": "markdown",
   "metadata": {},
   "source": [
    "## Problem Statement"
   ]
  },
  {
   "cell_type": "markdown",
   "metadata": {},
   "source": [
    "Marvel superhero movies have been connecting with audience for decades and we want to continue to faciliate the connection. Marvel Studios is planning to create new characters to get appear in the new series between 2021-2025 (5-year plan).\n",
    "\n",
    "In order to create new characters with the qualities, values, characteristics that our audience can relate and connect to the most, our research team has carried out the following project to find out the best classfication predictive model to predict the category of a given statement on super powers. \n",
    "\n",
    "#### Data source \n",
    "\n",
    "Reddit is a network of communities based on people's interests. We believe our audience who has interest in superheroes or superpowers have shared a lot of thoughts on this popular platform. Hence, we have collected datasets from here.\n",
    "\n",
    "The two subreddits that we have selected are:\n",
    "\n",
    "1. shittysuperpowers\n",
    "2. godtiersuperpowers\n",
    "\n",
    "Both subreddits address in common certain root problems that the described superpowers wishes to tackle. T\n",
    "\n",
    "1. shittysuperpowers: \n",
    "\n",
    "    C-Tier super powers, less serious, something sort of useful, but not really useful; shittysuperpowers tackle themes or problems that are perceived as generally futile or too big to solve.\n",
    "    \n",
    "    E.g. You can throw a banana and it will return to you like a boomerang. \n",
    "\n",
    "\n",
    "2. godtiersuperpowers: \n",
    "    \n",
    "    God-Tier super powers, positive, superior and intellectual powers; godtiersuperpowers tackle themes/problems that are perceived more hopefully with an optimism for an eventual positive outcome.\n",
    "    \n",
    "    E.g. You can undo any car accident with a push of a button.\n",
    "\n",
    "#### Types of model\n",
    "\n",
    "Three models are developed and evalulated:\n",
    "\n",
    "1. LogisticRegression\n",
    "2. K Nearest Neighbor\n",
    "3. Naive Bayes \n",
    "\n",
    "#### Model evaluation\n",
    "\n",
    "After building a predictive classification model, we need to evaluate the performance of the model, that is how good the model is in predicting the outcome of new observations test data that haven't been used to train the model.\n",
    "\n",
    "The used metrics and methods for assessing the performance of predictive classification models, include:\n",
    "\n",
    "1. Classification accuracy, representing the proportion of correctly classified observations, out of 100%.\n",
    "\n",
    "\n",
    "2. Confusion matrix, which is 2x2 table showing four parameters, including the number of true positives, true negatives, false negatives and false positives.\n",
    "\n",
    "\n",
    "3. Sensitivity, Specificity and Precision, which are three major performance metrics describing a predictive classification model, out of 100%.\n",
    "\n",
    "#### Goal\n",
    "\n",
    "With this model, our team will be able to make predictions on subreddit posts which category the superpowers mentioned in the posts belongs to. More precisely, we want to find out what kind of super powers our potential audience would consider positive or amazing , and what are shitty or lame. \n",
    "\n",
    "Based on this information, we wil be able to identify the positve and negative abilities, desires, emotions, values etc. and apply them on the design of our new movie series characters. \n",
    "\n",
    "Since the new movie series is a 5-year plan, a reliable and accurate classfication predictive model is necessary. We will present our findings to our producers, directors or even actors for their decision making, on storylines and character development. Ultimately, Marvel Studios will be able to come up with more creative, innovative, inspiring superheroes with appealing super powers that audience likes. No matter to the primary stakeholders like filmmakers, or our secondary skateholders, which are our audience, this classification model will generate a lot of insights for our team. "
   ]
  },
  {
   "cell_type": "markdown",
   "metadata": {},
   "source": [
    "##  Executive Summary"
   ]
  },
  {
   "cell_type": "markdown",
   "metadata": {},
   "source": [
    "In the past few decades, Marvel Studios has been producing a series of superhero films, based on characters that appear in Marvel Comics publications. The mission statement for Marvel Studios is: A vision as far-reaching as our stories. “ Our mission to expand enables our legends like Thor and The X-Men to come to life in unexpected ways. And our mission is also to resonate with people today.\n",
    "\n",
    "However, the Marvel Cinematic Universe (MCU) has had no shortage of critics. Certainly some have been disappointed in quality or storylines, character development or entertainment value, all of which are to be expected. Viewers and members of Hollywood alike debate the human authenticity of superhero films. It has been said by some that they’re “despicable”, silly and lacking conviction, others that they’re devoid of human emotion and experiences. \n",
    "\n",
    "We want to produce Superhero movies that have values. They can bring hope and strength to those facing adversity, and a break from reality to everyone who steps foot into that theater or streams a movie from the comfort of their home. \n",
    "\n",
    "Simply by searching what kind of super powers people are interested in isn't enough, we want to further understand and predict what category of a certain super power that audience consider it as. In order to classify the posts content and its words into one of the two classes (shittysuperpowers, godtiersuperpowers), a classfication model is needed. \n",
    "\n",
    "We expect this model to help us create few new characters that contains those superpowers that audience consideres as god-tier, intellectual, positive, and superior. Hence, Marvel Studios will gain back reputation with good movie quality and signification.  "
   ]
  },
  {
   "cell_type": "markdown",
   "metadata": {},
   "source": [
    "### Contents:\n",
    "1. [Data Collection](#Data-Collection)\n",
    "2. [Data Cleaning & EDA](#Data-Cleaning-&-EDA)\n",
    "3. [Preprocessing & Modeling](#Preprocessing-&-Modeling)\n",
    "4. [Conclusion & Recommendation](#Conclusion-&-Recommendation)"
   ]
  },
  {
   "cell_type": "code",
   "execution_count": 1,
   "metadata": {},
   "outputs": [],
   "source": [
    "# libaray imports\n",
    "\n",
    "import requests\n",
    "import pandas as pd\n",
    "import time\n",
    "import random\n",
    "import json\n",
    "\n",
    "from random import randint\n",
    "from time import sleep"
   ]
  },
  {
   "cell_type": "markdown",
   "metadata": {},
   "source": [
    "## 1. Data Collection"
   ]
  },
  {
   "cell_type": "markdown",
   "metadata": {},
   "source": [
    "#### 1) Fetch the content by URL."
   ]
  },
  {
   "cell_type": "code",
   "execution_count": 12,
   "metadata": {},
   "outputs": [
    {
     "data": {
      "text/plain": [
       "200"
      ]
     },
     "execution_count": 12,
     "metadata": {},
     "output_type": "execute_result"
    }
   ],
   "source": [
    "# Target web page:\n",
    "# https://www.reddit.com/r/shittysuperpowers/new/\n",
    "# https://www.reddit.com/r/godtiersuperpowers/new/\n",
    "\n",
    "url1 = 'https://www.reddit.com/r/shittysuperpowers/new/.json'\n",
    "url2 = 'https://www.reddit.com/r/godtiersuperpowers/new/.json'\n",
    "\n",
    "headers = {'User-agent': 'Ruby Fung'}\n",
    "\n",
    "# Establishing the connection to the web page:\n",
    "res1 = requests.get(url1, headers=headers)\n",
    "res2 = requests.get(url2, headers=headers)\n",
    "\n",
    "# use status codes to understand how the target server responds to your request.\n",
    "res1.status_code\n",
    "res2.status_code\n"
   ]
  },
  {
   "cell_type": "code",
   "execution_count": 3,
   "metadata": {},
   "outputs": [],
   "source": [
    "reddit_dict1 = res1.json()\n",
    "reddit_dict2 = res2.json()"
   ]
  },
  {
   "cell_type": "code",
   "execution_count": 4,
   "metadata": {},
   "outputs": [],
   "source": [
    "posts1 = [p['data'] for p in reddit_dict1['data']['children']]"
   ]
  },
  {
   "cell_type": "code",
   "execution_count": 13,
   "metadata": {},
   "outputs": [
    {
     "data": {
      "text/plain": [
       "'t3_j3awo0'"
      ]
     },
     "execution_count": 13,
     "metadata": {},
     "output_type": "execute_result"
    }
   ],
   "source": [
    "reddit_dict1['data']['after']\n",
    "# name of the last post"
   ]
  },
  {
   "cell_type": "code",
   "execution_count": 6,
   "metadata": {},
   "outputs": [
    {
     "data": {
      "text/plain": [
       "0     t3_j3ide5\n",
       "1     t3_j3iakc\n",
       "2     t3_j3i7iw\n",
       "3     t3_j3hx96\n",
       "4     t3_j3hkvh\n",
       "5     t3_j3hdga\n",
       "6     t3_j3h6sc\n",
       "7     t3_j3gbk3\n",
       "8     t3_j3ftit\n",
       "9     t3_j3faer\n",
       "10    t3_j3em6v\n",
       "11    t3_j3ekqr\n",
       "12    t3_j3efb2\n",
       "13    t3_j3dnhp\n",
       "14    t3_j3dmad\n",
       "15    t3_j3dlhi\n",
       "16    t3_j3dbxa\n",
       "17    t3_j3ctae\n",
       "18    t3_j3cs39\n",
       "19    t3_j3cjk6\n",
       "20    t3_j3bux0\n",
       "21    t3_j3bpbj\n",
       "22    t3_j3bk5u\n",
       "23    t3_j3bdy7\n",
       "24    t3_j3awo0\n",
       "Name: name, dtype: object"
      ]
     },
     "execution_count": 6,
     "metadata": {},
     "output_type": "execute_result"
    }
   ],
   "source": [
    "pd.DataFrame(posts1)['name']"
   ]
  },
  {
   "cell_type": "code",
   "execution_count": 7,
   "metadata": {},
   "outputs": [
    {
     "data": {
      "text/plain": [
       "'https://www.reddit.com/r/shittysuperpowers/new/.json?after=t3_j3awo0'"
      ]
     },
     "execution_count": 7,
     "metadata": {},
     "output_type": "execute_result"
    }
   ],
   "source": [
    "url1 + '?after=' + reddit_dict1['data']['after']"
   ]
  },
  {
   "cell_type": "code",
   "execution_count": 8,
   "metadata": {},
   "outputs": [],
   "source": [
    "posts2 = [p['data'] for p in reddit_dict2['data']['children']]"
   ]
  },
  {
   "cell_type": "code",
   "execution_count": 14,
   "metadata": {},
   "outputs": [
    {
     "data": {
      "text/plain": [
       "'t3_j3bofm'"
      ]
     },
     "execution_count": 14,
     "metadata": {},
     "output_type": "execute_result"
    }
   ],
   "source": [
    "reddit_dict2['data']['after']\n",
    "# name of the last post"
   ]
  },
  {
   "cell_type": "code",
   "execution_count": 10,
   "metadata": {},
   "outputs": [
    {
     "data": {
      "text/plain": [
       "0     t3_j3ifab\n",
       "1     t3_j3i20g\n",
       "2     t3_j3ho4u\n",
       "3     t3_j3hi6s\n",
       "4     t3_j3hev3\n",
       "5     t3_j3h6l4\n",
       "6     t3_j3h5ow\n",
       "7     t3_j3gwcy\n",
       "8     t3_j3gr6v\n",
       "9     t3_j3gq5m\n",
       "10    t3_j3gfnh\n",
       "11    t3_j3g56g\n",
       "12    t3_j3fgfi\n",
       "13    t3_j3f29f\n",
       "14    t3_j3f24f\n",
       "15    t3_j3eyp4\n",
       "16    t3_j3e27a\n",
       "17    t3_j3dkna\n",
       "18    t3_j3ddxm\n",
       "19    t3_j3d3u3\n",
       "20    t3_j3d1gq\n",
       "21    t3_j3bysf\n",
       "22    t3_j3byh8\n",
       "23    t3_j3btqr\n",
       "24    t3_j3bofm\n",
       "Name: name, dtype: object"
      ]
     },
     "execution_count": 10,
     "metadata": {},
     "output_type": "execute_result"
    }
   ],
   "source": [
    "pd.DataFrame(posts2)['name']"
   ]
  },
  {
   "cell_type": "code",
   "execution_count": 11,
   "metadata": {},
   "outputs": [
    {
     "data": {
      "text/plain": [
       "'https://www.reddit.com/r/godtiersuperpowers/new/.json?after=t3_j3bofm'"
      ]
     },
     "execution_count": 11,
     "metadata": {},
     "output_type": "execute_result"
    }
   ],
   "source": [
    "url2 + '?after=' + reddit_dict2['data']['after']"
   ]
  },
  {
   "cell_type": "markdown",
   "metadata": {},
   "source": [
    "#### Looping through the posts, 25 posts at a time"
   ]
  },
  {
   "cell_type": "code",
   "execution_count": null,
   "metadata": {},
   "outputs": [],
   "source": [
    "# loop shittysuperpower subreddit \n",
    "\n",
    "posts1 = []\n",
    "after1 = None\n",
    "\n",
    "for i in range(40):\n",
    "    print (i)\n",
    "    if after1 == None:\n",
    "        current_url1 = url1\n",
    "    else: \n",
    "        current_url1 = url1 + '?after=' + after1\n",
    "    print(current_url1)\n",
    "    \n",
    "    res1 = requests.get(current_url1, headers=headers)\n",
    "    \n",
    "    if res1.status_code != 200:\n",
    "        print('Status error', res1.status_code)\n",
    "        break\n",
    "    \n",
    "    \n",
    "    current_dict1 = res1.json()\n",
    "    current_posts1 = [p['data'] for p in current_dict1['data']['children']]\n",
    "    posts1.extend(current_posts1)\n",
    "    after1 = current_dict1['data']['after']\n",
    "    \n",
    "    # generate a random sleep duration to look more 'natural'\n",
    "    # sleep time between 2 to 10 seconds is moderate, not too short or too long\n",
    "    sleep_duration = random.randint(2, 10)\n",
    "    print(sleep_duration)\n",
    "    time.sleep(sleep_duration)"
   ]
  },
  {
   "cell_type": "code",
   "execution_count": null,
   "metadata": {},
   "outputs": [],
   "source": [
    "len(posts1)"
   ]
  },
  {
   "cell_type": "code",
   "execution_count": null,
   "metadata": {},
   "outputs": [],
   "source": [
    "pd.DataFrame(posts1).to_csv('../data/shittysuperpowers.csv', index = False)"
   ]
  },
  {
   "cell_type": "code",
   "execution_count": null,
   "metadata": {},
   "outputs": [],
   "source": [
    "# loop godtiersuperpower subreddit \n",
    "\n",
    "posts2 = []\n",
    "after2 = None\n",
    "\n",
    "for i in range(40):\n",
    "    print (i)\n",
    "    if after2 == None:\n",
    "        current_url2 = url2\n",
    "    else: \n",
    "        current_url2 = url2 + '?after=' + after2\n",
    "    print(current_url2)\n",
    "    \n",
    "    res2 = requests.get(current_url2, headers=headers)\n",
    "    \n",
    "    if res2.status_code != 200:\n",
    "        print('Status error', res2.status_code)\n",
    "        break\n",
    "    \n",
    "    \n",
    "    current_dict2 = res2.json()\n",
    "    current_posts2 = [p['data'] for p in current_dict2['data']['children']]\n",
    "    posts2.extend(current_posts2)\n",
    "    after2 = current_dict2['data']['after']\n",
    "    \n",
    "    # generate a random sleep duration to look more 'natural'\n",
    "    # sleep time between 2 to 10 seconds is moderate, not too short or too long\n",
    "    sleep_duration = random.randint(2, 20)\n",
    "    print(sleep_duration)\n",
    "    time.sleep(sleep_duration)"
   ]
  },
  {
   "cell_type": "code",
   "execution_count": null,
   "metadata": {},
   "outputs": [],
   "source": [
    "len(posts2)"
   ]
  },
  {
   "cell_type": "code",
   "execution_count": null,
   "metadata": {},
   "outputs": [],
   "source": [
    "pd.DataFrame(posts2).to_csv('../data/godtiersuperpowers.csv', index = False)"
   ]
  },
  {
   "cell_type": "markdown",
   "metadata": {},
   "source": [
    "Data cleaning, EDA will be carried on in next notebook."
   ]
  }
 ],
 "metadata": {
  "kernelspec": {
   "display_name": "Python 3",
   "language": "python",
   "name": "python3"
  },
  "language_info": {
   "codemirror_mode": {
    "name": "ipython",
    "version": 3
   },
   "file_extension": ".py",
   "mimetype": "text/x-python",
   "name": "python",
   "nbconvert_exporter": "python",
   "pygments_lexer": "ipython3",
   "version": "3.8.3"
  }
 },
 "nbformat": 4,
 "nbformat_minor": 4
}
