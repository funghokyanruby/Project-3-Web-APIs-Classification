{
 "cells": [
  {
   "cell_type": "markdown",
   "metadata": {},
   "source": [
    "![Marvel Logo](https://www.regmovies.com/static/dam/jcr:5914096c-fc7c-4fda-ace5-f46c1744faa7/MARVEL-title_Small.jpg)"
   ]
  },
  {
   "cell_type": "markdown",
   "metadata": {},
   "source": [
    "# Project 3: Web APIs & Classification"
   ]
  },
  {
   "cell_type": "markdown",
   "metadata": {},
   "source": [
    "## 2. Data Cleaning & EDA"
   ]
  },
  {
   "cell_type": "code",
   "execution_count": 66,
   "metadata": {},
   "outputs": [
    {
     "name": "stdout",
     "output_type": "stream",
     "text": [
      "Requirement already satisfied: matplotlib-venn in /opt/anaconda3/lib/python3.8/site-packages (0.11.5)\n",
      "Requirement already satisfied: scipy in /opt/anaconda3/lib/python3.8/site-packages (from matplotlib-venn) (1.5.0)\n",
      "Requirement already satisfied: numpy in /opt/anaconda3/lib/python3.8/site-packages (from matplotlib-venn) (1.18.5)\n",
      "Requirement already satisfied: matplotlib in /opt/anaconda3/lib/python3.8/site-packages (from matplotlib-venn) (3.2.2)\n",
      "Requirement already satisfied: cycler>=0.10 in /opt/anaconda3/lib/python3.8/site-packages (from matplotlib->matplotlib-venn) (0.10.0)\n",
      "Requirement already satisfied: python-dateutil>=2.1 in /opt/anaconda3/lib/python3.8/site-packages (from matplotlib->matplotlib-venn) (2.8.1)\n",
      "Requirement already satisfied: kiwisolver>=1.0.1 in /opt/anaconda3/lib/python3.8/site-packages (from matplotlib->matplotlib-venn) (1.2.0)\n",
      "Requirement already satisfied: pyparsing!=2.0.4,!=2.1.2,!=2.1.6,>=2.0.1 in /opt/anaconda3/lib/python3.8/site-packages (from matplotlib->matplotlib-venn) (2.4.7)\n",
      "Requirement already satisfied: six in /opt/anaconda3/lib/python3.8/site-packages (from cycler>=0.10->matplotlib->matplotlib-venn) (1.15.0)\n",
      "Requirement already satisfied: wordcloud in /opt/anaconda3/lib/python3.8/site-packages (1.8.0)\n",
      "Requirement already satisfied: pillow in /opt/anaconda3/lib/python3.8/site-packages (from wordcloud) (7.2.0)\n",
      "Requirement already satisfied: matplotlib in /opt/anaconda3/lib/python3.8/site-packages (from wordcloud) (3.2.2)\n",
      "Requirement already satisfied: numpy>=1.6.1 in /opt/anaconda3/lib/python3.8/site-packages (from wordcloud) (1.18.5)\n",
      "Requirement already satisfied: pyparsing!=2.0.4,!=2.1.2,!=2.1.6,>=2.0.1 in /opt/anaconda3/lib/python3.8/site-packages (from matplotlib->wordcloud) (2.4.7)\n",
      "Requirement already satisfied: kiwisolver>=1.0.1 in /opt/anaconda3/lib/python3.8/site-packages (from matplotlib->wordcloud) (1.2.0)\n",
      "Requirement already satisfied: cycler>=0.10 in /opt/anaconda3/lib/python3.8/site-packages (from matplotlib->wordcloud) (0.10.0)\n",
      "Requirement already satisfied: python-dateutil>=2.1 in /opt/anaconda3/lib/python3.8/site-packages (from matplotlib->wordcloud) (2.8.1)\n",
      "Requirement already satisfied: six in /opt/anaconda3/lib/python3.8/site-packages (from cycler>=0.10->matplotlib->wordcloud) (1.15.0)\n"
     ]
    }
   ],
   "source": [
    "# import libraries\n",
    "!pip install matplotlib-venn\n",
    "!pip install wordcloud\n",
    "\n",
    "import pandas as pd\n",
    "import numpy as np\n",
    "import matplotlib.pyplot as plt\n",
    "import seaborn as sns\n",
    "import time\n",
    "from datetime import datetime\n",
    "\n",
    "from matplotlib import pyplot as plt\n",
    "import numpy as np\n",
    "from matplotlib_venn import venn2\n",
    "\n",
    "from nltk.tokenize import RegexpTokenizer\n",
    "from nltk import WordNetLemmatizer\n",
    "from nltk.stem import PorterStemmer\n",
    "\n",
    "from sklearn.feature_extraction.text import CountVectorizer, TfidfVectorizer\n",
    "from nltk.corpus import stopwords\n",
    "\n",
    "from wordcloud import WordCloud, ImageColorGenerator\n",
    "\n",
    "%matplotlib inline\n",
    "plt.style.use('seaborn-darkgrid')"
   ]
  },
  {
   "cell_type": "markdown",
   "metadata": {},
   "source": [
    "### Load data"
   ]
  },
  {
   "cell_type": "code",
   "execution_count": 2,
   "metadata": {},
   "outputs": [],
   "source": [
    "# read in test & train csv\n",
    "df1 = pd.read_csv('../data/shittysuperpowers.csv')\n",
    "df2 = pd.read_csv('../data/godtiersuperpowers.csv')"
   ]
  },
  {
   "cell_type": "markdown",
   "metadata": {},
   "source": [
    "In order to make sure the posts collected are all unique, I will check for duplicated for both datasets. If there is any duplicate post, I will drop them. "
   ]
  },
  {
   "cell_type": "code",
   "execution_count": 3,
   "metadata": {},
   "outputs": [
    {
     "data": {
      "text/html": [
       "<div>\n",
       "<style scoped>\n",
       "    .dataframe tbody tr th:only-of-type {\n",
       "        vertical-align: middle;\n",
       "    }\n",
       "\n",
       "    .dataframe tbody tr th {\n",
       "        vertical-align: top;\n",
       "    }\n",
       "\n",
       "    .dataframe thead th {\n",
       "        text-align: right;\n",
       "    }\n",
       "</style>\n",
       "<table border=\"1\" class=\"dataframe\">\n",
       "  <thead>\n",
       "    <tr style=\"text-align: right;\">\n",
       "      <th></th>\n",
       "      <th>approved_at_utc</th>\n",
       "      <th>subreddit</th>\n",
       "      <th>selftext</th>\n",
       "      <th>author_fullname</th>\n",
       "      <th>saved</th>\n",
       "      <th>mod_reason_title</th>\n",
       "      <th>gilded</th>\n",
       "      <th>clicked</th>\n",
       "      <th>title</th>\n",
       "      <th>link_flair_richtext</th>\n",
       "      <th>...</th>\n",
       "      <th>url</th>\n",
       "      <th>subreddit_subscribers</th>\n",
       "      <th>created_utc</th>\n",
       "      <th>num_crossposts</th>\n",
       "      <th>media</th>\n",
       "      <th>is_video</th>\n",
       "      <th>author_cakeday</th>\n",
       "      <th>post_hint</th>\n",
       "      <th>preview</th>\n",
       "      <th>link_flair_template_id</th>\n",
       "    </tr>\n",
       "  </thead>\n",
       "  <tbody>\n",
       "    <tr>\n",
       "      <th>0</th>\n",
       "      <td>NaN</td>\n",
       "      <td>shittysuperpowers</td>\n",
       "      <td>NaN</td>\n",
       "      <td>t2_6k7ehywh</td>\n",
       "      <td>False</td>\n",
       "      <td>NaN</td>\n",
       "      <td>0</td>\n",
       "      <td>False</td>\n",
       "      <td>You never forget to buy eggs at the grocery store</td>\n",
       "      <td>[]</td>\n",
       "      <td>...</td>\n",
       "      <td>https://www.reddit.com/r/shittysuperpowers/com...</td>\n",
       "      <td>406953</td>\n",
       "      <td>1.601305e+09</td>\n",
       "      <td>0</td>\n",
       "      <td>NaN</td>\n",
       "      <td>False</td>\n",
       "      <td>NaN</td>\n",
       "      <td>NaN</td>\n",
       "      <td>NaN</td>\n",
       "      <td>NaN</td>\n",
       "    </tr>\n",
       "    <tr>\n",
       "      <th>1</th>\n",
       "      <td>NaN</td>\n",
       "      <td>shittysuperpowers</td>\n",
       "      <td>NaN</td>\n",
       "      <td>t2_3mr4ydvf</td>\n",
       "      <td>False</td>\n",
       "      <td>NaN</td>\n",
       "      <td>0</td>\n",
       "      <td>False</td>\n",
       "      <td>You can assemble any object from atoms by the ...</td>\n",
       "      <td>[]</td>\n",
       "      <td>...</td>\n",
       "      <td>https://www.reddit.com/r/shittysuperpowers/com...</td>\n",
       "      <td>406953</td>\n",
       "      <td>1.601301e+09</td>\n",
       "      <td>0</td>\n",
       "      <td>NaN</td>\n",
       "      <td>False</td>\n",
       "      <td>NaN</td>\n",
       "      <td>NaN</td>\n",
       "      <td>NaN</td>\n",
       "      <td>NaN</td>\n",
       "    </tr>\n",
       "    <tr>\n",
       "      <th>2</th>\n",
       "      <td>NaN</td>\n",
       "      <td>shittysuperpowers</td>\n",
       "      <td>NaN</td>\n",
       "      <td>t2_3dbj9gpi</td>\n",
       "      <td>False</td>\n",
       "      <td>NaN</td>\n",
       "      <td>0</td>\n",
       "      <td>False</td>\n",
       "      <td>You have small visions of a person who is visu...</td>\n",
       "      <td>[]</td>\n",
       "      <td>...</td>\n",
       "      <td>https://www.reddit.com/r/shittysuperpowers/com...</td>\n",
       "      <td>406953</td>\n",
       "      <td>1.601299e+09</td>\n",
       "      <td>0</td>\n",
       "      <td>NaN</td>\n",
       "      <td>False</td>\n",
       "      <td>NaN</td>\n",
       "      <td>NaN</td>\n",
       "      <td>NaN</td>\n",
       "      <td>NaN</td>\n",
       "    </tr>\n",
       "    <tr>\n",
       "      <th>3</th>\n",
       "      <td>NaN</td>\n",
       "      <td>shittysuperpowers</td>\n",
       "      <td>NaN</td>\n",
       "      <td>t2_4ku4ofh1</td>\n",
       "      <td>False</td>\n",
       "      <td>NaN</td>\n",
       "      <td>0</td>\n",
       "      <td>False</td>\n",
       "      <td>Every time you sneeze, a random ant in a 50 me...</td>\n",
       "      <td>[]</td>\n",
       "      <td>...</td>\n",
       "      <td>https://www.reddit.com/r/shittysuperpowers/com...</td>\n",
       "      <td>406953</td>\n",
       "      <td>1.601299e+09</td>\n",
       "      <td>0</td>\n",
       "      <td>NaN</td>\n",
       "      <td>False</td>\n",
       "      <td>NaN</td>\n",
       "      <td>NaN</td>\n",
       "      <td>NaN</td>\n",
       "      <td>NaN</td>\n",
       "    </tr>\n",
       "    <tr>\n",
       "      <th>4</th>\n",
       "      <td>NaN</td>\n",
       "      <td>shittysuperpowers</td>\n",
       "      <td>NaN</td>\n",
       "      <td>t2_2vizqa9u</td>\n",
       "      <td>False</td>\n",
       "      <td>NaN</td>\n",
       "      <td>0</td>\n",
       "      <td>False</td>\n",
       "      <td>Everytime you ring a bell an angel gets their ...</td>\n",
       "      <td>[]</td>\n",
       "      <td>...</td>\n",
       "      <td>https://www.reddit.com/r/shittysuperpowers/com...</td>\n",
       "      <td>406953</td>\n",
       "      <td>1.601299e+09</td>\n",
       "      <td>0</td>\n",
       "      <td>NaN</td>\n",
       "      <td>False</td>\n",
       "      <td>NaN</td>\n",
       "      <td>NaN</td>\n",
       "      <td>NaN</td>\n",
       "      <td>NaN</td>\n",
       "    </tr>\n",
       "  </tbody>\n",
       "</table>\n",
       "<p>5 rows × 108 columns</p>\n",
       "</div>"
      ],
      "text/plain": [
       "   approved_at_utc          subreddit selftext author_fullname  saved  \\\n",
       "0              NaN  shittysuperpowers      NaN     t2_6k7ehywh  False   \n",
       "1              NaN  shittysuperpowers      NaN     t2_3mr4ydvf  False   \n",
       "2              NaN  shittysuperpowers      NaN     t2_3dbj9gpi  False   \n",
       "3              NaN  shittysuperpowers      NaN     t2_4ku4ofh1  False   \n",
       "4              NaN  shittysuperpowers      NaN     t2_2vizqa9u  False   \n",
       "\n",
       "   mod_reason_title  gilded  clicked  \\\n",
       "0               NaN       0    False   \n",
       "1               NaN       0    False   \n",
       "2               NaN       0    False   \n",
       "3               NaN       0    False   \n",
       "4               NaN       0    False   \n",
       "\n",
       "                                               title link_flair_richtext  ...  \\\n",
       "0  You never forget to buy eggs at the grocery store                  []  ...   \n",
       "1  You can assemble any object from atoms by the ...                  []  ...   \n",
       "2  You have small visions of a person who is visu...                  []  ...   \n",
       "3  Every time you sneeze, a random ant in a 50 me...                  []  ...   \n",
       "4  Everytime you ring a bell an angel gets their ...                  []  ...   \n",
       "\n",
       "                                                 url  subreddit_subscribers  \\\n",
       "0  https://www.reddit.com/r/shittysuperpowers/com...                 406953   \n",
       "1  https://www.reddit.com/r/shittysuperpowers/com...                 406953   \n",
       "2  https://www.reddit.com/r/shittysuperpowers/com...                 406953   \n",
       "3  https://www.reddit.com/r/shittysuperpowers/com...                 406953   \n",
       "4  https://www.reddit.com/r/shittysuperpowers/com...                 406953   \n",
       "\n",
       "    created_utc  num_crossposts  media  is_video  author_cakeday  post_hint  \\\n",
       "0  1.601305e+09               0    NaN     False             NaN        NaN   \n",
       "1  1.601301e+09               0    NaN     False             NaN        NaN   \n",
       "2  1.601299e+09               0    NaN     False             NaN        NaN   \n",
       "3  1.601299e+09               0    NaN     False             NaN        NaN   \n",
       "4  1.601299e+09               0    NaN     False             NaN        NaN   \n",
       "\n",
       "  preview  link_flair_template_id  \n",
       "0     NaN                     NaN  \n",
       "1     NaN                     NaN  \n",
       "2     NaN                     NaN  \n",
       "3     NaN                     NaN  \n",
       "4     NaN                     NaN  \n",
       "\n",
       "[5 rows x 108 columns]"
      ]
     },
     "execution_count": 3,
     "metadata": {},
     "output_type": "execute_result"
    }
   ],
   "source": [
    "# display df1 shittysuperpowers dataset\n",
    "\n",
    "df1.head()"
   ]
  },
  {
   "cell_type": "code",
   "execution_count": 4,
   "metadata": {},
   "outputs": [
    {
     "data": {
      "text/plain": [
       "(999, 108)"
      ]
     },
     "execution_count": 4,
     "metadata": {},
     "output_type": "execute_result"
    }
   ],
   "source": [
    "df1.shape"
   ]
  },
  {
   "cell_type": "code",
   "execution_count": 5,
   "metadata": {},
   "outputs": [
    {
     "data": {
      "text/plain": [
       "You are invincible also you will be fully aware of your own breathing for ever.       1\n",
       "You can play air instruments that only you can hear                                   1\n",
       "You get an ceiling fan everytime you snap, EVERYTIME!                                 1\n",
       "You can squeeze out hairs like popping pimples                                        1\n",
       "You can go invisible only while no one is looking or can see you                      1\n",
       "                                                                                     ..\n",
       "You literally shit money. Brand new, balled up bank notes come out of your bottom.    1\n",
       "You have the power to sunbathe your eyes                                              1\n",
       "You can walk on water only when you are walking backwards                             1\n",
       "You can give orange arrows to random strangers to make him feel happy                 1\n",
       "You can make yourself 10% more likely to be struck by lightning.                      1\n",
       "Name: title, Length: 999, dtype: int64"
      ]
     },
     "execution_count": 5,
     "metadata": {},
     "output_type": "execute_result"
    }
   ],
   "source": [
    "df1['title'].value_counts()"
   ]
  },
  {
   "cell_type": "code",
   "execution_count": 6,
   "metadata": {},
   "outputs": [
    {
     "data": {
      "text/plain": [
       "0"
      ]
     },
     "execution_count": 6,
     "metadata": {},
     "output_type": "execute_result"
    }
   ],
   "source": [
    "# check for duplicate posts\n",
    "\n",
    "df1.duplicated(subset=[\"title\"]).sum()"
   ]
  },
  {
   "cell_type": "code",
   "execution_count": 7,
   "metadata": {},
   "outputs": [
    {
     "data": {
      "text/html": [
       "<div>\n",
       "<style scoped>\n",
       "    .dataframe tbody tr th:only-of-type {\n",
       "        vertical-align: middle;\n",
       "    }\n",
       "\n",
       "    .dataframe tbody tr th {\n",
       "        vertical-align: top;\n",
       "    }\n",
       "\n",
       "    .dataframe thead th {\n",
       "        text-align: right;\n",
       "    }\n",
       "</style>\n",
       "<table border=\"1\" class=\"dataframe\">\n",
       "  <thead>\n",
       "    <tr style=\"text-align: right;\">\n",
       "      <th></th>\n",
       "      <th>approved_at_utc</th>\n",
       "      <th>subreddit</th>\n",
       "      <th>selftext</th>\n",
       "      <th>author_fullname</th>\n",
       "      <th>saved</th>\n",
       "      <th>mod_reason_title</th>\n",
       "      <th>gilded</th>\n",
       "      <th>clicked</th>\n",
       "      <th>title</th>\n",
       "      <th>link_flair_richtext</th>\n",
       "      <th>...</th>\n",
       "      <th>author_flair_text_color</th>\n",
       "      <th>permalink</th>\n",
       "      <th>parent_whitelist_status</th>\n",
       "      <th>stickied</th>\n",
       "      <th>url</th>\n",
       "      <th>subreddit_subscribers</th>\n",
       "      <th>created_utc</th>\n",
       "      <th>num_crossposts</th>\n",
       "      <th>media</th>\n",
       "      <th>is_video</th>\n",
       "    </tr>\n",
       "  </thead>\n",
       "  <tbody>\n",
       "    <tr>\n",
       "      <th>0</th>\n",
       "      <td>NaN</td>\n",
       "      <td>godtiersuperpowers</td>\n",
       "      <td>Inspired by r/Oofdit321</td>\n",
       "      <td>t2_4oreu9zn</td>\n",
       "      <td>False</td>\n",
       "      <td>NaN</td>\n",
       "      <td>0</td>\n",
       "      <td>False</td>\n",
       "      <td>When you say “breakdown breakdown” whoever you...</td>\n",
       "      <td>[]</td>\n",
       "      <td>...</td>\n",
       "      <td>NaN</td>\n",
       "      <td>/r/godtiersuperpowers/comments/j1dfkt/when_you...</td>\n",
       "      <td>all_ads</td>\n",
       "      <td>False</td>\n",
       "      <td>https://www.reddit.com/r/godtiersuperpowers/co...</td>\n",
       "      <td>351384</td>\n",
       "      <td>1.601305e+09</td>\n",
       "      <td>0</td>\n",
       "      <td>NaN</td>\n",
       "      <td>False</td>\n",
       "    </tr>\n",
       "    <tr>\n",
       "      <th>1</th>\n",
       "      <td>NaN</td>\n",
       "      <td>godtiersuperpowers</td>\n",
       "      <td>NaN</td>\n",
       "      <td>t2_2pu8jvmd</td>\n",
       "      <td>False</td>\n",
       "      <td>NaN</td>\n",
       "      <td>0</td>\n",
       "      <td>False</td>\n",
       "      <td>You can think about work and it will be done w...</td>\n",
       "      <td>[]</td>\n",
       "      <td>...</td>\n",
       "      <td>NaN</td>\n",
       "      <td>/r/godtiersuperpowers/comments/j1cvt6/you_can_...</td>\n",
       "      <td>all_ads</td>\n",
       "      <td>False</td>\n",
       "      <td>https://www.reddit.com/r/godtiersuperpowers/co...</td>\n",
       "      <td>351384</td>\n",
       "      <td>1.601303e+09</td>\n",
       "      <td>0</td>\n",
       "      <td>NaN</td>\n",
       "      <td>False</td>\n",
       "    </tr>\n",
       "    <tr>\n",
       "      <th>2</th>\n",
       "      <td>NaN</td>\n",
       "      <td>godtiersuperpowers</td>\n",
       "      <td>NaN</td>\n",
       "      <td>t2_9m7z7</td>\n",
       "      <td>False</td>\n",
       "      <td>NaN</td>\n",
       "      <td>0</td>\n",
       "      <td>False</td>\n",
       "      <td>You no longer require sleep. However, you are ...</td>\n",
       "      <td>[]</td>\n",
       "      <td>...</td>\n",
       "      <td>NaN</td>\n",
       "      <td>/r/godtiersuperpowers/comments/j1bybg/you_no_l...</td>\n",
       "      <td>all_ads</td>\n",
       "      <td>False</td>\n",
       "      <td>https://www.reddit.com/r/godtiersuperpowers/co...</td>\n",
       "      <td>351384</td>\n",
       "      <td>1.601300e+09</td>\n",
       "      <td>0</td>\n",
       "      <td>NaN</td>\n",
       "      <td>False</td>\n",
       "    </tr>\n",
       "    <tr>\n",
       "      <th>3</th>\n",
       "      <td>NaN</td>\n",
       "      <td>godtiersuperpowers</td>\n",
       "      <td>NaN</td>\n",
       "      <td>t2_35otf9vi</td>\n",
       "      <td>False</td>\n",
       "      <td>NaN</td>\n",
       "      <td>0</td>\n",
       "      <td>False</td>\n",
       "      <td>This one goes out to my fellow anxiety people....</td>\n",
       "      <td>[]</td>\n",
       "      <td>...</td>\n",
       "      <td>NaN</td>\n",
       "      <td>/r/godtiersuperpowers/comments/j1bc8x/this_one...</td>\n",
       "      <td>all_ads</td>\n",
       "      <td>False</td>\n",
       "      <td>https://www.reddit.com/r/godtiersuperpowers/co...</td>\n",
       "      <td>351384</td>\n",
       "      <td>1.601297e+09</td>\n",
       "      <td>0</td>\n",
       "      <td>NaN</td>\n",
       "      <td>False</td>\n",
       "    </tr>\n",
       "    <tr>\n",
       "      <th>4</th>\n",
       "      <td>NaN</td>\n",
       "      <td>godtiersuperpowers</td>\n",
       "      <td>NaN</td>\n",
       "      <td>t2_5svy1s43</td>\n",
       "      <td>False</td>\n",
       "      <td>NaN</td>\n",
       "      <td>0</td>\n",
       "      <td>False</td>\n",
       "      <td>You can learn any language by kissing a speake...</td>\n",
       "      <td>[]</td>\n",
       "      <td>...</td>\n",
       "      <td>NaN</td>\n",
       "      <td>/r/godtiersuperpowers/comments/j1b697/you_can_...</td>\n",
       "      <td>all_ads</td>\n",
       "      <td>False</td>\n",
       "      <td>https://www.reddit.com/r/godtiersuperpowers/co...</td>\n",
       "      <td>351384</td>\n",
       "      <td>1.601297e+09</td>\n",
       "      <td>0</td>\n",
       "      <td>NaN</td>\n",
       "      <td>False</td>\n",
       "    </tr>\n",
       "  </tbody>\n",
       "</table>\n",
       "<p>5 rows × 104 columns</p>\n",
       "</div>"
      ],
      "text/plain": [
       "   approved_at_utc           subreddit                 selftext  \\\n",
       "0              NaN  godtiersuperpowers  Inspired by r/Oofdit321   \n",
       "1              NaN  godtiersuperpowers                      NaN   \n",
       "2              NaN  godtiersuperpowers                      NaN   \n",
       "3              NaN  godtiersuperpowers                      NaN   \n",
       "4              NaN  godtiersuperpowers                      NaN   \n",
       "\n",
       "  author_fullname  saved  mod_reason_title  gilded  clicked  \\\n",
       "0     t2_4oreu9zn  False               NaN       0    False   \n",
       "1     t2_2pu8jvmd  False               NaN       0    False   \n",
       "2        t2_9m7z7  False               NaN       0    False   \n",
       "3     t2_35otf9vi  False               NaN       0    False   \n",
       "4     t2_5svy1s43  False               NaN       0    False   \n",
       "\n",
       "                                               title link_flair_richtext  ...  \\\n",
       "0  When you say “breakdown breakdown” whoever you...                  []  ...   \n",
       "1  You can think about work and it will be done w...                  []  ...   \n",
       "2  You no longer require sleep. However, you are ...                  []  ...   \n",
       "3  This one goes out to my fellow anxiety people....                  []  ...   \n",
       "4  You can learn any language by kissing a speake...                  []  ...   \n",
       "\n",
       "  author_flair_text_color                                          permalink  \\\n",
       "0                     NaN  /r/godtiersuperpowers/comments/j1dfkt/when_you...   \n",
       "1                     NaN  /r/godtiersuperpowers/comments/j1cvt6/you_can_...   \n",
       "2                     NaN  /r/godtiersuperpowers/comments/j1bybg/you_no_l...   \n",
       "3                     NaN  /r/godtiersuperpowers/comments/j1bc8x/this_one...   \n",
       "4                     NaN  /r/godtiersuperpowers/comments/j1b697/you_can_...   \n",
       "\n",
       "   parent_whitelist_status  stickied  \\\n",
       "0                  all_ads     False   \n",
       "1                  all_ads     False   \n",
       "2                  all_ads     False   \n",
       "3                  all_ads     False   \n",
       "4                  all_ads     False   \n",
       "\n",
       "                                                 url  subreddit_subscribers  \\\n",
       "0  https://www.reddit.com/r/godtiersuperpowers/co...                 351384   \n",
       "1  https://www.reddit.com/r/godtiersuperpowers/co...                 351384   \n",
       "2  https://www.reddit.com/r/godtiersuperpowers/co...                 351384   \n",
       "3  https://www.reddit.com/r/godtiersuperpowers/co...                 351384   \n",
       "4  https://www.reddit.com/r/godtiersuperpowers/co...                 351384   \n",
       "\n",
       "    created_utc num_crossposts  media is_video  \n",
       "0  1.601305e+09              0    NaN    False  \n",
       "1  1.601303e+09              0    NaN    False  \n",
       "2  1.601300e+09              0    NaN    False  \n",
       "3  1.601297e+09              0    NaN    False  \n",
       "4  1.601297e+09              0    NaN    False  \n",
       "\n",
       "[5 rows x 104 columns]"
      ]
     },
     "execution_count": 7,
     "metadata": {},
     "output_type": "execute_result"
    }
   ],
   "source": [
    "# display df2\n",
    "\n",
    "df2.head()"
   ]
  },
  {
   "cell_type": "code",
   "execution_count": 8,
   "metadata": {},
   "outputs": [
    {
     "data": {
      "text/plain": [
       "(997, 104)"
      ]
     },
     "execution_count": 8,
     "metadata": {},
     "output_type": "execute_result"
    }
   ],
   "source": [
    "df2.shape"
   ]
  },
  {
   "cell_type": "code",
   "execution_count": 9,
   "metadata": {},
   "outputs": [
    {
     "data": {
      "text/plain": [
       "Your unused spare change will be turned into £1 coins or $1 bills                                                                                                 3\n",
       "You can the cat                                                                                                                                                   2\n",
       "You have the ability to manipulate probability                                                                                                                    2\n",
       "You can reverse anything                                                                                                                                          2\n",
       "You can enter into any PG or PG13 movie character at any point in their movie.                                                                                    1\n",
       "                                                                                                                                                                 ..\n",
       "Whenever you eat, you have can have mouth acid to dissolve your food instead of chewing, and it doesn't burn you all the while maintaining the original taste.    1\n",
       "You will never get pulled over by police                                                                                                                          1\n",
       "You can see your stats - all of them - in the right hand corner of your eyes, just like in the sims                                                               1\n",
       "You can throw nukes through your fingers                                                                                                                          1\n",
       "You can summon the 2 parts of an AK-47 and combine them whenever you want.                                                                                        1\n",
       "Name: title, Length: 992, dtype: int64"
      ]
     },
     "execution_count": 9,
     "metadata": {},
     "output_type": "execute_result"
    }
   ],
   "source": [
    "df2['title'].value_counts()"
   ]
  },
  {
   "cell_type": "code",
   "execution_count": 10,
   "metadata": {},
   "outputs": [
    {
     "data": {
      "text/plain": [
       "5"
      ]
     },
     "execution_count": 10,
     "metadata": {},
     "output_type": "execute_result"
    }
   ],
   "source": [
    "# check for duplicate posts\n",
    "\n",
    "df2.duplicated(subset=[\"title\"]).sum()"
   ]
  },
  {
   "cell_type": "code",
   "execution_count": 11,
   "metadata": {},
   "outputs": [],
   "source": [
    "# drop duplicated posts\n",
    "\n",
    "df2.drop_duplicates(subset=['title'], keep='last', inplace=True) # drop duplicated topics"
   ]
  },
  {
   "cell_type": "code",
   "execution_count": 12,
   "metadata": {},
   "outputs": [
    {
     "data": {
      "text/plain": [
       "(992, 104)"
      ]
     },
     "execution_count": 12,
     "metadata": {},
     "output_type": "execute_result"
    }
   ],
   "source": [
    "df2.shape"
   ]
  },
  {
   "cell_type": "markdown",
   "metadata": {},
   "source": [
    "### Feature Selection"
   ]
  },
  {
   "cell_type": "markdown",
   "metadata": {},
   "source": [
    "Most of the fields in datasets are irrelevant to identifying if the posts are shitty or godtier superpowers. \n",
    "\n",
    "Target fields are: \n",
    "\n",
    "- subreddit: subreddit\n",
    "- author: author_fullname\n",
    "- selftext: selftext\n",
    "- title: title\n",
    "- number of comments: num_comments\n",
    "- upvotes: ups\n",
    "- created date: created_utc"
   ]
  },
  {
   "cell_type": "code",
   "execution_count": 13,
   "metadata": {},
   "outputs": [],
   "source": [
    "# df1: feature selection\n",
    "\n",
    "subreddit = df1['subreddit']\n",
    "author = df1['author_fullname']\n",
    "title = df1['title']\n",
    "selftext = df1['selftext']\n",
    "created_date = df1['created_utc'].map(lambda x: datetime.utcfromtimestamp(int(x)).strftime('%Y-%m-%d %H:%M:%S'))\n",
    "number_of_comments = df1['num_comments']\n",
    "upvotes = df1['ups']"
   ]
  },
  {
   "cell_type": "code",
   "execution_count": 14,
   "metadata": {},
   "outputs": [],
   "source": [
    "# create a new dataframe with target fields\n",
    "\n",
    "shitty_df = pd.DataFrame([subreddit, author, title, selftext, created_date, number_of_comments, upvotes], index=['subreddit', 'author','title','selftext', 'created_date', 'number_of_comments', 'upvotes'])\n",
    "shitty_df = shitty_df.T"
   ]
  },
  {
   "cell_type": "code",
   "execution_count": 15,
   "metadata": {},
   "outputs": [
    {
     "data": {
      "text/html": [
       "<div>\n",
       "<style scoped>\n",
       "    .dataframe tbody tr th:only-of-type {\n",
       "        vertical-align: middle;\n",
       "    }\n",
       "\n",
       "    .dataframe tbody tr th {\n",
       "        vertical-align: top;\n",
       "    }\n",
       "\n",
       "    .dataframe thead th {\n",
       "        text-align: right;\n",
       "    }\n",
       "</style>\n",
       "<table border=\"1\" class=\"dataframe\">\n",
       "  <thead>\n",
       "    <tr style=\"text-align: right;\">\n",
       "      <th></th>\n",
       "      <th>subreddit</th>\n",
       "      <th>author</th>\n",
       "      <th>title</th>\n",
       "      <th>selftext</th>\n",
       "      <th>created_date</th>\n",
       "      <th>number_of_comments</th>\n",
       "      <th>upvotes</th>\n",
       "    </tr>\n",
       "  </thead>\n",
       "  <tbody>\n",
       "    <tr>\n",
       "      <th>0</th>\n",
       "      <td>shittysuperpowers</td>\n",
       "      <td>t2_6k7ehywh</td>\n",
       "      <td>You never forget to buy eggs at the grocery store</td>\n",
       "      <td>NaN</td>\n",
       "      <td>2020-09-28 14:54:35</td>\n",
       "      <td>0</td>\n",
       "      <td>1</td>\n",
       "    </tr>\n",
       "    <tr>\n",
       "      <th>1</th>\n",
       "      <td>shittysuperpowers</td>\n",
       "      <td>t2_3mr4ydvf</td>\n",
       "      <td>You can assemble any object from atoms by the ...</td>\n",
       "      <td>NaN</td>\n",
       "      <td>2020-09-28 13:46:00</td>\n",
       "      <td>2</td>\n",
       "      <td>7</td>\n",
       "    </tr>\n",
       "    <tr>\n",
       "      <th>2</th>\n",
       "      <td>shittysuperpowers</td>\n",
       "      <td>t2_3dbj9gpi</td>\n",
       "      <td>You have small visions of a person who is visu...</td>\n",
       "      <td>NaN</td>\n",
       "      <td>2020-09-28 13:21:37</td>\n",
       "      <td>0</td>\n",
       "      <td>4</td>\n",
       "    </tr>\n",
       "    <tr>\n",
       "      <th>3</th>\n",
       "      <td>shittysuperpowers</td>\n",
       "      <td>t2_4ku4ofh1</td>\n",
       "      <td>Every time you sneeze, a random ant in a 50 me...</td>\n",
       "      <td>NaN</td>\n",
       "      <td>2020-09-28 13:20:13</td>\n",
       "      <td>1</td>\n",
       "      <td>5</td>\n",
       "    </tr>\n",
       "    <tr>\n",
       "      <th>4</th>\n",
       "      <td>shittysuperpowers</td>\n",
       "      <td>t2_2vizqa9u</td>\n",
       "      <td>Everytime you ring a bell an angel gets their ...</td>\n",
       "      <td>NaN</td>\n",
       "      <td>2020-09-28 13:12:35</td>\n",
       "      <td>0</td>\n",
       "      <td>7</td>\n",
       "    </tr>\n",
       "  </tbody>\n",
       "</table>\n",
       "</div>"
      ],
      "text/plain": [
       "           subreddit       author  \\\n",
       "0  shittysuperpowers  t2_6k7ehywh   \n",
       "1  shittysuperpowers  t2_3mr4ydvf   \n",
       "2  shittysuperpowers  t2_3dbj9gpi   \n",
       "3  shittysuperpowers  t2_4ku4ofh1   \n",
       "4  shittysuperpowers  t2_2vizqa9u   \n",
       "\n",
       "                                               title selftext  \\\n",
       "0  You never forget to buy eggs at the grocery store      NaN   \n",
       "1  You can assemble any object from atoms by the ...      NaN   \n",
       "2  You have small visions of a person who is visu...      NaN   \n",
       "3  Every time you sneeze, a random ant in a 50 me...      NaN   \n",
       "4  Everytime you ring a bell an angel gets their ...      NaN   \n",
       "\n",
       "          created_date number_of_comments upvotes  \n",
       "0  2020-09-28 14:54:35                  0       1  \n",
       "1  2020-09-28 13:46:00                  2       7  \n",
       "2  2020-09-28 13:21:37                  0       4  \n",
       "3  2020-09-28 13:20:13                  1       5  \n",
       "4  2020-09-28 13:12:35                  0       7  "
      ]
     },
     "execution_count": 15,
     "metadata": {},
     "output_type": "execute_result"
    }
   ],
   "source": [
    "shitty_df.head()"
   ]
  },
  {
   "cell_type": "code",
   "execution_count": 16,
   "metadata": {},
   "outputs": [],
   "source": [
    "# df2: feature selection\n",
    "\n",
    "subreddit = df2['subreddit']\n",
    "author = df2['author_fullname']\n",
    "title = df2['title']\n",
    "selftext = df2['selftext']\n",
    "created_date = df2['created_utc'].map(lambda x: datetime.utcfromtimestamp(int(x)).strftime('%Y-%m-%d %H:%M:%S'))\n",
    "number_of_comments = df2['num_comments']\n",
    "upvotes = df2['ups']\n"
   ]
  },
  {
   "cell_type": "code",
   "execution_count": 17,
   "metadata": {},
   "outputs": [],
   "source": [
    "# create a new dataframe with target fields\n",
    "\n",
    "godtier_df = pd.DataFrame([subreddit, author, title, selftext, created_date, number_of_comments, upvotes], index=['subreddit', 'author','title','selftext', 'created_date', 'number_of_comments', 'upvotes'])\n",
    "godtier_df = godtier_df.T\n"
   ]
  },
  {
   "cell_type": "code",
   "execution_count": 18,
   "metadata": {},
   "outputs": [
    {
     "data": {
      "text/html": [
       "<div>\n",
       "<style scoped>\n",
       "    .dataframe tbody tr th:only-of-type {\n",
       "        vertical-align: middle;\n",
       "    }\n",
       "\n",
       "    .dataframe tbody tr th {\n",
       "        vertical-align: top;\n",
       "    }\n",
       "\n",
       "    .dataframe thead th {\n",
       "        text-align: right;\n",
       "    }\n",
       "</style>\n",
       "<table border=\"1\" class=\"dataframe\">\n",
       "  <thead>\n",
       "    <tr style=\"text-align: right;\">\n",
       "      <th></th>\n",
       "      <th>subreddit</th>\n",
       "      <th>author</th>\n",
       "      <th>title</th>\n",
       "      <th>selftext</th>\n",
       "      <th>created_date</th>\n",
       "      <th>number_of_comments</th>\n",
       "      <th>upvotes</th>\n",
       "    </tr>\n",
       "  </thead>\n",
       "  <tbody>\n",
       "    <tr>\n",
       "      <th>0</th>\n",
       "      <td>godtiersuperpowers</td>\n",
       "      <td>t2_4oreu9zn</td>\n",
       "      <td>When you say “breakdown breakdown” whoever you...</td>\n",
       "      <td>Inspired by r/Oofdit321</td>\n",
       "      <td>2020-09-28 14:52:31</td>\n",
       "      <td>0</td>\n",
       "      <td>2</td>\n",
       "    </tr>\n",
       "    <tr>\n",
       "      <th>1</th>\n",
       "      <td>godtiersuperpowers</td>\n",
       "      <td>t2_2pu8jvmd</td>\n",
       "      <td>You can think about work and it will be done w...</td>\n",
       "      <td>NaN</td>\n",
       "      <td>2020-09-28 14:21:19</td>\n",
       "      <td>1</td>\n",
       "      <td>4</td>\n",
       "    </tr>\n",
       "    <tr>\n",
       "      <th>2</th>\n",
       "      <td>godtiersuperpowers</td>\n",
       "      <td>t2_9m7z7</td>\n",
       "      <td>You no longer require sleep. However, you are ...</td>\n",
       "      <td>NaN</td>\n",
       "      <td>2020-09-28 13:26:25</td>\n",
       "      <td>3</td>\n",
       "      <td>46</td>\n",
       "    </tr>\n",
       "    <tr>\n",
       "      <th>3</th>\n",
       "      <td>godtiersuperpowers</td>\n",
       "      <td>t2_35otf9vi</td>\n",
       "      <td>This one goes out to my fellow anxiety people....</td>\n",
       "      <td>NaN</td>\n",
       "      <td>2020-09-28 12:47:38</td>\n",
       "      <td>0</td>\n",
       "      <td>9</td>\n",
       "    </tr>\n",
       "    <tr>\n",
       "      <th>4</th>\n",
       "      <td>godtiersuperpowers</td>\n",
       "      <td>t2_5svy1s43</td>\n",
       "      <td>You can learn any language by kissing a speake...</td>\n",
       "      <td>NaN</td>\n",
       "      <td>2020-09-28 12:36:37</td>\n",
       "      <td>4</td>\n",
       "      <td>4</td>\n",
       "    </tr>\n",
       "  </tbody>\n",
       "</table>\n",
       "</div>"
      ],
      "text/plain": [
       "            subreddit       author  \\\n",
       "0  godtiersuperpowers  t2_4oreu9zn   \n",
       "1  godtiersuperpowers  t2_2pu8jvmd   \n",
       "2  godtiersuperpowers     t2_9m7z7   \n",
       "3  godtiersuperpowers  t2_35otf9vi   \n",
       "4  godtiersuperpowers  t2_5svy1s43   \n",
       "\n",
       "                                               title                 selftext  \\\n",
       "0  When you say “breakdown breakdown” whoever you...  Inspired by r/Oofdit321   \n",
       "1  You can think about work and it will be done w...                      NaN   \n",
       "2  You no longer require sleep. However, you are ...                      NaN   \n",
       "3  This one goes out to my fellow anxiety people....                      NaN   \n",
       "4  You can learn any language by kissing a speake...                      NaN   \n",
       "\n",
       "          created_date number_of_comments upvotes  \n",
       "0  2020-09-28 14:52:31                  0       2  \n",
       "1  2020-09-28 14:21:19                  1       4  \n",
       "2  2020-09-28 13:26:25                  3      46  \n",
       "3  2020-09-28 12:47:38                  0       9  \n",
       "4  2020-09-28 12:36:37                  4       4  "
      ]
     },
     "execution_count": 18,
     "metadata": {},
     "output_type": "execute_result"
    }
   ],
   "source": [
    "godtier_df.head()"
   ]
  },
  {
   "cell_type": "code",
   "execution_count": 19,
   "metadata": {},
   "outputs": [
    {
     "data": {
      "text/plain": [
       "subreddit               0\n",
       "author                  0\n",
       "title                   0\n",
       "selftext              755\n",
       "created_date            0\n",
       "number_of_comments      0\n",
       "upvotes                 0\n",
       "dtype: int64"
      ]
     },
     "execution_count": 19,
     "metadata": {},
     "output_type": "execute_result"
    }
   ],
   "source": [
    "# check for nulls\n",
    "\n",
    "shitty_df.isnull().sum()"
   ]
  },
  {
   "cell_type": "code",
   "execution_count": 20,
   "metadata": {},
   "outputs": [
    {
     "data": {
      "text/plain": [
       "subreddit               0\n",
       "author                  1\n",
       "title                   0\n",
       "selftext              648\n",
       "created_date            0\n",
       "number_of_comments      0\n",
       "upvotes                 0\n",
       "dtype: int64"
      ]
     },
     "execution_count": 20,
     "metadata": {},
     "output_type": "execute_result"
    }
   ],
   "source": [
    "# check for nulls\n",
    "\n",
    "godtier_df.isnull().sum()"
   ]
  },
  {
   "cell_type": "markdown",
   "metadata": {},
   "source": [
    "Since in both shitty_df and godtier_df datasets column 'selftext' contains a lot of NaN values, I will fill the missing value with space first. After that, I will combine column 'title' and 'selftext', as selftext is extra information or elaboration on a post."
   ]
  },
  {
   "cell_type": "code",
   "execution_count": 21,
   "metadata": {},
   "outputs": [],
   "source": [
    "shitty_df['selftext'].fillna(' ', inplace=True)"
   ]
  },
  {
   "cell_type": "code",
   "execution_count": 22,
   "metadata": {},
   "outputs": [],
   "source": [
    "godtier_df['selftext'].fillna(' ', inplace=True)"
   ]
  },
  {
   "cell_type": "code",
   "execution_count": 23,
   "metadata": {},
   "outputs": [],
   "source": [
    "shitty_df['post'] = shitty_df['title'].astype(str) + ' ' + shitty_df['selftext'].astype(str)"
   ]
  },
  {
   "cell_type": "code",
   "execution_count": 24,
   "metadata": {},
   "outputs": [],
   "source": [
    "godtier_df['post'] = godtier_df['title'].astype(str) + ' ' + godtier_df['selftext'].astype(str)"
   ]
  },
  {
   "cell_type": "code",
   "execution_count": 25,
   "metadata": {},
   "outputs": [
    {
     "data": {
      "text/html": [
       "<div>\n",
       "<style scoped>\n",
       "    .dataframe tbody tr th:only-of-type {\n",
       "        vertical-align: middle;\n",
       "    }\n",
       "\n",
       "    .dataframe tbody tr th {\n",
       "        vertical-align: top;\n",
       "    }\n",
       "\n",
       "    .dataframe thead th {\n",
       "        text-align: right;\n",
       "    }\n",
       "</style>\n",
       "<table border=\"1\" class=\"dataframe\">\n",
       "  <thead>\n",
       "    <tr style=\"text-align: right;\">\n",
       "      <th></th>\n",
       "      <th>subreddit</th>\n",
       "      <th>author</th>\n",
       "      <th>title</th>\n",
       "      <th>selftext</th>\n",
       "      <th>created_date</th>\n",
       "      <th>number_of_comments</th>\n",
       "      <th>upvotes</th>\n",
       "      <th>post</th>\n",
       "    </tr>\n",
       "  </thead>\n",
       "  <tbody>\n",
       "    <tr>\n",
       "      <th>0</th>\n",
       "      <td>shittysuperpowers</td>\n",
       "      <td>t2_6k7ehywh</td>\n",
       "      <td>You never forget to buy eggs at the grocery store</td>\n",
       "      <td></td>\n",
       "      <td>2020-09-28 14:54:35</td>\n",
       "      <td>0</td>\n",
       "      <td>1</td>\n",
       "      <td>You never forget to buy eggs at the grocery st...</td>\n",
       "    </tr>\n",
       "    <tr>\n",
       "      <th>1</th>\n",
       "      <td>shittysuperpowers</td>\n",
       "      <td>t2_3mr4ydvf</td>\n",
       "      <td>You can assemble any object from atoms by the ...</td>\n",
       "      <td></td>\n",
       "      <td>2020-09-28 13:46:00</td>\n",
       "      <td>2</td>\n",
       "      <td>7</td>\n",
       "      <td>You can assemble any object from atoms by the ...</td>\n",
       "    </tr>\n",
       "    <tr>\n",
       "      <th>2</th>\n",
       "      <td>shittysuperpowers</td>\n",
       "      <td>t2_3dbj9gpi</td>\n",
       "      <td>You have small visions of a person who is visu...</td>\n",
       "      <td></td>\n",
       "      <td>2020-09-28 13:21:37</td>\n",
       "      <td>0</td>\n",
       "      <td>4</td>\n",
       "      <td>You have small visions of a person who is visu...</td>\n",
       "    </tr>\n",
       "    <tr>\n",
       "      <th>3</th>\n",
       "      <td>shittysuperpowers</td>\n",
       "      <td>t2_4ku4ofh1</td>\n",
       "      <td>Every time you sneeze, a random ant in a 50 me...</td>\n",
       "      <td></td>\n",
       "      <td>2020-09-28 13:20:13</td>\n",
       "      <td>1</td>\n",
       "      <td>5</td>\n",
       "      <td>Every time you sneeze, a random ant in a 50 me...</td>\n",
       "    </tr>\n",
       "    <tr>\n",
       "      <th>4</th>\n",
       "      <td>shittysuperpowers</td>\n",
       "      <td>t2_2vizqa9u</td>\n",
       "      <td>Everytime you ring a bell an angel gets their ...</td>\n",
       "      <td></td>\n",
       "      <td>2020-09-28 13:12:35</td>\n",
       "      <td>0</td>\n",
       "      <td>7</td>\n",
       "      <td>Everytime you ring a bell an angel gets their ...</td>\n",
       "    </tr>\n",
       "  </tbody>\n",
       "</table>\n",
       "</div>"
      ],
      "text/plain": [
       "           subreddit       author  \\\n",
       "0  shittysuperpowers  t2_6k7ehywh   \n",
       "1  shittysuperpowers  t2_3mr4ydvf   \n",
       "2  shittysuperpowers  t2_3dbj9gpi   \n",
       "3  shittysuperpowers  t2_4ku4ofh1   \n",
       "4  shittysuperpowers  t2_2vizqa9u   \n",
       "\n",
       "                                               title selftext  \\\n",
       "0  You never forget to buy eggs at the grocery store            \n",
       "1  You can assemble any object from atoms by the ...            \n",
       "2  You have small visions of a person who is visu...            \n",
       "3  Every time you sneeze, a random ant in a 50 me...            \n",
       "4  Everytime you ring a bell an angel gets their ...            \n",
       "\n",
       "          created_date number_of_comments upvotes  \\\n",
       "0  2020-09-28 14:54:35                  0       1   \n",
       "1  2020-09-28 13:46:00                  2       7   \n",
       "2  2020-09-28 13:21:37                  0       4   \n",
       "3  2020-09-28 13:20:13                  1       5   \n",
       "4  2020-09-28 13:12:35                  0       7   \n",
       "\n",
       "                                                post  \n",
       "0  You never forget to buy eggs at the grocery st...  \n",
       "1  You can assemble any object from atoms by the ...  \n",
       "2  You have small visions of a person who is visu...  \n",
       "3  Every time you sneeze, a random ant in a 50 me...  \n",
       "4  Everytime you ring a bell an angel gets their ...  "
      ]
     },
     "execution_count": 25,
     "metadata": {},
     "output_type": "execute_result"
    }
   ],
   "source": [
    "shitty_df.head()"
   ]
  },
  {
   "cell_type": "code",
   "execution_count": 26,
   "metadata": {},
   "outputs": [
    {
     "data": {
      "text/html": [
       "<div>\n",
       "<style scoped>\n",
       "    .dataframe tbody tr th:only-of-type {\n",
       "        vertical-align: middle;\n",
       "    }\n",
       "\n",
       "    .dataframe tbody tr th {\n",
       "        vertical-align: top;\n",
       "    }\n",
       "\n",
       "    .dataframe thead th {\n",
       "        text-align: right;\n",
       "    }\n",
       "</style>\n",
       "<table border=\"1\" class=\"dataframe\">\n",
       "  <thead>\n",
       "    <tr style=\"text-align: right;\">\n",
       "      <th></th>\n",
       "      <th>subreddit</th>\n",
       "      <th>author</th>\n",
       "      <th>title</th>\n",
       "      <th>selftext</th>\n",
       "      <th>created_date</th>\n",
       "      <th>number_of_comments</th>\n",
       "      <th>upvotes</th>\n",
       "      <th>post</th>\n",
       "    </tr>\n",
       "  </thead>\n",
       "  <tbody>\n",
       "    <tr>\n",
       "      <th>0</th>\n",
       "      <td>godtiersuperpowers</td>\n",
       "      <td>t2_4oreu9zn</td>\n",
       "      <td>When you say “breakdown breakdown” whoever you...</td>\n",
       "      <td>Inspired by r/Oofdit321</td>\n",
       "      <td>2020-09-28 14:52:31</td>\n",
       "      <td>0</td>\n",
       "      <td>2</td>\n",
       "      <td>When you say “breakdown breakdown” whoever you...</td>\n",
       "    </tr>\n",
       "    <tr>\n",
       "      <th>1</th>\n",
       "      <td>godtiersuperpowers</td>\n",
       "      <td>t2_2pu8jvmd</td>\n",
       "      <td>You can think about work and it will be done w...</td>\n",
       "      <td></td>\n",
       "      <td>2020-09-28 14:21:19</td>\n",
       "      <td>1</td>\n",
       "      <td>4</td>\n",
       "      <td>You can think about work and it will be done w...</td>\n",
       "    </tr>\n",
       "    <tr>\n",
       "      <th>2</th>\n",
       "      <td>godtiersuperpowers</td>\n",
       "      <td>t2_9m7z7</td>\n",
       "      <td>You no longer require sleep. However, you are ...</td>\n",
       "      <td></td>\n",
       "      <td>2020-09-28 13:26:25</td>\n",
       "      <td>3</td>\n",
       "      <td>46</td>\n",
       "      <td>You no longer require sleep. However, you are ...</td>\n",
       "    </tr>\n",
       "    <tr>\n",
       "      <th>3</th>\n",
       "      <td>godtiersuperpowers</td>\n",
       "      <td>t2_35otf9vi</td>\n",
       "      <td>This one goes out to my fellow anxiety people....</td>\n",
       "      <td></td>\n",
       "      <td>2020-09-28 12:47:38</td>\n",
       "      <td>0</td>\n",
       "      <td>9</td>\n",
       "      <td>This one goes out to my fellow anxiety people....</td>\n",
       "    </tr>\n",
       "    <tr>\n",
       "      <th>4</th>\n",
       "      <td>godtiersuperpowers</td>\n",
       "      <td>t2_5svy1s43</td>\n",
       "      <td>You can learn any language by kissing a speake...</td>\n",
       "      <td></td>\n",
       "      <td>2020-09-28 12:36:37</td>\n",
       "      <td>4</td>\n",
       "      <td>4</td>\n",
       "      <td>You can learn any language by kissing a speake...</td>\n",
       "    </tr>\n",
       "  </tbody>\n",
       "</table>\n",
       "</div>"
      ],
      "text/plain": [
       "            subreddit       author  \\\n",
       "0  godtiersuperpowers  t2_4oreu9zn   \n",
       "1  godtiersuperpowers  t2_2pu8jvmd   \n",
       "2  godtiersuperpowers     t2_9m7z7   \n",
       "3  godtiersuperpowers  t2_35otf9vi   \n",
       "4  godtiersuperpowers  t2_5svy1s43   \n",
       "\n",
       "                                               title                 selftext  \\\n",
       "0  When you say “breakdown breakdown” whoever you...  Inspired by r/Oofdit321   \n",
       "1  You can think about work and it will be done w...                            \n",
       "2  You no longer require sleep. However, you are ...                            \n",
       "3  This one goes out to my fellow anxiety people....                            \n",
       "4  You can learn any language by kissing a speake...                            \n",
       "\n",
       "          created_date number_of_comments upvotes  \\\n",
       "0  2020-09-28 14:52:31                  0       2   \n",
       "1  2020-09-28 14:21:19                  1       4   \n",
       "2  2020-09-28 13:26:25                  3      46   \n",
       "3  2020-09-28 12:47:38                  0       9   \n",
       "4  2020-09-28 12:36:37                  4       4   \n",
       "\n",
       "                                                post  \n",
       "0  When you say “breakdown breakdown” whoever you...  \n",
       "1  You can think about work and it will be done w...  \n",
       "2  You no longer require sleep. However, you are ...  \n",
       "3  This one goes out to my fellow anxiety people....  \n",
       "4  You can learn any language by kissing a speake...  "
      ]
     },
     "execution_count": 26,
     "metadata": {},
     "output_type": "execute_result"
    }
   ],
   "source": [
    "godtier_df.head()"
   ]
  },
  {
   "cell_type": "markdown",
   "metadata": {},
   "source": [
    "Since i have combined 'title' and 'selftext' to a new column body, I will drop these 2 columns in both datasets. "
   ]
  },
  {
   "cell_type": "code",
   "execution_count": 27,
   "metadata": {},
   "outputs": [],
   "source": [
    "shitty_df.drop(columns=['title', 'selftext'], axis=1, inplace=True)"
   ]
  },
  {
   "cell_type": "code",
   "execution_count": 28,
   "metadata": {},
   "outputs": [],
   "source": [
    "godtier_df.drop(columns=['title', 'selftext'], axis=1, inplace=True)"
   ]
  },
  {
   "cell_type": "code",
   "execution_count": 29,
   "metadata": {},
   "outputs": [
    {
     "data": {
      "text/html": [
       "<div>\n",
       "<style scoped>\n",
       "    .dataframe tbody tr th:only-of-type {\n",
       "        vertical-align: middle;\n",
       "    }\n",
       "\n",
       "    .dataframe tbody tr th {\n",
       "        vertical-align: top;\n",
       "    }\n",
       "\n",
       "    .dataframe thead th {\n",
       "        text-align: right;\n",
       "    }\n",
       "</style>\n",
       "<table border=\"1\" class=\"dataframe\">\n",
       "  <thead>\n",
       "    <tr style=\"text-align: right;\">\n",
       "      <th></th>\n",
       "      <th>subreddit</th>\n",
       "      <th>author</th>\n",
       "      <th>created_date</th>\n",
       "      <th>number_of_comments</th>\n",
       "      <th>upvotes</th>\n",
       "      <th>post</th>\n",
       "    </tr>\n",
       "  </thead>\n",
       "  <tbody>\n",
       "    <tr>\n",
       "      <th>0</th>\n",
       "      <td>shittysuperpowers</td>\n",
       "      <td>t2_6k7ehywh</td>\n",
       "      <td>2020-09-28 14:54:35</td>\n",
       "      <td>0</td>\n",
       "      <td>1</td>\n",
       "      <td>You never forget to buy eggs at the grocery st...</td>\n",
       "    </tr>\n",
       "    <tr>\n",
       "      <th>1</th>\n",
       "      <td>shittysuperpowers</td>\n",
       "      <td>t2_3mr4ydvf</td>\n",
       "      <td>2020-09-28 13:46:00</td>\n",
       "      <td>2</td>\n",
       "      <td>7</td>\n",
       "      <td>You can assemble any object from atoms by the ...</td>\n",
       "    </tr>\n",
       "    <tr>\n",
       "      <th>2</th>\n",
       "      <td>shittysuperpowers</td>\n",
       "      <td>t2_3dbj9gpi</td>\n",
       "      <td>2020-09-28 13:21:37</td>\n",
       "      <td>0</td>\n",
       "      <td>4</td>\n",
       "      <td>You have small visions of a person who is visu...</td>\n",
       "    </tr>\n",
       "    <tr>\n",
       "      <th>3</th>\n",
       "      <td>shittysuperpowers</td>\n",
       "      <td>t2_4ku4ofh1</td>\n",
       "      <td>2020-09-28 13:20:13</td>\n",
       "      <td>1</td>\n",
       "      <td>5</td>\n",
       "      <td>Every time you sneeze, a random ant in a 50 me...</td>\n",
       "    </tr>\n",
       "    <tr>\n",
       "      <th>4</th>\n",
       "      <td>shittysuperpowers</td>\n",
       "      <td>t2_2vizqa9u</td>\n",
       "      <td>2020-09-28 13:12:35</td>\n",
       "      <td>0</td>\n",
       "      <td>7</td>\n",
       "      <td>Everytime you ring a bell an angel gets their ...</td>\n",
       "    </tr>\n",
       "  </tbody>\n",
       "</table>\n",
       "</div>"
      ],
      "text/plain": [
       "           subreddit       author         created_date number_of_comments  \\\n",
       "0  shittysuperpowers  t2_6k7ehywh  2020-09-28 14:54:35                  0   \n",
       "1  shittysuperpowers  t2_3mr4ydvf  2020-09-28 13:46:00                  2   \n",
       "2  shittysuperpowers  t2_3dbj9gpi  2020-09-28 13:21:37                  0   \n",
       "3  shittysuperpowers  t2_4ku4ofh1  2020-09-28 13:20:13                  1   \n",
       "4  shittysuperpowers  t2_2vizqa9u  2020-09-28 13:12:35                  0   \n",
       "\n",
       "  upvotes                                               post  \n",
       "0       1  You never forget to buy eggs at the grocery st...  \n",
       "1       7  You can assemble any object from atoms by the ...  \n",
       "2       4  You have small visions of a person who is visu...  \n",
       "3       5  Every time you sneeze, a random ant in a 50 me...  \n",
       "4       7  Everytime you ring a bell an angel gets their ...  "
      ]
     },
     "execution_count": 29,
     "metadata": {},
     "output_type": "execute_result"
    }
   ],
   "source": [
    "shitty_df.head()"
   ]
  },
  {
   "cell_type": "code",
   "execution_count": 30,
   "metadata": {},
   "outputs": [
    {
     "data": {
      "text/html": [
       "<div>\n",
       "<style scoped>\n",
       "    .dataframe tbody tr th:only-of-type {\n",
       "        vertical-align: middle;\n",
       "    }\n",
       "\n",
       "    .dataframe tbody tr th {\n",
       "        vertical-align: top;\n",
       "    }\n",
       "\n",
       "    .dataframe thead th {\n",
       "        text-align: right;\n",
       "    }\n",
       "</style>\n",
       "<table border=\"1\" class=\"dataframe\">\n",
       "  <thead>\n",
       "    <tr style=\"text-align: right;\">\n",
       "      <th></th>\n",
       "      <th>subreddit</th>\n",
       "      <th>author</th>\n",
       "      <th>created_date</th>\n",
       "      <th>number_of_comments</th>\n",
       "      <th>upvotes</th>\n",
       "      <th>post</th>\n",
       "    </tr>\n",
       "  </thead>\n",
       "  <tbody>\n",
       "    <tr>\n",
       "      <th>0</th>\n",
       "      <td>godtiersuperpowers</td>\n",
       "      <td>t2_4oreu9zn</td>\n",
       "      <td>2020-09-28 14:52:31</td>\n",
       "      <td>0</td>\n",
       "      <td>2</td>\n",
       "      <td>When you say “breakdown breakdown” whoever you...</td>\n",
       "    </tr>\n",
       "    <tr>\n",
       "      <th>1</th>\n",
       "      <td>godtiersuperpowers</td>\n",
       "      <td>t2_2pu8jvmd</td>\n",
       "      <td>2020-09-28 14:21:19</td>\n",
       "      <td>1</td>\n",
       "      <td>4</td>\n",
       "      <td>You can think about work and it will be done w...</td>\n",
       "    </tr>\n",
       "    <tr>\n",
       "      <th>2</th>\n",
       "      <td>godtiersuperpowers</td>\n",
       "      <td>t2_9m7z7</td>\n",
       "      <td>2020-09-28 13:26:25</td>\n",
       "      <td>3</td>\n",
       "      <td>46</td>\n",
       "      <td>You no longer require sleep. However, you are ...</td>\n",
       "    </tr>\n",
       "    <tr>\n",
       "      <th>3</th>\n",
       "      <td>godtiersuperpowers</td>\n",
       "      <td>t2_35otf9vi</td>\n",
       "      <td>2020-09-28 12:47:38</td>\n",
       "      <td>0</td>\n",
       "      <td>9</td>\n",
       "      <td>This one goes out to my fellow anxiety people....</td>\n",
       "    </tr>\n",
       "    <tr>\n",
       "      <th>4</th>\n",
       "      <td>godtiersuperpowers</td>\n",
       "      <td>t2_5svy1s43</td>\n",
       "      <td>2020-09-28 12:36:37</td>\n",
       "      <td>4</td>\n",
       "      <td>4</td>\n",
       "      <td>You can learn any language by kissing a speake...</td>\n",
       "    </tr>\n",
       "  </tbody>\n",
       "</table>\n",
       "</div>"
      ],
      "text/plain": [
       "            subreddit       author         created_date number_of_comments  \\\n",
       "0  godtiersuperpowers  t2_4oreu9zn  2020-09-28 14:52:31                  0   \n",
       "1  godtiersuperpowers  t2_2pu8jvmd  2020-09-28 14:21:19                  1   \n",
       "2  godtiersuperpowers     t2_9m7z7  2020-09-28 13:26:25                  3   \n",
       "3  godtiersuperpowers  t2_35otf9vi  2020-09-28 12:47:38                  0   \n",
       "4  godtiersuperpowers  t2_5svy1s43  2020-09-28 12:36:37                  4   \n",
       "\n",
       "  upvotes                                               post  \n",
       "0       2  When you say “breakdown breakdown” whoever you...  \n",
       "1       4  You can think about work and it will be done w...  \n",
       "2      46  You no longer require sleep. However, you are ...  \n",
       "3       9  This one goes out to my fellow anxiety people....  \n",
       "4       4  You can learn any language by kissing a speake...  "
      ]
     },
     "execution_count": 30,
     "metadata": {},
     "output_type": "execute_result"
    }
   ],
   "source": [
    "godtier_df.head()"
   ]
  },
  {
   "cell_type": "code",
   "execution_count": 31,
   "metadata": {},
   "outputs": [],
   "source": [
    "pd.DataFrame(shitty_df).to_csv('../data/shitty_df.csv')\n",
    "pd.DataFrame(godtier_df).to_csv('../data/godtier_df.csv')"
   ]
  },
  {
   "cell_type": "markdown",
   "metadata": {},
   "source": [
    "### Data Exploration"
   ]
  },
  {
   "cell_type": "code",
   "execution_count": 32,
   "metadata": {},
   "outputs": [],
   "source": [
    "shitty_df = pd.read_csv('../data/shitty_df.csv')\n",
    "godtier_df = pd.read_csv('../data/godtier_df.csv')\n",
    "\n",
    "shitty_df.drop('Unnamed: 0', axis=1, inplace=True)\n",
    "godtier_df.drop('Unnamed: 0', axis=1, inplace=True)"
   ]
  },
  {
   "cell_type": "code",
   "execution_count": 33,
   "metadata": {},
   "outputs": [
    {
     "data": {
      "text/plain": [
       "(999, 6)"
      ]
     },
     "execution_count": 33,
     "metadata": {},
     "output_type": "execute_result"
    }
   ],
   "source": [
    "shitty_df.shape"
   ]
  },
  {
   "cell_type": "code",
   "execution_count": 34,
   "metadata": {},
   "outputs": [
    {
     "name": "stdout",
     "output_type": "stream",
     "text": [
      "<class 'pandas.core.frame.DataFrame'>\n",
      "RangeIndex: 999 entries, 0 to 998\n",
      "Data columns (total 6 columns):\n",
      " #   Column              Non-Null Count  Dtype \n",
      "---  ------              --------------  ----- \n",
      " 0   subreddit           999 non-null    object\n",
      " 1   author              999 non-null    object\n",
      " 2   created_date        999 non-null    object\n",
      " 3   number_of_comments  999 non-null    int64 \n",
      " 4   upvotes             999 non-null    int64 \n",
      " 5   post                999 non-null    object\n",
      "dtypes: int64(2), object(4)\n",
      "memory usage: 47.0+ KB\n"
     ]
    }
   ],
   "source": [
    "shitty_df.info()"
   ]
  },
  {
   "cell_type": "code",
   "execution_count": 35,
   "metadata": {},
   "outputs": [
    {
     "data": {
      "text/html": [
       "<div>\n",
       "<style scoped>\n",
       "    .dataframe tbody tr th:only-of-type {\n",
       "        vertical-align: middle;\n",
       "    }\n",
       "\n",
       "    .dataframe tbody tr th {\n",
       "        vertical-align: top;\n",
       "    }\n",
       "\n",
       "    .dataframe thead th {\n",
       "        text-align: right;\n",
       "    }\n",
       "</style>\n",
       "<table border=\"1\" class=\"dataframe\">\n",
       "  <thead>\n",
       "    <tr style=\"text-align: right;\">\n",
       "      <th></th>\n",
       "      <th>number_of_comments</th>\n",
       "      <th>upvotes</th>\n",
       "    </tr>\n",
       "  </thead>\n",
       "  <tbody>\n",
       "    <tr>\n",
       "      <th>count</th>\n",
       "      <td>999.000000</td>\n",
       "      <td>999.000000</td>\n",
       "    </tr>\n",
       "    <tr>\n",
       "      <th>mean</th>\n",
       "      <td>5.961962</td>\n",
       "      <td>119.518519</td>\n",
       "    </tr>\n",
       "    <tr>\n",
       "      <th>std</th>\n",
       "      <td>23.838816</td>\n",
       "      <td>834.641115</td>\n",
       "    </tr>\n",
       "    <tr>\n",
       "      <th>min</th>\n",
       "      <td>0.000000</td>\n",
       "      <td>0.000000</td>\n",
       "    </tr>\n",
       "    <tr>\n",
       "      <th>25%</th>\n",
       "      <td>1.000000</td>\n",
       "      <td>7.000000</td>\n",
       "    </tr>\n",
       "    <tr>\n",
       "      <th>50%</th>\n",
       "      <td>2.000000</td>\n",
       "      <td>12.000000</td>\n",
       "    </tr>\n",
       "    <tr>\n",
       "      <th>75%</th>\n",
       "      <td>5.000000</td>\n",
       "      <td>21.000000</td>\n",
       "    </tr>\n",
       "    <tr>\n",
       "      <th>max</th>\n",
       "      <td>391.000000</td>\n",
       "      <td>10578.000000</td>\n",
       "    </tr>\n",
       "  </tbody>\n",
       "</table>\n",
       "</div>"
      ],
      "text/plain": [
       "       number_of_comments       upvotes\n",
       "count          999.000000    999.000000\n",
       "mean             5.961962    119.518519\n",
       "std             23.838816    834.641115\n",
       "min              0.000000      0.000000\n",
       "25%              1.000000      7.000000\n",
       "50%              2.000000     12.000000\n",
       "75%              5.000000     21.000000\n",
       "max            391.000000  10578.000000"
      ]
     },
     "execution_count": 35,
     "metadata": {},
     "output_type": "execute_result"
    }
   ],
   "source": [
    "shitty_df.describe()"
   ]
  },
  {
   "cell_type": "markdown",
   "metadata": {},
   "source": [
    "999 uniqie posts are collected from shittysuperpowers subreddit. The average number comments each post is 5.9 words, and average upvotes is 119.5. "
   ]
  },
  {
   "cell_type": "code",
   "execution_count": 36,
   "metadata": {},
   "outputs": [
    {
     "data": {
      "text/plain": [
       "(992, 6)"
      ]
     },
     "execution_count": 36,
     "metadata": {},
     "output_type": "execute_result"
    }
   ],
   "source": [
    "godtier_df.shape"
   ]
  },
  {
   "cell_type": "code",
   "execution_count": 37,
   "metadata": {},
   "outputs": [
    {
     "name": "stdout",
     "output_type": "stream",
     "text": [
      "<class 'pandas.core.frame.DataFrame'>\n",
      "RangeIndex: 992 entries, 0 to 991\n",
      "Data columns (total 6 columns):\n",
      " #   Column              Non-Null Count  Dtype \n",
      "---  ------              --------------  ----- \n",
      " 0   subreddit           992 non-null    object\n",
      " 1   author              991 non-null    object\n",
      " 2   created_date        992 non-null    object\n",
      " 3   number_of_comments  992 non-null    int64 \n",
      " 4   upvotes             992 non-null    int64 \n",
      " 5   post                992 non-null    object\n",
      "dtypes: int64(2), object(4)\n",
      "memory usage: 46.6+ KB\n"
     ]
    }
   ],
   "source": [
    "godtier_df.info()"
   ]
  },
  {
   "cell_type": "code",
   "execution_count": 38,
   "metadata": {},
   "outputs": [
    {
     "data": {
      "text/html": [
       "<div>\n",
       "<style scoped>\n",
       "    .dataframe tbody tr th:only-of-type {\n",
       "        vertical-align: middle;\n",
       "    }\n",
       "\n",
       "    .dataframe tbody tr th {\n",
       "        vertical-align: top;\n",
       "    }\n",
       "\n",
       "    .dataframe thead th {\n",
       "        text-align: right;\n",
       "    }\n",
       "</style>\n",
       "<table border=\"1\" class=\"dataframe\">\n",
       "  <thead>\n",
       "    <tr style=\"text-align: right;\">\n",
       "      <th></th>\n",
       "      <th>number_of_comments</th>\n",
       "      <th>upvotes</th>\n",
       "    </tr>\n",
       "  </thead>\n",
       "  <tbody>\n",
       "    <tr>\n",
       "      <th>count</th>\n",
       "      <td>992.000000</td>\n",
       "      <td>992.000000</td>\n",
       "    </tr>\n",
       "    <tr>\n",
       "      <th>mean</th>\n",
       "      <td>9.799395</td>\n",
       "      <td>296.849798</td>\n",
       "    </tr>\n",
       "    <tr>\n",
       "      <th>std</th>\n",
       "      <td>48.099723</td>\n",
       "      <td>1685.903175</td>\n",
       "    </tr>\n",
       "    <tr>\n",
       "      <th>min</th>\n",
       "      <td>0.000000</td>\n",
       "      <td>0.000000</td>\n",
       "    </tr>\n",
       "    <tr>\n",
       "      <th>25%</th>\n",
       "      <td>1.000000</td>\n",
       "      <td>6.000000</td>\n",
       "    </tr>\n",
       "    <tr>\n",
       "      <th>50%</th>\n",
       "      <td>2.000000</td>\n",
       "      <td>11.000000</td>\n",
       "    </tr>\n",
       "    <tr>\n",
       "      <th>75%</th>\n",
       "      <td>5.000000</td>\n",
       "      <td>21.000000</td>\n",
       "    </tr>\n",
       "    <tr>\n",
       "      <th>max</th>\n",
       "      <td>837.000000</td>\n",
       "      <td>13927.000000</td>\n",
       "    </tr>\n",
       "  </tbody>\n",
       "</table>\n",
       "</div>"
      ],
      "text/plain": [
       "       number_of_comments       upvotes\n",
       "count          992.000000    992.000000\n",
       "mean             9.799395    296.849798\n",
       "std             48.099723   1685.903175\n",
       "min              0.000000      0.000000\n",
       "25%              1.000000      6.000000\n",
       "50%              2.000000     11.000000\n",
       "75%              5.000000     21.000000\n",
       "max            837.000000  13927.000000"
      ]
     },
     "execution_count": 38,
     "metadata": {},
     "output_type": "execute_result"
    }
   ],
   "source": [
    "godtier_df.describe()"
   ]
  },
  {
   "cell_type": "markdown",
   "metadata": {},
   "source": [
    "992 uniqie posts are collected from godtiersuperpowers subreddit. The average number comments each post is 9.7 words, and average upvotes is 296.8. "
   ]
  },
  {
   "cell_type": "code",
   "execution_count": 39,
   "metadata": {},
   "outputs": [
    {
     "data": {
      "image/png": "[encoded data removed]",
      "text/plain": [
       "<Figure size 1080x720 with 2 Axes>"
      ]
     },
     "metadata": {},
     "output_type": "display_data"
    }
   ],
   "source": [
    "cvec = CountVectorizer(stop_words='english')\n",
    "\n",
    "# top 30 words with the highest count in shitty_df\n",
    "cvec.fit(shitty_df['post'])\n",
    "len_features = len(cvec.get_feature_names())\n",
    "shitty_df_cv = pd.DataFrame(cvec.transform(shitty_df['post']).todense(),columns=cvec.get_feature_names())\n",
    "top_shitty = shitty_df_cv.sum(axis=0).sort_values(ascending=False).head(30)\n",
    "\n",
    "# top 30 words with the highest count in godtier_df\n",
    "cvec.fit(godtier_df['post'])\n",
    "len_features = len(cvec.get_feature_names())\n",
    "godtier_df_cv = pd.DataFrame(cvec.transform(godtier_df['post']).todense(),columns=cvec.get_feature_names())\n",
    "top_godtier = godtier_df_cv.sum(axis=0).sort_values(ascending = False).head(30)\n",
    "\n",
    "\n",
    "# plot results\n",
    "fit, ax = plt.subplots(nrows = 1, ncols = 2, figsize=(15,10), sharex = True)\n",
    "\n",
    "sns.barplot(y=top_shitty.index.values, x = top_shitty,color='skyblue',ax=ax[0])\n",
    "ax[0].set_title('top 30 words in r/shittysuperpowers',fontsize=16)\n",
    "ax[0].set_xlabel('count of words', fontsize=13)\n",
    "plt.setp(ax[0].get_yticklabels(), fontsize=14)\n",
    "\n",
    "sns.barplot(y=top_godtier.index.values, x = top_godtier,color='skyblue',ax=ax[1])\n",
    "ax[1].set_title('top 30 words in r/godtiersuperpowers',fontsize=16)\n",
    "ax[1].set_xlabel('count of words', fontsize=13)\n",
    "plt.setp(ax[1].get_yticklabels(), fontsize=14)\n",
    "\n",
    "plt.tight_layout()"
   ]
  },
  {
   "cell_type": "code",
   "execution_count": 40,
   "metadata": {},
   "outputs": [
    {
     "data": {
      "image/png": "[encoded data removed]",
      "text/plain": [
       "<Figure size 576x21.6 with 1 Axes>"
      ]
     },
     "metadata": {},
     "output_type": "display_data"
    },
    {
     "data": {
      "image/png": "[encoded data removed]",
      "text/plain": [
       "<Figure size 1008x432 with 2 Axes>"
      ]
     },
     "metadata": {},
     "output_type": "display_data"
    }
   ],
   "source": [
    "# set up WordCloud\n",
    "wc_shitty = WordCloud(max_words= 50, width = 1000, height = 800, background_color ='white',\n",
    "                  colormap='ocean').generate_from_frequencies(top_shitty) \n",
    "\n",
    "wc_godtier = WordCloud(max_words= 50, width = 1000, height = 800, background_color ='white',\n",
    "                  colormap='ocean').generate_from_frequencies(top_godtier) \n",
    "\n",
    "plt.figure(figsize=(8, 0.3))\n",
    "plt.text(x = 0.35,                              \n",
    "         y = 0.9,                             \n",
    "         s = 'r/shittysuperpowers                                       r/godtiersuperpowers', \n",
    "         ha = 'left',                        \n",
    "         va = 'center',                       \n",
    "         size = 30)                         \n",
    "plt.axis('off')\n",
    "\n",
    "# plot the WordCloud image \n",
    "fig, ax = plt.subplots(nrows = 1, ncols = 2, figsize = (14, 6))\n",
    "ax[0].imshow(wc_shitty)\n",
    "ax[0].axis('off')\n",
    "ax[1].imshow(wc_godtier)\n",
    "ax[1].axis('off')\n",
    "plt.tight_layout()"
   ]
  },
  {
   "cell_type": "code",
   "execution_count": 41,
   "metadata": {},
   "outputs": [
    {
     "name": "stdout",
     "output_type": "stream",
     "text": [
      "2967\n"
     ]
    },
    {
     "data": {
      "text/plain": [
       "time         118\n",
       "make          88\n",
       "people        84\n",
       "like          84\n",
       "turn          60\n",
       "everytime     49\n",
       "person        48\n",
       "ability       40\n",
       "shit          38\n",
       "power         36\n",
       "know          34\n",
       "water         33\n",
       "just          32\n",
       "random        31\n",
       "say           30\n",
       "control       27\n",
       "eat           27\n",
       "summon        27\n",
       "want          26\n",
       "10            26\n",
       "dtype: int64"
      ]
     },
     "execution_count": 41,
     "metadata": {},
     "output_type": "execute_result"
    }
   ],
   "source": [
    "# print top words in shitty_df\n",
    "\n",
    "cvec = CountVectorizer(stop_words='english')\n",
    "cvec.fit(shitty_df['post'])\n",
    "\n",
    "len_features = len(cvec.get_feature_names())\n",
    "print(len_features)\n",
    "\n",
    "shitty_df_cv = pd.DataFrame(cvec.transform(shitty_df['post']).todense(),columns=cvec.get_feature_names())\n",
    "\n",
    "top_shitty = shitty_df_cv.sum(axis=0)\n",
    "top_shitty.sort_values(ascending = False).head(20)"
   ]
  },
  {
   "cell_type": "code",
   "execution_count": 42,
   "metadata": {},
   "outputs": [
    {
     "name": "stdout",
     "output_type": "stream",
     "text": [
      "3695\n"
     ]
    },
    {
     "data": {
      "text/plain": [
       "time       172\n",
       "like       107\n",
       "want       102\n",
       "know        92\n",
       "just        86\n",
       "power       78\n",
       "people      77\n",
       "make        76\n",
       "say         74\n",
       "ability     66\n",
       "person      56\n",
       "life        53\n",
       "able        50\n",
       "don         47\n",
       "need        45\n",
       "control     43\n",
       "real        42\n",
       "body        42\n",
       "summon      41\n",
       "use         41\n",
       "dtype: int64"
      ]
     },
     "execution_count": 42,
     "metadata": {},
     "output_type": "execute_result"
    }
   ],
   "source": [
    "# print top words in godtier_df\n",
    "\n",
    "cvec = CountVectorizer(stop_words='english')\n",
    "cvec.fit(godtier_df['post'])\n",
    "\n",
    "len_features = len(cvec.get_feature_names())\n",
    "print(len_features)\n",
    "\n",
    "godtier_df_cv = pd.DataFrame(cvec.transform(godtier_df['post']).todense(),columns=cvec.get_feature_names())\n",
    "\n",
    "top_godtier = godtier_df_cv.sum(axis=0)\n",
    "top_godtier.sort_values(ascending = False).head(20)"
   ]
  },
  {
   "cell_type": "code",
   "execution_count": 43,
   "metadata": {},
   "outputs": [
    {
     "data": {
      "text/html": [
       "<div>\n",
       "<style scoped>\n",
       "    .dataframe tbody tr th:only-of-type {\n",
       "        vertical-align: middle;\n",
       "    }\n",
       "\n",
       "    .dataframe tbody tr th {\n",
       "        vertical-align: top;\n",
       "    }\n",
       "\n",
       "    .dataframe thead th {\n",
       "        text-align: right;\n",
       "    }\n",
       "</style>\n",
       "<table border=\"1\" class=\"dataframe\">\n",
       "  <thead>\n",
       "    <tr style=\"text-align: right;\">\n",
       "      <th></th>\n",
       "      <th>word</th>\n",
       "      <th>count</th>\n",
       "      <th>freq</th>\n",
       "    </tr>\n",
       "  </thead>\n",
       "  <tbody>\n",
       "    <tr>\n",
       "      <th>2635</th>\n",
       "      <td>time</td>\n",
       "      <td>118</td>\n",
       "      <td>3.977081</td>\n",
       "    </tr>\n",
       "    <tr>\n",
       "      <th>1536</th>\n",
       "      <td>make</td>\n",
       "      <td>88</td>\n",
       "      <td>2.965959</td>\n",
       "    </tr>\n",
       "    <tr>\n",
       "      <th>1470</th>\n",
       "      <td>like</td>\n",
       "      <td>84</td>\n",
       "      <td>2.831143</td>\n",
       "    </tr>\n",
       "    <tr>\n",
       "      <th>1846</th>\n",
       "      <td>people</td>\n",
       "      <td>84</td>\n",
       "      <td>2.831143</td>\n",
       "    </tr>\n",
       "    <tr>\n",
       "      <th>2714</th>\n",
       "      <td>turn</td>\n",
       "      <td>60</td>\n",
       "      <td>2.022245</td>\n",
       "    </tr>\n",
       "    <tr>\n",
       "      <th>861</th>\n",
       "      <td>everytime</td>\n",
       "      <td>49</td>\n",
       "      <td>1.651500</td>\n",
       "    </tr>\n",
       "    <tr>\n",
       "      <th>1860</th>\n",
       "      <td>person</td>\n",
       "      <td>48</td>\n",
       "      <td>1.617796</td>\n",
       "    </tr>\n",
       "    <tr>\n",
       "      <th>60</th>\n",
       "      <td>ability</td>\n",
       "      <td>40</td>\n",
       "      <td>1.348163</td>\n",
       "    </tr>\n",
       "    <tr>\n",
       "      <th>2255</th>\n",
       "      <td>shit</td>\n",
       "      <td>38</td>\n",
       "      <td>1.280755</td>\n",
       "    </tr>\n",
       "    <tr>\n",
       "      <th>1961</th>\n",
       "      <td>power</td>\n",
       "      <td>36</td>\n",
       "      <td>1.213347</td>\n",
       "    </tr>\n",
       "  </tbody>\n",
       "</table>\n",
       "</div>"
      ],
      "text/plain": [
       "           word  count      freq\n",
       "2635       time    118  3.977081\n",
       "1536       make     88  2.965959\n",
       "1470       like     84  2.831143\n",
       "1846     people     84  2.831143\n",
       "2714       turn     60  2.022245\n",
       "861   everytime     49  1.651500\n",
       "1860     person     48  1.617796\n",
       "60      ability     40  1.348163\n",
       "2255       shit     38  1.280755\n",
       "1961      power     36  1.213347"
      ]
     },
     "execution_count": 43,
     "metadata": {},
     "output_type": "execute_result"
    }
   ],
   "source": [
    "# get top words in shitty_df\n",
    "\n",
    "df_top_shitty = top_shitty.to_frame(name='count')\n",
    "df_top_shitty['word'] = df_top_shitty.index\n",
    "df_top_shitty.reset_index(drop=True, inplace=True)\n",
    "df_top_shitty['freq'] = df_top_shitty['count'] / len(df_top_shitty) * 100\n",
    "\n",
    "cols = ['word','count','freq']\n",
    "df_top_shitty = df_top_shitty[cols]\n",
    "df_top_shitty.sort_values(by='count',ascending=False, inplace=True)\n",
    "df_top_shitty.head(10)"
   ]
  },
  {
   "cell_type": "code",
   "execution_count": 44,
   "metadata": {},
   "outputs": [
    {
     "data": {
      "text/html": [
       "<div>\n",
       "<style scoped>\n",
       "    .dataframe tbody tr th:only-of-type {\n",
       "        vertical-align: middle;\n",
       "    }\n",
       "\n",
       "    .dataframe tbody tr th {\n",
       "        vertical-align: top;\n",
       "    }\n",
       "\n",
       "    .dataframe thead th {\n",
       "        text-align: right;\n",
       "    }\n",
       "</style>\n",
       "<table border=\"1\" class=\"dataframe\">\n",
       "  <thead>\n",
       "    <tr style=\"text-align: right;\">\n",
       "      <th></th>\n",
       "      <th>word</th>\n",
       "      <th>count</th>\n",
       "      <th>freq</th>\n",
       "    </tr>\n",
       "  </thead>\n",
       "  <tbody>\n",
       "    <tr>\n",
       "      <th>3335</th>\n",
       "      <td>time</td>\n",
       "      <td>172</td>\n",
       "      <td>4.654939</td>\n",
       "    </tr>\n",
       "    <tr>\n",
       "      <th>1908</th>\n",
       "      <td>like</td>\n",
       "      <td>107</td>\n",
       "      <td>2.895805</td>\n",
       "    </tr>\n",
       "    <tr>\n",
       "      <th>3562</th>\n",
       "      <td>want</td>\n",
       "      <td>102</td>\n",
       "      <td>2.760487</td>\n",
       "    </tr>\n",
       "    <tr>\n",
       "      <th>1830</th>\n",
       "      <td>know</td>\n",
       "      <td>92</td>\n",
       "      <td>2.489851</td>\n",
       "    </tr>\n",
       "    <tr>\n",
       "      <th>1798</th>\n",
       "      <td>just</td>\n",
       "      <td>86</td>\n",
       "      <td>2.327470</td>\n",
       "    </tr>\n",
       "    <tr>\n",
       "      <th>2498</th>\n",
       "      <td>power</td>\n",
       "      <td>78</td>\n",
       "      <td>2.110961</td>\n",
       "    </tr>\n",
       "    <tr>\n",
       "      <th>2361</th>\n",
       "      <td>people</td>\n",
       "      <td>77</td>\n",
       "      <td>2.083897</td>\n",
       "    </tr>\n",
       "    <tr>\n",
       "      <th>2002</th>\n",
       "      <td>make</td>\n",
       "      <td>76</td>\n",
       "      <td>2.056834</td>\n",
       "    </tr>\n",
       "    <tr>\n",
       "      <th>2806</th>\n",
       "      <td>say</td>\n",
       "      <td>74</td>\n",
       "      <td>2.002706</td>\n",
       "    </tr>\n",
       "    <tr>\n",
       "      <th>58</th>\n",
       "      <td>ability</td>\n",
       "      <td>66</td>\n",
       "      <td>1.786198</td>\n",
       "    </tr>\n",
       "  </tbody>\n",
       "</table>\n",
       "</div>"
      ],
      "text/plain": [
       "         word  count      freq\n",
       "3335     time    172  4.654939\n",
       "1908     like    107  2.895805\n",
       "3562     want    102  2.760487\n",
       "1830     know     92  2.489851\n",
       "1798     just     86  2.327470\n",
       "2498    power     78  2.110961\n",
       "2361   people     77  2.083897\n",
       "2002     make     76  2.056834\n",
       "2806      say     74  2.002706\n",
       "58    ability     66  1.786198"
      ]
     },
     "execution_count": 44,
     "metadata": {},
     "output_type": "execute_result"
    }
   ],
   "source": [
    "# get top words in godtier_tf\n",
    "\n",
    "df_top_godtier = top_godtier.to_frame(name='count')\n",
    "df_top_godtier['word'] = df_top_godtier.index\n",
    "df_top_godtier.reset_index(drop=True, inplace=True)\n",
    "df_top_godtier['freq'] = df_top_godtier['count'] / len(df_top_godtier) * 100\n",
    "\n",
    "cols = ['word','count','freq']\n",
    "df_top_godtier = df_top_godtier[cols]\n",
    "df_top_godtier.sort_values(by='count',ascending=False, inplace=True)\n",
    "df_top_godtier.head(10)"
   ]
  },
  {
   "cell_type": "code",
   "execution_count": 45,
   "metadata": {},
   "outputs": [
    {
     "data": {
      "image/png": "[encoded data removed]",
      "text/plain": [
       "<Figure size 720x720 with 1 Axes>"
      ]
     },
     "metadata": {},
     "output_type": "display_data"
    }
   ],
   "source": [
    "# get duplicated words in both shitty and godtier\n",
    "\n",
    "plt.figure(figsize=(10,10))\n",
    "plt.title('Word Comparsion',fontsize=25)\n",
    "\n",
    "set_a = set(df_top_shitty['word'][:20])\n",
    "set_b = set(df_top_godtier['word'][:20])\n",
    "\n",
    "venn = venn2([set_a,set_b],set_labels=['shittysuperpowers','godtiersuperpowers'])\n",
    "\n",
    "venn.get_label_by_id('100').set_text('\\n'.join(map(str,set_a-set_b)))\n",
    "venn.get_label_by_id('110').set_text('\\n'.join(map(str,set_a&set_b)))\n",
    "venn.get_label_by_id('010').set_text('\\n'.join(map(str,set_b-set_a)))\n",
    "\n",
    "venn.get_label_by_id('A').set_size(20)\n",
    "venn.get_label_by_id('B').set_size(20)\n",
    "venn.get_label_by_id('100').set_size(13)\n",
    "venn.get_label_by_id('110').set_size(13)\n",
    "venn.get_label_by_id('010').set_size(13)"
   ]
  },
  {
   "cell_type": "code",
   "execution_count": 46,
   "metadata": {},
   "outputs": [],
   "source": [
    "# combine two subreddits into one dataframe\n",
    "\n",
    "df = pd.concat([shitty_df, godtier_df])"
   ]
  },
  {
   "cell_type": "code",
   "execution_count": 47,
   "metadata": {},
   "outputs": [
    {
     "data": {
      "text/html": [
       "<div>\n",
       "<style scoped>\n",
       "    .dataframe tbody tr th:only-of-type {\n",
       "        vertical-align: middle;\n",
       "    }\n",
       "\n",
       "    .dataframe tbody tr th {\n",
       "        vertical-align: top;\n",
       "    }\n",
       "\n",
       "    .dataframe thead th {\n",
       "        text-align: right;\n",
       "    }\n",
       "</style>\n",
       "<table border=\"1\" class=\"dataframe\">\n",
       "  <thead>\n",
       "    <tr style=\"text-align: right;\">\n",
       "      <th></th>\n",
       "      <th>subreddit</th>\n",
       "      <th>author</th>\n",
       "      <th>created_date</th>\n",
       "      <th>number_of_comments</th>\n",
       "      <th>upvotes</th>\n",
       "      <th>post</th>\n",
       "    </tr>\n",
       "  </thead>\n",
       "  <tbody>\n",
       "    <tr>\n",
       "      <th>0</th>\n",
       "      <td>shittysuperpowers</td>\n",
       "      <td>t2_6k7ehywh</td>\n",
       "      <td>2020-09-28 14:54:35</td>\n",
       "      <td>0</td>\n",
       "      <td>1</td>\n",
       "      <td>You never forget to buy eggs at the grocery st...</td>\n",
       "    </tr>\n",
       "    <tr>\n",
       "      <th>1</th>\n",
       "      <td>shittysuperpowers</td>\n",
       "      <td>t2_3mr4ydvf</td>\n",
       "      <td>2020-09-28 13:46:00</td>\n",
       "      <td>2</td>\n",
       "      <td>7</td>\n",
       "      <td>You can assemble any object from atoms by the ...</td>\n",
       "    </tr>\n",
       "    <tr>\n",
       "      <th>2</th>\n",
       "      <td>shittysuperpowers</td>\n",
       "      <td>t2_3dbj9gpi</td>\n",
       "      <td>2020-09-28 13:21:37</td>\n",
       "      <td>0</td>\n",
       "      <td>4</td>\n",
       "      <td>You have small visions of a person who is visu...</td>\n",
       "    </tr>\n",
       "    <tr>\n",
       "      <th>3</th>\n",
       "      <td>shittysuperpowers</td>\n",
       "      <td>t2_4ku4ofh1</td>\n",
       "      <td>2020-09-28 13:20:13</td>\n",
       "      <td>1</td>\n",
       "      <td>5</td>\n",
       "      <td>Every time you sneeze, a random ant in a 50 me...</td>\n",
       "    </tr>\n",
       "    <tr>\n",
       "      <th>4</th>\n",
       "      <td>shittysuperpowers</td>\n",
       "      <td>t2_2vizqa9u</td>\n",
       "      <td>2020-09-28 13:12:35</td>\n",
       "      <td>0</td>\n",
       "      <td>7</td>\n",
       "      <td>Everytime you ring a bell an angel gets their ...</td>\n",
       "    </tr>\n",
       "  </tbody>\n",
       "</table>\n",
       "</div>"
      ],
      "text/plain": [
       "           subreddit       author         created_date  number_of_comments  \\\n",
       "0  shittysuperpowers  t2_6k7ehywh  2020-09-28 14:54:35                   0   \n",
       "1  shittysuperpowers  t2_3mr4ydvf  2020-09-28 13:46:00                   2   \n",
       "2  shittysuperpowers  t2_3dbj9gpi  2020-09-28 13:21:37                   0   \n",
       "3  shittysuperpowers  t2_4ku4ofh1  2020-09-28 13:20:13                   1   \n",
       "4  shittysuperpowers  t2_2vizqa9u  2020-09-28 13:12:35                   0   \n",
       "\n",
       "   upvotes                                               post  \n",
       "0        1  You never forget to buy eggs at the grocery st...  \n",
       "1        7  You can assemble any object from atoms by the ...  \n",
       "2        4  You have small visions of a person who is visu...  \n",
       "3        5  Every time you sneeze, a random ant in a 50 me...  \n",
       "4        7  Everytime you ring a bell an angel gets their ...  "
      ]
     },
     "execution_count": 47,
     "metadata": {},
     "output_type": "execute_result"
    }
   ],
   "source": [
    "df.head()"
   ]
  },
  {
   "cell_type": "code",
   "execution_count": 48,
   "metadata": {},
   "outputs": [
    {
     "data": {
      "text/plain": [
       "(1991, 6)"
      ]
     },
     "execution_count": 48,
     "metadata": {},
     "output_type": "execute_result"
    }
   ],
   "source": [
    "df.shape"
   ]
  },
  {
   "cell_type": "code",
   "execution_count": 49,
   "metadata": {},
   "outputs": [
    {
     "name": "stdout",
     "output_type": "stream",
     "text": [
      "<class 'pandas.core.frame.DataFrame'>\n",
      "Int64Index: 1991 entries, 0 to 991\n",
      "Data columns (total 6 columns):\n",
      " #   Column              Non-Null Count  Dtype \n",
      "---  ------              --------------  ----- \n",
      " 0   subreddit           1991 non-null   object\n",
      " 1   author              1990 non-null   object\n",
      " 2   created_date        1991 non-null   object\n",
      " 3   number_of_comments  1991 non-null   int64 \n",
      " 4   upvotes             1991 non-null   int64 \n",
      " 5   post                1991 non-null   object\n",
      "dtypes: int64(2), object(4)\n",
      "memory usage: 108.9+ KB\n"
     ]
    }
   ],
   "source": [
    "df.info()"
   ]
  },
  {
   "cell_type": "code",
   "execution_count": 50,
   "metadata": {},
   "outputs": [
    {
     "data": {
      "text/plain": [
       "subreddit             0\n",
       "author                1\n",
       "created_date          0\n",
       "number_of_comments    0\n",
       "upvotes               0\n",
       "post                  0\n",
       "dtype: int64"
      ]
     },
     "execution_count": 50,
     "metadata": {},
     "output_type": "execute_result"
    }
   ],
   "source": [
    "# check for nulls\n",
    "\n",
    "df.isnull().sum()"
   ]
  },
  {
   "cell_type": "code",
   "execution_count": 51,
   "metadata": {},
   "outputs": [
    {
     "data": {
      "text/html": [
       "<div>\n",
       "<style scoped>\n",
       "    .dataframe tbody tr th:only-of-type {\n",
       "        vertical-align: middle;\n",
       "    }\n",
       "\n",
       "    .dataframe tbody tr th {\n",
       "        vertical-align: top;\n",
       "    }\n",
       "\n",
       "    .dataframe thead th {\n",
       "        text-align: right;\n",
       "    }\n",
       "</style>\n",
       "<table border=\"1\" class=\"dataframe\">\n",
       "  <thead>\n",
       "    <tr style=\"text-align: right;\">\n",
       "      <th></th>\n",
       "      <th>subreddit</th>\n",
       "      <th>author</th>\n",
       "      <th>created_date</th>\n",
       "      <th>number_of_comments</th>\n",
       "      <th>upvotes</th>\n",
       "      <th>post</th>\n",
       "    </tr>\n",
       "  </thead>\n",
       "  <tbody>\n",
       "    <tr>\n",
       "      <th>701</th>\n",
       "      <td>godtiersuperpowers</td>\n",
       "      <td>NaN</td>\n",
       "      <td>2020-09-14 21:48:16</td>\n",
       "      <td>3</td>\n",
       "      <td>14</td>\n",
       "      <td>You can erase anything you want. But you have ...</td>\n",
       "    </tr>\n",
       "  </tbody>\n",
       "</table>\n",
       "</div>"
      ],
      "text/plain": [
       "              subreddit author         created_date  number_of_comments  \\\n",
       "701  godtiersuperpowers    NaN  2020-09-14 21:48:16                   3   \n",
       "\n",
       "     upvotes                                               post  \n",
       "701       14  You can erase anything you want. But you have ...  "
      ]
     },
     "execution_count": 51,
     "metadata": {},
     "output_type": "execute_result"
    }
   ],
   "source": [
    "# find nulls\n",
    "\n",
    "df[df.isna().any(axis=1)]"
   ]
  },
  {
   "cell_type": "code",
   "execution_count": 52,
   "metadata": {},
   "outputs": [],
   "source": [
    "# drop null\n",
    "\n",
    "df.dropna(axis=0, inplace=True)"
   ]
  },
  {
   "cell_type": "code",
   "execution_count": 53,
   "metadata": {},
   "outputs": [
    {
     "data": {
      "text/plain": [
       "0"
      ]
     },
     "execution_count": 53,
     "metadata": {},
     "output_type": "execute_result"
    }
   ],
   "source": [
    "df.isnull().sum().sum()"
   ]
  },
  {
   "cell_type": "code",
   "execution_count": 54,
   "metadata": {},
   "outputs": [
    {
     "data": {
      "text/plain": [
       "(1990, 6)"
      ]
     },
     "execution_count": 54,
     "metadata": {},
     "output_type": "execute_result"
    }
   ],
   "source": [
    "df.shape"
   ]
  },
  {
   "cell_type": "code",
   "execution_count": 55,
   "metadata": {},
   "outputs": [
    {
     "data": {
      "text/html": [
       "<div>\n",
       "<style scoped>\n",
       "    .dataframe tbody tr th:only-of-type {\n",
       "        vertical-align: middle;\n",
       "    }\n",
       "\n",
       "    .dataframe tbody tr th {\n",
       "        vertical-align: top;\n",
       "    }\n",
       "\n",
       "    .dataframe thead th {\n",
       "        text-align: right;\n",
       "    }\n",
       "</style>\n",
       "<table border=\"1\" class=\"dataframe\">\n",
       "  <thead>\n",
       "    <tr style=\"text-align: right;\">\n",
       "      <th></th>\n",
       "      <th>subreddit</th>\n",
       "      <th>author</th>\n",
       "      <th>created_date</th>\n",
       "      <th>number_of_comments</th>\n",
       "      <th>upvotes</th>\n",
       "      <th>post</th>\n",
       "    </tr>\n",
       "  </thead>\n",
       "  <tbody>\n",
       "    <tr>\n",
       "      <th>0</th>\n",
       "      <td>shittysuperpowers</td>\n",
       "      <td>t2_6k7ehywh</td>\n",
       "      <td>2020-09-28 14:54:35</td>\n",
       "      <td>0</td>\n",
       "      <td>1</td>\n",
       "      <td>You never forget to buy eggs at the grocery st...</td>\n",
       "    </tr>\n",
       "    <tr>\n",
       "      <th>1</th>\n",
       "      <td>shittysuperpowers</td>\n",
       "      <td>t2_3mr4ydvf</td>\n",
       "      <td>2020-09-28 13:46:00</td>\n",
       "      <td>2</td>\n",
       "      <td>7</td>\n",
       "      <td>You can assemble any object from atoms by the ...</td>\n",
       "    </tr>\n",
       "    <tr>\n",
       "      <th>2</th>\n",
       "      <td>shittysuperpowers</td>\n",
       "      <td>t2_3dbj9gpi</td>\n",
       "      <td>2020-09-28 13:21:37</td>\n",
       "      <td>0</td>\n",
       "      <td>4</td>\n",
       "      <td>You have small visions of a person who is visu...</td>\n",
       "    </tr>\n",
       "    <tr>\n",
       "      <th>3</th>\n",
       "      <td>shittysuperpowers</td>\n",
       "      <td>t2_4ku4ofh1</td>\n",
       "      <td>2020-09-28 13:20:13</td>\n",
       "      <td>1</td>\n",
       "      <td>5</td>\n",
       "      <td>Every time you sneeze, a random ant in a 50 me...</td>\n",
       "    </tr>\n",
       "    <tr>\n",
       "      <th>4</th>\n",
       "      <td>shittysuperpowers</td>\n",
       "      <td>t2_2vizqa9u</td>\n",
       "      <td>2020-09-28 13:12:35</td>\n",
       "      <td>0</td>\n",
       "      <td>7</td>\n",
       "      <td>Everytime you ring a bell an angel gets their ...</td>\n",
       "    </tr>\n",
       "  </tbody>\n",
       "</table>\n",
       "</div>"
      ],
      "text/plain": [
       "           subreddit       author         created_date  number_of_comments  \\\n",
       "0  shittysuperpowers  t2_6k7ehywh  2020-09-28 14:54:35                   0   \n",
       "1  shittysuperpowers  t2_3mr4ydvf  2020-09-28 13:46:00                   2   \n",
       "2  shittysuperpowers  t2_3dbj9gpi  2020-09-28 13:21:37                   0   \n",
       "3  shittysuperpowers  t2_4ku4ofh1  2020-09-28 13:20:13                   1   \n",
       "4  shittysuperpowers  t2_2vizqa9u  2020-09-28 13:12:35                   0   \n",
       "\n",
       "   upvotes                                               post  \n",
       "0        1  You never forget to buy eggs at the grocery st...  \n",
       "1        7  You can assemble any object from atoms by the ...  \n",
       "2        4  You have small visions of a person who is visu...  \n",
       "3        5  Every time you sneeze, a random ant in a 50 me...  \n",
       "4        7  Everytime you ring a bell an angel gets their ...  "
      ]
     },
     "execution_count": 55,
     "metadata": {},
     "output_type": "execute_result"
    }
   ],
   "source": [
    "df.head()"
   ]
  },
  {
   "cell_type": "markdown",
   "metadata": {},
   "source": [
    "### Feature Engineering"
   ]
  },
  {
   "cell_type": "code",
   "execution_count": 56,
   "metadata": {},
   "outputs": [],
   "source": [
    "# Create 'target' for classification\n",
    "df['target'] = df['subreddit'].map({'shittysuperpowers': 1, 'godtiersuperpowers': 0})"
   ]
  },
  {
   "cell_type": "code",
   "execution_count": 57,
   "metadata": {},
   "outputs": [
    {
     "data": {
      "text/html": [
       "<div>\n",
       "<style scoped>\n",
       "    .dataframe tbody tr th:only-of-type {\n",
       "        vertical-align: middle;\n",
       "    }\n",
       "\n",
       "    .dataframe tbody tr th {\n",
       "        vertical-align: top;\n",
       "    }\n",
       "\n",
       "    .dataframe thead th {\n",
       "        text-align: right;\n",
       "    }\n",
       "</style>\n",
       "<table border=\"1\" class=\"dataframe\">\n",
       "  <thead>\n",
       "    <tr style=\"text-align: right;\">\n",
       "      <th></th>\n",
       "      <th>subreddit</th>\n",
       "      <th>author</th>\n",
       "      <th>created_date</th>\n",
       "      <th>number_of_comments</th>\n",
       "      <th>upvotes</th>\n",
       "      <th>post</th>\n",
       "      <th>target</th>\n",
       "    </tr>\n",
       "  </thead>\n",
       "  <tbody>\n",
       "    <tr>\n",
       "      <th>0</th>\n",
       "      <td>shittysuperpowers</td>\n",
       "      <td>t2_6k7ehywh</td>\n",
       "      <td>2020-09-28 14:54:35</td>\n",
       "      <td>0</td>\n",
       "      <td>1</td>\n",
       "      <td>You never forget to buy eggs at the grocery st...</td>\n",
       "      <td>1</td>\n",
       "    </tr>\n",
       "    <tr>\n",
       "      <th>1</th>\n",
       "      <td>shittysuperpowers</td>\n",
       "      <td>t2_3mr4ydvf</td>\n",
       "      <td>2020-09-28 13:46:00</td>\n",
       "      <td>2</td>\n",
       "      <td>7</td>\n",
       "      <td>You can assemble any object from atoms by the ...</td>\n",
       "      <td>1</td>\n",
       "    </tr>\n",
       "    <tr>\n",
       "      <th>2</th>\n",
       "      <td>shittysuperpowers</td>\n",
       "      <td>t2_3dbj9gpi</td>\n",
       "      <td>2020-09-28 13:21:37</td>\n",
       "      <td>0</td>\n",
       "      <td>4</td>\n",
       "      <td>You have small visions of a person who is visu...</td>\n",
       "      <td>1</td>\n",
       "    </tr>\n",
       "    <tr>\n",
       "      <th>3</th>\n",
       "      <td>shittysuperpowers</td>\n",
       "      <td>t2_4ku4ofh1</td>\n",
       "      <td>2020-09-28 13:20:13</td>\n",
       "      <td>1</td>\n",
       "      <td>5</td>\n",
       "      <td>Every time you sneeze, a random ant in a 50 me...</td>\n",
       "      <td>1</td>\n",
       "    </tr>\n",
       "    <tr>\n",
       "      <th>4</th>\n",
       "      <td>shittysuperpowers</td>\n",
       "      <td>t2_2vizqa9u</td>\n",
       "      <td>2020-09-28 13:12:35</td>\n",
       "      <td>0</td>\n",
       "      <td>7</td>\n",
       "      <td>Everytime you ring a bell an angel gets their ...</td>\n",
       "      <td>1</td>\n",
       "    </tr>\n",
       "  </tbody>\n",
       "</table>\n",
       "</div>"
      ],
      "text/plain": [
       "           subreddit       author         created_date  number_of_comments  \\\n",
       "0  shittysuperpowers  t2_6k7ehywh  2020-09-28 14:54:35                   0   \n",
       "1  shittysuperpowers  t2_3mr4ydvf  2020-09-28 13:46:00                   2   \n",
       "2  shittysuperpowers  t2_3dbj9gpi  2020-09-28 13:21:37                   0   \n",
       "3  shittysuperpowers  t2_4ku4ofh1  2020-09-28 13:20:13                   1   \n",
       "4  shittysuperpowers  t2_2vizqa9u  2020-09-28 13:12:35                   0   \n",
       "\n",
       "   upvotes                                               post  target  \n",
       "0        1  You never forget to buy eggs at the grocery st...       1  \n",
       "1        7  You can assemble any object from atoms by the ...       1  \n",
       "2        4  You have small visions of a person who is visu...       1  \n",
       "3        5  Every time you sneeze, a random ant in a 50 me...       1  \n",
       "4        7  Everytime you ring a bell an angel gets their ...       1  "
      ]
     },
     "execution_count": 57,
     "metadata": {},
     "output_type": "execute_result"
    }
   ],
   "source": [
    "df.head()"
   ]
  },
  {
   "cell_type": "code",
   "execution_count": 58,
   "metadata": {},
   "outputs": [
    {
     "data": {
      "text/plain": [
       "shittysuperpowers     999\n",
       "godtiersuperpowers    991\n",
       "Name: subreddit, dtype: int64"
      ]
     },
     "execution_count": 58,
     "metadata": {},
     "output_type": "execute_result"
    }
   ],
   "source": [
    "df['subreddit'].value_counts()"
   ]
  },
  {
   "cell_type": "markdown",
   "metadata": {},
   "source": [
    "## Exploratory Data Analysis"
   ]
  },
  {
   "cell_type": "code",
   "execution_count": 59,
   "metadata": {},
   "outputs": [
    {
     "data": {
      "text/html": [
       "<div>\n",
       "<style scoped>\n",
       "    .dataframe tbody tr th:only-of-type {\n",
       "        vertical-align: middle;\n",
       "    }\n",
       "\n",
       "    .dataframe tbody tr th {\n",
       "        vertical-align: top;\n",
       "    }\n",
       "\n",
       "    .dataframe thead th {\n",
       "        text-align: right;\n",
       "    }\n",
       "</style>\n",
       "<table border=\"1\" class=\"dataframe\">\n",
       "  <thead>\n",
       "    <tr style=\"text-align: right;\">\n",
       "      <th></th>\n",
       "      <th>number_of_comments</th>\n",
       "      <th>upvotes</th>\n",
       "      <th>target</th>\n",
       "    </tr>\n",
       "  </thead>\n",
       "  <tbody>\n",
       "    <tr>\n",
       "      <th>count</th>\n",
       "      <td>1990.000000</td>\n",
       "      <td>1990.000000</td>\n",
       "      <td>1990.000000</td>\n",
       "    </tr>\n",
       "    <tr>\n",
       "      <th>mean</th>\n",
       "      <td>7.876382</td>\n",
       "      <td>207.969849</td>\n",
       "      <td>0.502010</td>\n",
       "    </tr>\n",
       "    <tr>\n",
       "      <th>std</th>\n",
       "      <td>37.967595</td>\n",
       "      <td>1331.736651</td>\n",
       "      <td>0.500122</td>\n",
       "    </tr>\n",
       "    <tr>\n",
       "      <th>min</th>\n",
       "      <td>0.000000</td>\n",
       "      <td>0.000000</td>\n",
       "      <td>0.000000</td>\n",
       "    </tr>\n",
       "    <tr>\n",
       "      <th>25%</th>\n",
       "      <td>1.000000</td>\n",
       "      <td>6.000000</td>\n",
       "      <td>0.000000</td>\n",
       "    </tr>\n",
       "    <tr>\n",
       "      <th>50%</th>\n",
       "      <td>2.000000</td>\n",
       "      <td>12.000000</td>\n",
       "      <td>1.000000</td>\n",
       "    </tr>\n",
       "    <tr>\n",
       "      <th>75%</th>\n",
       "      <td>5.000000</td>\n",
       "      <td>21.000000</td>\n",
       "      <td>1.000000</td>\n",
       "    </tr>\n",
       "    <tr>\n",
       "      <th>max</th>\n",
       "      <td>837.000000</td>\n",
       "      <td>13927.000000</td>\n",
       "      <td>1.000000</td>\n",
       "    </tr>\n",
       "  </tbody>\n",
       "</table>\n",
       "</div>"
      ],
      "text/plain": [
       "       number_of_comments       upvotes       target\n",
       "count         1990.000000   1990.000000  1990.000000\n",
       "mean             7.876382    207.969849     0.502010\n",
       "std             37.967595   1331.736651     0.500122\n",
       "min              0.000000      0.000000     0.000000\n",
       "25%              1.000000      6.000000     0.000000\n",
       "50%              2.000000     12.000000     1.000000\n",
       "75%              5.000000     21.000000     1.000000\n",
       "max            837.000000  13927.000000     1.000000"
      ]
     },
     "execution_count": 59,
     "metadata": {},
     "output_type": "execute_result"
    }
   ],
   "source": [
    "df.describe()"
   ]
  },
  {
   "cell_type": "markdown",
   "metadata": {},
   "source": [
    "### Create Distribution Plot for Numerical Variables"
   ]
  },
  {
   "cell_type": "code",
   "execution_count": 60,
   "metadata": {},
   "outputs": [
    {
     "data": {
      "image/png": "[encoded data removed]",
      "text/plain": [
       "<Figure size 1152x360 with 1 Axes>"
      ]
     },
     "metadata": {},
     "output_type": "display_data"
    }
   ],
   "source": [
    "# Create distribution plot for number of comments\n",
    "plt.figure(figsize=(16,5))\n",
    "plt.title('Distribution of number of comments', size=16, pad=10)\n",
    "\n",
    "sns.distplot(df['number_of_comments'])\n",
    "plt.axvline(df['number_of_comments'].mean(), color='r', )\n",
    "\n",
    "plt.xlabel('Number of comments', size=14)\n",
    "plt.ylabel('Frequency', size=14)\n",
    "\n",
    "plt.xticks(size=12)\n",
    "plt.yticks(size=12);"
   ]
  },
  {
   "cell_type": "markdown",
   "metadata": {},
   "source": [
    "The average number comments each post is 7.9 words. The distrubution mainaly focus on near average number. No outliers identified."
   ]
  },
  {
   "cell_type": "code",
   "execution_count": 61,
   "metadata": {},
   "outputs": [
    {
     "data": {
      "image/png": "[encoded data removed]",
      "text/plain": [
       "<Figure size 1152x360 with 1 Axes>"
      ]
     },
     "metadata": {},
     "output_type": "display_data"
    }
   ],
   "source": [
    "# Create distribution plot for Distribution of Upvotes\n",
    "plt.figure(figsize=(16,5))\n",
    "plt.title('Distribution of Upvotes', size=16, pad=10)\n",
    "\n",
    "sns.distplot(df['upvotes'])\n",
    "plt.axvline(df['upvotes'].mean(), color='r', )\n",
    "\n",
    "plt.xlabel('Number of Upvotes', size=14)\n",
    "plt.ylabel('Frequency', size=14)\n",
    "\n",
    "plt.xticks(size=12)\n",
    "plt.yticks(size=12);"
   ]
  },
  {
   "cell_type": "markdown",
   "metadata": {},
   "source": [
    "The average number of upvotes each post is 208 upvotes. The distrubution mainaly focus on near average number. No outliers identified."
   ]
  },
  {
   "cell_type": "markdown",
   "metadata": {},
   "source": [
    "After the Exploratory Data Analysis, we have learned that this is no conclusive information from the charts above and the features are irrelavent. Hence, we can drop these columns."
   ]
  },
  {
   "cell_type": "code",
   "execution_count": 62,
   "metadata": {},
   "outputs": [
    {
     "data": {
      "text/html": [
       "<div>\n",
       "<style scoped>\n",
       "    .dataframe tbody tr th:only-of-type {\n",
       "        vertical-align: middle;\n",
       "    }\n",
       "\n",
       "    .dataframe tbody tr th {\n",
       "        vertical-align: top;\n",
       "    }\n",
       "\n",
       "    .dataframe thead th {\n",
       "        text-align: right;\n",
       "    }\n",
       "</style>\n",
       "<table border=\"1\" class=\"dataframe\">\n",
       "  <thead>\n",
       "    <tr style=\"text-align: right;\">\n",
       "      <th></th>\n",
       "      <th>subreddit</th>\n",
       "      <th>author</th>\n",
       "      <th>created_date</th>\n",
       "      <th>number_of_comments</th>\n",
       "      <th>upvotes</th>\n",
       "      <th>post</th>\n",
       "      <th>target</th>\n",
       "    </tr>\n",
       "  </thead>\n",
       "  <tbody>\n",
       "    <tr>\n",
       "      <th>0</th>\n",
       "      <td>shittysuperpowers</td>\n",
       "      <td>t2_6k7ehywh</td>\n",
       "      <td>2020-09-28 14:54:35</td>\n",
       "      <td>0</td>\n",
       "      <td>1</td>\n",
       "      <td>You never forget to buy eggs at the grocery st...</td>\n",
       "      <td>1</td>\n",
       "    </tr>\n",
       "    <tr>\n",
       "      <th>1</th>\n",
       "      <td>shittysuperpowers</td>\n",
       "      <td>t2_3mr4ydvf</td>\n",
       "      <td>2020-09-28 13:46:00</td>\n",
       "      <td>2</td>\n",
       "      <td>7</td>\n",
       "      <td>You can assemble any object from atoms by the ...</td>\n",
       "      <td>1</td>\n",
       "    </tr>\n",
       "    <tr>\n",
       "      <th>2</th>\n",
       "      <td>shittysuperpowers</td>\n",
       "      <td>t2_3dbj9gpi</td>\n",
       "      <td>2020-09-28 13:21:37</td>\n",
       "      <td>0</td>\n",
       "      <td>4</td>\n",
       "      <td>You have small visions of a person who is visu...</td>\n",
       "      <td>1</td>\n",
       "    </tr>\n",
       "    <tr>\n",
       "      <th>3</th>\n",
       "      <td>shittysuperpowers</td>\n",
       "      <td>t2_4ku4ofh1</td>\n",
       "      <td>2020-09-28 13:20:13</td>\n",
       "      <td>1</td>\n",
       "      <td>5</td>\n",
       "      <td>Every time you sneeze, a random ant in a 50 me...</td>\n",
       "      <td>1</td>\n",
       "    </tr>\n",
       "    <tr>\n",
       "      <th>4</th>\n",
       "      <td>shittysuperpowers</td>\n",
       "      <td>t2_2vizqa9u</td>\n",
       "      <td>2020-09-28 13:12:35</td>\n",
       "      <td>0</td>\n",
       "      <td>7</td>\n",
       "      <td>Everytime you ring a bell an angel gets their ...</td>\n",
       "      <td>1</td>\n",
       "    </tr>\n",
       "  </tbody>\n",
       "</table>\n",
       "</div>"
      ],
      "text/plain": [
       "           subreddit       author         created_date  number_of_comments  \\\n",
       "0  shittysuperpowers  t2_6k7ehywh  2020-09-28 14:54:35                   0   \n",
       "1  shittysuperpowers  t2_3mr4ydvf  2020-09-28 13:46:00                   2   \n",
       "2  shittysuperpowers  t2_3dbj9gpi  2020-09-28 13:21:37                   0   \n",
       "3  shittysuperpowers  t2_4ku4ofh1  2020-09-28 13:20:13                   1   \n",
       "4  shittysuperpowers  t2_2vizqa9u  2020-09-28 13:12:35                   0   \n",
       "\n",
       "   upvotes                                               post  target  \n",
       "0        1  You never forget to buy eggs at the grocery st...       1  \n",
       "1        7  You can assemble any object from atoms by the ...       1  \n",
       "2        4  You have small visions of a person who is visu...       1  \n",
       "3        5  Every time you sneeze, a random ant in a 50 me...       1  \n",
       "4        7  Everytime you ring a bell an angel gets their ...       1  "
      ]
     },
     "execution_count": 62,
     "metadata": {},
     "output_type": "execute_result"
    }
   ],
   "source": [
    "df.head()"
   ]
  },
  {
   "cell_type": "code",
   "execution_count": 63,
   "metadata": {},
   "outputs": [],
   "source": [
    "df.drop(columns=['subreddit', 'author', 'created_date', 'number_of_comments', 'upvotes'], axis=1, inplace=True)"
   ]
  },
  {
   "cell_type": "code",
   "execution_count": 64,
   "metadata": {},
   "outputs": [
    {
     "data": {
      "text/html": [
       "<div>\n",
       "<style scoped>\n",
       "    .dataframe tbody tr th:only-of-type {\n",
       "        vertical-align: middle;\n",
       "    }\n",
       "\n",
       "    .dataframe tbody tr th {\n",
       "        vertical-align: top;\n",
       "    }\n",
       "\n",
       "    .dataframe thead th {\n",
       "        text-align: right;\n",
       "    }\n",
       "</style>\n",
       "<table border=\"1\" class=\"dataframe\">\n",
       "  <thead>\n",
       "    <tr style=\"text-align: right;\">\n",
       "      <th></th>\n",
       "      <th>post</th>\n",
       "      <th>target</th>\n",
       "    </tr>\n",
       "  </thead>\n",
       "  <tbody>\n",
       "    <tr>\n",
       "      <th>0</th>\n",
       "      <td>You never forget to buy eggs at the grocery st...</td>\n",
       "      <td>1</td>\n",
       "    </tr>\n",
       "    <tr>\n",
       "      <th>1</th>\n",
       "      <td>You can assemble any object from atoms by the ...</td>\n",
       "      <td>1</td>\n",
       "    </tr>\n",
       "    <tr>\n",
       "      <th>2</th>\n",
       "      <td>You have small visions of a person who is visu...</td>\n",
       "      <td>1</td>\n",
       "    </tr>\n",
       "    <tr>\n",
       "      <th>3</th>\n",
       "      <td>Every time you sneeze, a random ant in a 50 me...</td>\n",
       "      <td>1</td>\n",
       "    </tr>\n",
       "    <tr>\n",
       "      <th>4</th>\n",
       "      <td>Everytime you ring a bell an angel gets their ...</td>\n",
       "      <td>1</td>\n",
       "    </tr>\n",
       "  </tbody>\n",
       "</table>\n",
       "</div>"
      ],
      "text/plain": [
       "                                                post  target\n",
       "0  You never forget to buy eggs at the grocery st...       1\n",
       "1  You can assemble any object from atoms by the ...       1\n",
       "2  You have small visions of a person who is visu...       1\n",
       "3  Every time you sneeze, a random ant in a 50 me...       1\n",
       "4  Everytime you ring a bell an angel gets their ...       1"
      ]
     },
     "execution_count": 64,
     "metadata": {},
     "output_type": "execute_result"
    }
   ],
   "source": [
    "df.head()"
   ]
  },
  {
   "cell_type": "code",
   "execution_count": 65,
   "metadata": {},
   "outputs": [],
   "source": [
    "pd.DataFrame(df).to_csv('../data/df_clean.csv')"
   ]
  }
 ],
 "metadata": {
  "kernelspec": {
   "display_name": "Python 3",
   "language": "python",
   "name": "python3"
  },
  "language_info": {
   "codemirror_mode": {
    "name": "ipython",
    "version": 3
   },
   "file_extension": ".py",
   "mimetype": "text/x-python",
   "name": "python",
   "nbconvert_exporter": "python",
   "pygments_lexer": "ipython3",
   "version": "3.8.3"
  }
 },
 "nbformat": 4,
 "nbformat_minor": 4
}
