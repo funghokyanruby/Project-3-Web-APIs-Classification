{
 "cells": [
  {
   "cell_type": "markdown",
   "metadata": {},
   "source": [
    "![Marvel Logo](https://www.regmovies.com/static/dam/jcr:5914096c-fc7c-4fda-ace5-f46c1744faa7/MARVEL-title_Small.jpg)"
   ]
  },
  {
   "cell_type": "markdown",
   "metadata": {},
   "source": [
    "# Project 3: Web APIs & Classification"
   ]
  },
  {
   "cell_type": "markdown",
   "metadata": {},
   "source": [
    "## 3. Preprocessing & Modeling"
   ]
  },
  {
   "cell_type": "code",
   "execution_count": 1,
   "metadata": {},
   "outputs": [],
   "source": [
    "# import libraries\n",
    "import pandas as pd\n",
    "import numpy as np\n",
    "import seaborn as sns\n",
    "import matplotlib.pyplot as plt\n",
    "%matplotlib inline\n",
    "\n",
    "from sklearn.preprocessing import StandardScaler\n",
    "from sklearn.metrics import classification_report\n",
    "from sklearn.pipeline import Pipeline\n",
    "from sklearn.feature_extraction.text import CountVectorizer, TfidfVectorizer\n",
    "from sklearn.model_selection import train_test_split, cross_val_score, GridSearchCV, RandomizedSearchCV\n",
    "from sklearn.linear_model import LogisticRegression\n",
    "from sklearn.neighbors import KNeighborsClassifier\n",
    "from sklearn.naive_bayes import MultinomialNB\n",
    "from sklearn.tree import DecisionTreeClassifier\n",
    "from sklearn.metrics import confusion_matrix\n",
    "from sklearn.metrics import accuracy_score\n",
    "\n",
    "import nltk\n",
    "from nltk.corpus import stopwords\n",
    "from nltk.tokenize import RegexpTokenizer, word_tokenize\n",
    "from nltk import WordNetLemmatizer\n",
    "from nltk.stem import PorterStemmer"
   ]
  },
  {
   "cell_type": "markdown",
   "metadata": {},
   "source": [
    "### Load Clean Data"
   ]
  },
  {
   "cell_type": "code",
   "execution_count": 2,
   "metadata": {},
   "outputs": [],
   "source": [
    "df = pd.read_csv('../data/df_clean.csv')"
   ]
  },
  {
   "cell_type": "code",
   "execution_count": 3,
   "metadata": {},
   "outputs": [
    {
     "data": {
      "text/plain": [
       "(1990, 3)"
      ]
     },
     "execution_count": 3,
     "metadata": {},
     "output_type": "execute_result"
    }
   ],
   "source": [
    "df.shape"
   ]
  },
  {
   "cell_type": "code",
   "execution_count": 4,
   "metadata": {},
   "outputs": [
    {
     "data": {
      "text/html": [
       "<div>\n",
       "<style scoped>\n",
       "    .dataframe tbody tr th:only-of-type {\n",
       "        vertical-align: middle;\n",
       "    }\n",
       "\n",
       "    .dataframe tbody tr th {\n",
       "        vertical-align: top;\n",
       "    }\n",
       "\n",
       "    .dataframe thead th {\n",
       "        text-align: right;\n",
       "    }\n",
       "</style>\n",
       "<table border=\"1\" class=\"dataframe\">\n",
       "  <thead>\n",
       "    <tr style=\"text-align: right;\">\n",
       "      <th></th>\n",
       "      <th>Unnamed: 0</th>\n",
       "      <th>post</th>\n",
       "      <th>target</th>\n",
       "    </tr>\n",
       "  </thead>\n",
       "  <tbody>\n",
       "    <tr>\n",
       "      <th>0</th>\n",
       "      <td>0</td>\n",
       "      <td>You never forget to buy eggs at the grocery st...</td>\n",
       "      <td>1</td>\n",
       "    </tr>\n",
       "    <tr>\n",
       "      <th>1</th>\n",
       "      <td>1</td>\n",
       "      <td>You can assemble any object from atoms by the ...</td>\n",
       "      <td>1</td>\n",
       "    </tr>\n",
       "    <tr>\n",
       "      <th>2</th>\n",
       "      <td>2</td>\n",
       "      <td>You have small visions of a person who is visu...</td>\n",
       "      <td>1</td>\n",
       "    </tr>\n",
       "    <tr>\n",
       "      <th>3</th>\n",
       "      <td>3</td>\n",
       "      <td>Every time you sneeze, a random ant in a 50 me...</td>\n",
       "      <td>1</td>\n",
       "    </tr>\n",
       "    <tr>\n",
       "      <th>4</th>\n",
       "      <td>4</td>\n",
       "      <td>Everytime you ring a bell an angel gets their ...</td>\n",
       "      <td>1</td>\n",
       "    </tr>\n",
       "  </tbody>\n",
       "</table>\n",
       "</div>"
      ],
      "text/plain": [
       "   Unnamed: 0                                               post  target\n",
       "0           0  You never forget to buy eggs at the grocery st...       1\n",
       "1           1  You can assemble any object from atoms by the ...       1\n",
       "2           2  You have small visions of a person who is visu...       1\n",
       "3           3  Every time you sneeze, a random ant in a 50 me...       1\n",
       "4           4  Everytime you ring a bell an angel gets their ...       1"
      ]
     },
     "execution_count": 4,
     "metadata": {},
     "output_type": "execute_result"
    }
   ],
   "source": [
    "df.head()"
   ]
  },
  {
   "cell_type": "code",
   "execution_count": 5,
   "metadata": {},
   "outputs": [],
   "source": [
    "# drop Unnamed: 0 column\n",
    "\n",
    "df.drop('Unnamed: 0', axis=1, inplace=True)"
   ]
  },
  {
   "cell_type": "code",
   "execution_count": 6,
   "metadata": {},
   "outputs": [
    {
     "data": {
      "text/html": [
       "<div>\n",
       "<style scoped>\n",
       "    .dataframe tbody tr th:only-of-type {\n",
       "        vertical-align: middle;\n",
       "    }\n",
       "\n",
       "    .dataframe tbody tr th {\n",
       "        vertical-align: top;\n",
       "    }\n",
       "\n",
       "    .dataframe thead th {\n",
       "        text-align: right;\n",
       "    }\n",
       "</style>\n",
       "<table border=\"1\" class=\"dataframe\">\n",
       "  <thead>\n",
       "    <tr style=\"text-align: right;\">\n",
       "      <th></th>\n",
       "      <th>post</th>\n",
       "      <th>target</th>\n",
       "    </tr>\n",
       "  </thead>\n",
       "  <tbody>\n",
       "    <tr>\n",
       "      <th>0</th>\n",
       "      <td>You never forget to buy eggs at the grocery st...</td>\n",
       "      <td>1</td>\n",
       "    </tr>\n",
       "    <tr>\n",
       "      <th>1</th>\n",
       "      <td>You can assemble any object from atoms by the ...</td>\n",
       "      <td>1</td>\n",
       "    </tr>\n",
       "    <tr>\n",
       "      <th>2</th>\n",
       "      <td>You have small visions of a person who is visu...</td>\n",
       "      <td>1</td>\n",
       "    </tr>\n",
       "    <tr>\n",
       "      <th>3</th>\n",
       "      <td>Every time you sneeze, a random ant in a 50 me...</td>\n",
       "      <td>1</td>\n",
       "    </tr>\n",
       "    <tr>\n",
       "      <th>4</th>\n",
       "      <td>Everytime you ring a bell an angel gets their ...</td>\n",
       "      <td>1</td>\n",
       "    </tr>\n",
       "  </tbody>\n",
       "</table>\n",
       "</div>"
      ],
      "text/plain": [
       "                                                post  target\n",
       "0  You never forget to buy eggs at the grocery st...       1\n",
       "1  You can assemble any object from atoms by the ...       1\n",
       "2  You have small visions of a person who is visu...       1\n",
       "3  Every time you sneeze, a random ant in a 50 me...       1\n",
       "4  Everytime you ring a bell an angel gets their ...       1"
      ]
     },
     "execution_count": 6,
     "metadata": {},
     "output_type": "execute_result"
    }
   ],
   "source": [
    "df.head()"
   ]
  },
  {
   "cell_type": "code",
   "execution_count": 7,
   "metadata": {},
   "outputs": [
    {
     "data": {
      "text/plain": [
       "(1990, 2)"
      ]
     },
     "execution_count": 7,
     "metadata": {},
     "output_type": "execute_result"
    }
   ],
   "source": [
    "df.shape"
   ]
  },
  {
   "cell_type": "markdown",
   "metadata": {},
   "source": [
    "## Baseline accuracy\n",
    "---\n",
    "\n",
    "We need to calculate baseline accuracy in order to tell if our model is outperforming the null model (predicting the majority class)."
   ]
  },
  {
   "cell_type": "code",
   "execution_count": 8,
   "metadata": {},
   "outputs": [
    {
     "data": {
      "text/plain": [
       "1    0.50201\n",
       "0    0.49799\n",
       "Name: target, dtype: float64"
      ]
     },
     "execution_count": 8,
     "metadata": {},
     "output_type": "execute_result"
    }
   ],
   "source": [
    "df['target'].value_counts(normalize=True)"
   ]
  },
  {
   "cell_type": "code",
   "execution_count": 9,
   "metadata": {},
   "outputs": [
    {
     "data": {
      "text/plain": [
       "0.5020100502512563"
      ]
     },
     "execution_count": 9,
     "metadata": {},
     "output_type": "execute_result"
    }
   ],
   "source": [
    "max(np.mean(df['target']), 1 - np.mean(df['target']))"
   ]
  },
  {
   "cell_type": "markdown",
   "metadata": {},
   "source": [
    "As a result, our baseline model accuracy is 50.2%. That means we have a 50.2% of chance in correctly guessing whether a submission is from the shittysuperpowers subreddit or not."
   ]
  },
  {
   "cell_type": "markdown",
   "metadata": {},
   "source": [
    "## Preprocessing"
   ]
  },
  {
   "cell_type": "markdown",
   "metadata": {},
   "source": [
    "### Tokenizing"
   ]
  },
  {
   "cell_type": "code",
   "execution_count": 10,
   "metadata": {},
   "outputs": [
    {
     "data": {
      "text/html": [
       "<div>\n",
       "<style scoped>\n",
       "    .dataframe tbody tr th:only-of-type {\n",
       "        vertical-align: middle;\n",
       "    }\n",
       "\n",
       "    .dataframe tbody tr th {\n",
       "        vertical-align: top;\n",
       "    }\n",
       "\n",
       "    .dataframe thead th {\n",
       "        text-align: right;\n",
       "    }\n",
       "</style>\n",
       "<table border=\"1\" class=\"dataframe\">\n",
       "  <thead>\n",
       "    <tr style=\"text-align: right;\">\n",
       "      <th></th>\n",
       "      <th>post</th>\n",
       "      <th>target</th>\n",
       "    </tr>\n",
       "  </thead>\n",
       "  <tbody>\n",
       "    <tr>\n",
       "      <th>0</th>\n",
       "      <td>You never forget to buy eggs at the grocery st...</td>\n",
       "      <td>1</td>\n",
       "    </tr>\n",
       "    <tr>\n",
       "      <th>1</th>\n",
       "      <td>You can assemble any object from atoms by the ...</td>\n",
       "      <td>1</td>\n",
       "    </tr>\n",
       "    <tr>\n",
       "      <th>2</th>\n",
       "      <td>You have small visions of a person who is visu...</td>\n",
       "      <td>1</td>\n",
       "    </tr>\n",
       "    <tr>\n",
       "      <th>3</th>\n",
       "      <td>Every time you sneeze, a random ant in a 50 me...</td>\n",
       "      <td>1</td>\n",
       "    </tr>\n",
       "    <tr>\n",
       "      <th>4</th>\n",
       "      <td>Everytime you ring a bell an angel gets their ...</td>\n",
       "      <td>1</td>\n",
       "    </tr>\n",
       "  </tbody>\n",
       "</table>\n",
       "</div>"
      ],
      "text/plain": [
       "                                                post  target\n",
       "0  You never forget to buy eggs at the grocery st...       1\n",
       "1  You can assemble any object from atoms by the ...       1\n",
       "2  You have small visions of a person who is visu...       1\n",
       "3  Every time you sneeze, a random ant in a 50 me...       1\n",
       "4  Everytime you ring a bell an angel gets their ...       1"
      ]
     },
     "execution_count": 10,
     "metadata": {},
     "output_type": "execute_result"
    }
   ],
   "source": [
    "df.head()"
   ]
  },
  {
   "cell_type": "code",
   "execution_count": 11,
   "metadata": {},
   "outputs": [],
   "source": [
    "# Import Tokenizer\n",
    "from nltk.tokenize import RegexpTokenizer"
   ]
  },
  {
   "cell_type": "code",
   "execution_count": 12,
   "metadata": {},
   "outputs": [],
   "source": [
    "# Instantiate Tokenizer\n",
    "tokenizer = RegexpTokenizer(r'\\w+')"
   ]
  },
  {
   "cell_type": "code",
   "execution_count": 13,
   "metadata": {},
   "outputs": [],
   "source": [
    "df['token'] = df['post'].map(lambda x: tokenizer.tokenize(x.lower()))"
   ]
  },
  {
   "cell_type": "code",
   "execution_count": 14,
   "metadata": {},
   "outputs": [
    {
     "data": {
      "text/plain": [
       "['you',\n",
       " 'never',\n",
       " 'forget',\n",
       " 'to',\n",
       " 'buy',\n",
       " 'eggs',\n",
       " 'at',\n",
       " 'the',\n",
       " 'grocery',\n",
       " 'store']"
      ]
     },
     "execution_count": 14,
     "metadata": {},
     "output_type": "execute_result"
    }
   ],
   "source": [
    "df['token'][0][:15]"
   ]
  },
  {
   "cell_type": "markdown",
   "metadata": {},
   "source": [
    "### Remove stopwords"
   ]
  },
  {
   "cell_type": "code",
   "execution_count": 15,
   "metadata": {},
   "outputs": [
    {
     "name": "stderr",
     "output_type": "stream",
     "text": [
      "[nltk_data] Downloading package stopwords to\n",
      "[nltk_data]     /Users/rubyfung/nltk_data...\n",
      "[nltk_data]   Package stopwords is already up-to-date!\n"
     ]
    },
    {
     "data": {
      "text/plain": [
       "True"
      ]
     },
     "execution_count": 15,
     "metadata": {},
     "output_type": "execute_result"
    }
   ],
   "source": [
    "nltk.download('stopwords')  "
   ]
  },
  {
   "cell_type": "code",
   "execution_count": 16,
   "metadata": {},
   "outputs": [
    {
     "name": "stdout",
     "output_type": "stream",
     "text": [
      "{'yourselves', 'is', \"it's\", 'when', 'own', 'ain', 'nor', 'from', \"mustn't\", 'haven', \"doesn't\", 'with', 'where', \"shan't\", 'such', \"that'll\", 'their', 'while', 'off', 'who', 'once', 'few', \"don't\", 'them', 't', 'the', \"you'll\", 'between', 'most', 'did', 'his', \"hadn't\", 'in', 'herself', 'that', 'just', 'y', 'you', 'yours', 'am', 'again', \"won't\", 'he', 'shouldn', 'does', 'our', 'don', 'ma', 'then', \"isn't\", 'very', 'wasn', 'if', 'm', 'couldn', 'have', 'same', 'll', \"needn't\", 'themselves', 'will', 'hers', 'out', 'down', 'those', \"wouldn't\", 'about', 'didn', \"weren't\", 'should', \"hasn't\", 'all', 'some', 'for', 'whom', 'hasn', \"you'd\", 've', 'himself', 'now', 's', 'myself', 'into', 'both', 'can', \"she's\", 'hadn', 'as', \"shouldn't\", 'against', 'on', \"couldn't\", 'i', 'ourselves', 'me', 'of', 'having', 'd', \"should've\", 'because', 'wouldn', 'below', \"mightn't\", 'and', 'after', 'than', 'we', 'aren', 'mustn', 'too', 'itself', 'o', \"you've\", 'she', 'theirs', 'mightn', 'shan', 'so', \"you're\", 'being', 'this', \"haven't\", 'why', 'are', 'before', 'up', 'above', 'an', 'at', 'had', \"didn't\", 'each', 'not', 'be', 'here', 'needn', 'during', 'but', 'weren', 'over', \"aren't\", 'no', 'my', 'your', 'a', 're', 'how', 'ours', 'been', 'has', 'do', 'doing', 'until', 'yourself', 'him', 'were', 'isn', 'her', 'won', 'there', 'under', 'further', 'other', 'through', 'it', 'any', 'more', 'what', 'which', 'these', 'or', 'to', 'only', 'they', 'its', 'by', 'doesn', \"wasn't\", 'was'}\n"
     ]
    }
   ],
   "source": [
    "stop_words = set(stopwords.words('english'))\n",
    "print(stop_words)"
   ]
  },
  {
   "cell_type": "code",
   "execution_count": 17,
   "metadata": {},
   "outputs": [],
   "source": [
    "pronouns = {'i', 'me', 'my', 'myself', 'we', 'our', 'ours', 'ourselves', \n",
    "                   'you', \"you're\", \"you've\", \"you'll\", \"you'd\", 'your', 'yours', 'yourself', \n",
    "                   'yourselves', 'he', 'him', 'his', 'himself', 'she', \"she's\", 'her', 'hers', 'herself',\n",
    "                   'they', 'them', 'their', 'theirs', 'themselves'}"
   ]
  },
  {
   "cell_type": "code",
   "execution_count": 18,
   "metadata": {},
   "outputs": [],
   "source": [
    "stop_words = stop_words.difference(pronouns)"
   ]
  },
  {
   "cell_type": "code",
   "execution_count": 19,
   "metadata": {},
   "outputs": [],
   "source": [
    "stop_words = list(stop_words)"
   ]
  },
  {
   "cell_type": "code",
   "execution_count": 20,
   "metadata": {},
   "outputs": [],
   "source": [
    "for i in range(len(df['token'])):\n",
    "    df.at[i, 'token'] = [word for word in df['token'][i] if word not in stop_words]"
   ]
  },
  {
   "cell_type": "code",
   "execution_count": 21,
   "metadata": {},
   "outputs": [
    {
     "data": {
      "text/plain": [
       "['you', 'never', 'forget', 'buy', 'eggs', 'grocery', 'store']"
      ]
     },
     "execution_count": 21,
     "metadata": {},
     "output_type": "execute_result"
    }
   ],
   "source": [
    "df['token'][0][:15]"
   ]
  },
  {
   "cell_type": "code",
   "execution_count": 22,
   "metadata": {},
   "outputs": [
    {
     "data": {
      "text/html": [
       "<div>\n",
       "<style scoped>\n",
       "    .dataframe tbody tr th:only-of-type {\n",
       "        vertical-align: middle;\n",
       "    }\n",
       "\n",
       "    .dataframe tbody tr th {\n",
       "        vertical-align: top;\n",
       "    }\n",
       "\n",
       "    .dataframe thead th {\n",
       "        text-align: right;\n",
       "    }\n",
       "</style>\n",
       "<table border=\"1\" class=\"dataframe\">\n",
       "  <thead>\n",
       "    <tr style=\"text-align: right;\">\n",
       "      <th></th>\n",
       "      <th>post</th>\n",
       "      <th>target</th>\n",
       "      <th>token</th>\n",
       "    </tr>\n",
       "  </thead>\n",
       "  <tbody>\n",
       "    <tr>\n",
       "      <th>0</th>\n",
       "      <td>You never forget to buy eggs at the grocery st...</td>\n",
       "      <td>1</td>\n",
       "      <td>[you, never, forget, buy, eggs, grocery, store]</td>\n",
       "    </tr>\n",
       "    <tr>\n",
       "      <th>1</th>\n",
       "      <td>You can assemble any object from atoms by the ...</td>\n",
       "      <td>1</td>\n",
       "      <td>[you, assemble, object, atoms, power, thought,...</td>\n",
       "    </tr>\n",
       "    <tr>\n",
       "      <th>2</th>\n",
       "      <td>You have small visions of a person who is visu...</td>\n",
       "      <td>1</td>\n",
       "      <td>[you, small, visions, person, visually, impaired]</td>\n",
       "    </tr>\n",
       "    <tr>\n",
       "      <th>3</th>\n",
       "      <td>Every time you sneeze, a random ant in a 50 me...</td>\n",
       "      <td>1</td>\n",
       "      <td>[every, time, you, sneeze, random, ant, 50, me...</td>\n",
       "    </tr>\n",
       "    <tr>\n",
       "      <th>4</th>\n",
       "      <td>Everytime you ring a bell an angel gets their ...</td>\n",
       "      <td>1</td>\n",
       "      <td>[everytime, you, ring, bell, angel, gets, thei...</td>\n",
       "    </tr>\n",
       "  </tbody>\n",
       "</table>\n",
       "</div>"
      ],
      "text/plain": [
       "                                                post  target  \\\n",
       "0  You never forget to buy eggs at the grocery st...       1   \n",
       "1  You can assemble any object from atoms by the ...       1   \n",
       "2  You have small visions of a person who is visu...       1   \n",
       "3  Every time you sneeze, a random ant in a 50 me...       1   \n",
       "4  Everytime you ring a bell an angel gets their ...       1   \n",
       "\n",
       "                                               token  \n",
       "0    [you, never, forget, buy, eggs, grocery, store]  \n",
       "1  [you, assemble, object, atoms, power, thought,...  \n",
       "2  [you, small, visions, person, visually, impaired]  \n",
       "3  [every, time, you, sneeze, random, ant, 50, me...  \n",
       "4  [everytime, you, ring, bell, angel, gets, thei...  "
      ]
     },
     "execution_count": 22,
     "metadata": {},
     "output_type": "execute_result"
    }
   ],
   "source": [
    "df.head()"
   ]
  },
  {
   "cell_type": "markdown",
   "metadata": {},
   "source": [
    "### Stemming "
   ]
  },
  {
   "cell_type": "code",
   "execution_count": 23,
   "metadata": {},
   "outputs": [],
   "source": [
    "# Instantiate stemmer.\n",
    "from nltk.stem.porter import PorterStemmer\n",
    "\n",
    "# Instantiate object of class PorterStemmer.\n",
    "p_stemmer = PorterStemmer()"
   ]
  },
  {
   "cell_type": "code",
   "execution_count": 24,
   "metadata": {},
   "outputs": [],
   "source": [
    "# Stem tokens.\n",
    "token_stem = [p_stemmer.stem(i) for i in df['token'][i]]"
   ]
  },
  {
   "cell_type": "code",
   "execution_count": 25,
   "metadata": {},
   "outputs": [
    {
     "data": {
      "text/plain": [
       "['you', 'never', 'forget', 'buy', 'egg', 'groceri', 'store']"
      ]
     },
     "execution_count": 25,
     "metadata": {},
     "output_type": "execute_result"
    }
   ],
   "source": [
    "posts_t_st = [] # posts tokenized stemmed\n",
    "\n",
    "for post in df['token']:\n",
    "    post_st = [] # empty post stems\n",
    "    for word in post:\n",
    "        #print(word)\n",
    "        word_st = p_stemmer.stem(word) # get stem of word\n",
    "        post_st.append(word_st) # add to post list\n",
    "    posts_t_st.append(post_st)  # add post list to stem matrix\n",
    "    \n",
    "posts_t_st[0][:10]"
   ]
  },
  {
   "cell_type": "code",
   "execution_count": 26,
   "metadata": {},
   "outputs": [],
   "source": [
    "# format tokenized stems for vectorizer: list of strings\n",
    "posts_t_st_list = []\n",
    "\n",
    "for post in posts_t_st:\n",
    "    posts_t_st_list.append(' '.join(post))"
   ]
  },
  {
   "cell_type": "code",
   "execution_count": 27,
   "metadata": {},
   "outputs": [
    {
     "data": {
      "text/plain": [
       "['you never forget buy egg groceri store',\n",
       " 'you assembl object atom power thought instantli blow due enorm energi requir process']"
      ]
     },
     "execution_count": 27,
     "metadata": {},
     "output_type": "execute_result"
    }
   ],
   "source": [
    "posts_t_st_list[:2]"
   ]
  },
  {
   "cell_type": "markdown",
   "metadata": {},
   "source": [
    "### Lemmatizing"
   ]
  },
  {
   "cell_type": "code",
   "execution_count": 28,
   "metadata": {},
   "outputs": [],
   "source": [
    "# Import lemmatizer. (Same as above.)\n",
    "from nltk.stem import WordNetLemmatizer\n",
    "\n",
    "# Instantiate lemmatizer. (Same as above.)\n",
    "lemmatizer = WordNetLemmatizer()"
   ]
  },
  {
   "cell_type": "code",
   "execution_count": 29,
   "metadata": {},
   "outputs": [
    {
     "data": {
      "text/plain": [
       "['you', 'never', 'forget', 'buy', 'egg', 'grocery', 'store']"
      ]
     },
     "execution_count": 29,
     "metadata": {},
     "output_type": "execute_result"
    }
   ],
   "source": [
    "posts_t_lm = []\n",
    "\n",
    "for post in df['token']:\n",
    "    post_st = [] # empty post stems\n",
    "    for word in post:\n",
    "        #print(word)\n",
    "        word_st = lemmatizer.lemmatize(word) # get lemmatized word\n",
    "        post_st.append(word_st) # add to post list\n",
    "    posts_t_lm.append(post_st)  # add post list to lemma matrix\n",
    "    \n",
    "posts_t_lm[0][:10]"
   ]
  },
  {
   "cell_type": "code",
   "execution_count": 30,
   "metadata": {},
   "outputs": [],
   "source": [
    "# format tokenized lems for vectorizer: list of strings\n",
    "posts_t_lm_list = []\n",
    "\n",
    "for post in posts_t_lm:\n",
    "    posts_t_lm_list.append(' '.join(post))"
   ]
  },
  {
   "cell_type": "code",
   "execution_count": 31,
   "metadata": {},
   "outputs": [
    {
     "data": {
      "text/plain": [
       "['you never forget buy egg grocery store',\n",
       " 'you assemble object atom power thought instantly blow due enormous energy required process']"
      ]
     },
     "execution_count": 31,
     "metadata": {},
     "output_type": "execute_result"
    }
   ],
   "source": [
    "posts_t_lm_list[:2]"
   ]
  },
  {
   "cell_type": "markdown",
   "metadata": {},
   "source": [
    "Methods such as stop words, stemming, and lemmatization have been explored. Between Stemming and Lemmatizing, I prefer to use Lemmatizing.\n",
    "\n",
    "The first 2 posts are used to demonstrate why Lemmatizing is better.\n",
    "\n",
    "Stemming: \n",
    "['you never forget buy egg groceri store',\n",
    "'you assembl object atom power thought instantli blow due enorm energi requir process']\n",
    "\n",
    "Lemmatizing:\n",
    "['you never forget buy egg grocery store',\n",
    " 'you assemble object atom power thought instantly blow due enormous energy required process']\n",
    " \n",
    "Stemming has changed gramatically correct words to incorrect, e.g. groceri, assembl, instantli, requir etc. but Lemmatizing is working well without this flaw. Hence I will use the lammatized tokenw. "
   ]
  },
  {
   "cell_type": "code",
   "execution_count": 32,
   "metadata": {},
   "outputs": [],
   "source": [
    "df['post'] = posts_t_lm_list"
   ]
  },
  {
   "cell_type": "code",
   "execution_count": 33,
   "metadata": {},
   "outputs": [],
   "source": [
    "# drop original column\n",
    "\n",
    "df.drop(columns=['token'], axis=1, inplace=True)"
   ]
  },
  {
   "cell_type": "code",
   "execution_count": 34,
   "metadata": {},
   "outputs": [
    {
     "data": {
      "text/html": [
       "<div>\n",
       "<style scoped>\n",
       "    .dataframe tbody tr th:only-of-type {\n",
       "        vertical-align: middle;\n",
       "    }\n",
       "\n",
       "    .dataframe tbody tr th {\n",
       "        vertical-align: top;\n",
       "    }\n",
       "\n",
       "    .dataframe thead th {\n",
       "        text-align: right;\n",
       "    }\n",
       "</style>\n",
       "<table border=\"1\" class=\"dataframe\">\n",
       "  <thead>\n",
       "    <tr style=\"text-align: right;\">\n",
       "      <th></th>\n",
       "      <th>post</th>\n",
       "      <th>target</th>\n",
       "    </tr>\n",
       "  </thead>\n",
       "  <tbody>\n",
       "    <tr>\n",
       "      <th>0</th>\n",
       "      <td>you never forget buy egg grocery store</td>\n",
       "      <td>1</td>\n",
       "    </tr>\n",
       "    <tr>\n",
       "      <th>1</th>\n",
       "      <td>you assemble object atom power thought instant...</td>\n",
       "      <td>1</td>\n",
       "    </tr>\n",
       "    <tr>\n",
       "      <th>2</th>\n",
       "      <td>you small vision person visually impaired</td>\n",
       "      <td>1</td>\n",
       "    </tr>\n",
       "    <tr>\n",
       "      <th>3</th>\n",
       "      <td>every time you sneeze random ant 50 meter radi...</td>\n",
       "      <td>1</td>\n",
       "    </tr>\n",
       "    <tr>\n",
       "      <th>4</th>\n",
       "      <td>everytime you ring bell angel get their wing c...</td>\n",
       "      <td>1</td>\n",
       "    </tr>\n",
       "  </tbody>\n",
       "</table>\n",
       "</div>"
      ],
      "text/plain": [
       "                                                post  target\n",
       "0             you never forget buy egg grocery store       1\n",
       "1  you assemble object atom power thought instant...       1\n",
       "2          you small vision person visually impaired       1\n",
       "3  every time you sneeze random ant 50 meter radi...       1\n",
       "4  everytime you ring bell angel get their wing c...       1"
      ]
     },
     "execution_count": 34,
     "metadata": {},
     "output_type": "execute_result"
    }
   ],
   "source": [
    "df.head()"
   ]
  },
  {
   "cell_type": "markdown",
   "metadata": {},
   "source": [
    "## Model prep\n",
    "---\n",
    "\n",
    "Let's set up our data for modeling:\n",
    "- `X` will be the `post` column  **NOTE**: Since `CountVectorizer` requires a vector, I set `X` to be a `pandas` Series, **not** a DataFrame.\n",
    "- `y` will be the `target` column\n"
   ]
  },
  {
   "cell_type": "code",
   "execution_count": 35,
   "metadata": {},
   "outputs": [],
   "source": [
    "X = df['post'] \n",
    "y = df['target']"
   ]
  },
  {
   "cell_type": "code",
   "execution_count": 36,
   "metadata": {},
   "outputs": [
    {
     "data": {
      "text/plain": [
       "0               you never forget buy egg grocery store\n",
       "1    you assemble object atom power thought instant...\n",
       "2            you small vision person visually impaired\n",
       "3    every time you sneeze random ant 50 meter radi...\n",
       "4    everytime you ring bell angel get their wing c...\n",
       "Name: post, dtype: object"
      ]
     },
     "execution_count": 36,
     "metadata": {},
     "output_type": "execute_result"
    }
   ],
   "source": [
    "X.head()"
   ]
  },
  {
   "cell_type": "code",
   "execution_count": 37,
   "metadata": {},
   "outputs": [
    {
     "data": {
      "text/plain": [
       "pandas.core.series.Series"
      ]
     },
     "execution_count": 37,
     "metadata": {},
     "output_type": "execute_result"
    }
   ],
   "source": [
    "# double check X is series\n",
    "\n",
    "type(X)"
   ]
  },
  {
   "cell_type": "code",
   "execution_count": 38,
   "metadata": {},
   "outputs": [
    {
     "data": {
      "text/plain": [
       "0               you never forget buy egg grocery store\n",
       "1    you assemble object atom power thought instant...\n",
       "2            you small vision person visually impaired\n",
       "3    every time you sneeze random ant 50 meter radi...\n",
       "4    everytime you ring bell angel get their wing c...\n",
       "Name: post, dtype: object"
      ]
     },
     "execution_count": 38,
     "metadata": {},
     "output_type": "execute_result"
    }
   ],
   "source": [
    "X.head()"
   ]
  },
  {
   "cell_type": "markdown",
   "metadata": {},
   "source": [
    "## Train/Test split\n",
    "---\n",
    "\n",
    "Use the train_test_split function to split your data into a training set and a holdout set."
   ]
  },
  {
   "cell_type": "code",
   "execution_count": 39,
   "metadata": {},
   "outputs": [
    {
     "name": "stdout",
     "output_type": "stream",
     "text": [
      "(1492,) (1492,)\n",
      "(498,) (498,)\n"
     ]
    }
   ],
   "source": [
    "X_train, X_test, y_train, y_test = train_test_split(X, y, stratify=y, random_state=42)\n",
    "\n",
    "print(X_train.shape, y_train.shape)\n",
    "print(X_test.shape, y_test.shape)"
   ]
  },
  {
   "cell_type": "markdown",
   "metadata": {},
   "source": [
    "## Modeling\n",
    "\n",
    "The GridSearchCV tool allows us to program multiple hyperparameters across our models. It will generate a model with each combination of our desired hyperparameters, and optimize the highest-scoring result.\n",
    "\n",
    "We will run a single model for each of the following 3 classifiers:\n",
    "\n",
    "1. Logistic Regression\n",
    "2. K-Nearest Neighbors\n",
    "3. Multinomial Naive Bayes\n",
    "\n",
    "### Choice of production model\n",
    "\n",
    "Predicting whether a post belongs to category 'shittysuperpowers' or 'godtiersuperpowers' is a classfication problem. Hence we can use the below 2 models on top of Naive Bayes as required. \n",
    "\n",
    "1. Logistic Regression\n",
    "\n",
    "    Logistic regression is a supervised learning classification algorithm used to predict the probability of a target variable. The nature of target or dependent variable is dichotomous, which means there would be only two possible classes.\n",
    "    \n",
    "    In this project, we are looking for a model that can predict if a post belongs to category 'shittysuperpowers' or ' godtiersuperpowers'. The target variable are binary and it makes sense to use logic regression to predict class probabilities.\n",
    "    \n",
    "    \n",
    "2. K-Nearest Neighbors\n",
    "\n",
    "    The k-Nearest neighbors (KNN) algorithm is a simple, easy-to-implement algorithm. KNN can be used for classification — the output is a class membership (predicts a class — a discrete value). An object is classified by a majority vote of its neighbors, with the object being assigned to the class most common among its k nearest neighbors.\n",
    "    \n",
    "### Use of GridSearchCV\n",
    "\n",
    "We will run two GridSearches to benchmark these three models for two feature extraction techniques: \n",
    "\n",
    "1. CountVectorizer \n",
    "\n",
    "2. TfidfVectorizer\n",
    "\n",
    "We can use the accuracy of the results to narrow our model selection to the most effective approaches.\n",
    "\n",
    "As these models execute, the results will be displayed, then stored into a DataFrame for final comparison."
   ]
  },
  {
   "cell_type": "markdown",
   "metadata": {},
   "source": [
    "#### Set up Pipelines w/ CountVectorizer"
   ]
  },
  {
   "cell_type": "code",
   "execution_count": 40,
   "metadata": {},
   "outputs": [],
   "source": [
    "pipe_cvec_lr = Pipeline([\n",
    "    ('cvec', CountVectorizer()),\n",
    "    ('lr', LogisticRegression())\n",
    "])\n",
    "\n",
    "pipe_cvec_knn = Pipeline([\n",
    "    ('cvec', CountVectorizer()),\n",
    "    ('knn', KNeighborsClassifier())\n",
    "])\n",
    "\n",
    "pipe_cvec_nb = Pipeline([\n",
    "    ('cvec', CountVectorizer()),\n",
    "    ('nb', MultinomialNB())\n",
    "])\n"
   ]
  },
  {
   "cell_type": "markdown",
   "metadata": {},
   "source": [
    "#### Set up Set up Pipelines w/ TfidfVectorizer"
   ]
  },
  {
   "cell_type": "code",
   "execution_count": 41,
   "metadata": {},
   "outputs": [],
   "source": [
    "pipe_tvec_lr = Pipeline([\n",
    "    ('tvec', TfidfVectorizer()),\n",
    "    ('lr', LogisticRegression())\n",
    "])\n",
    "\n",
    "pipe_tvec_knn = Pipeline([\n",
    "    ('tvec', TfidfVectorizer()),\n",
    "    ('knn', KNeighborsClassifier())\n",
    "])\n",
    "\n",
    "pipe_tvec_nb = Pipeline([\n",
    "    ('tvec', TfidfVectorizer()),\n",
    "    ('nb', MultinomialNB())\n",
    "])"
   ]
  },
  {
   "cell_type": "markdown",
   "metadata": {},
   "source": [
    "#### Set up parameters for GridSearchCV w/ CountVectorizer"
   ]
  },
  {
   "cell_type": "code",
   "execution_count": 42,
   "metadata": {},
   "outputs": [],
   "source": [
    "params_cvec_lr = {\n",
    "    'cvec__max_features': [2500, 3000, 3500],\n",
    "    'cvec__min_df': [1, 2, 3, 4],\n",
    "    'cvec__max_df': [0.85, 0.9, 0.95],\n",
    "    'cvec__ngram_range': [(1,1), (1,2), (1,3)]\n",
    "}\n",
    "\n",
    "params_cvec_knn = {\n",
    "    'cvec__max_features': [2500, 3000, 3500],\n",
    "    'cvec__min_df': [1, 2, 3, 4],\n",
    "    'cvec__max_df': [0.85, 0.9, 0.95],\n",
    "    'cvec__ngram_range': [(1,1), (1,2), (1,3)]\n",
    "}\n",
    "\n",
    "params_cvec_nb = {\n",
    "    'cvec__max_features': [2500, 3000, 3500],\n",
    "    'cvec__min_df': [1, 2, 3, 4],\n",
    "    'cvec__max_df': [0.85, 0.9, 0.95],\n",
    "    'cvec__ngram_range': [(1,1), (1,2), (1,3)]\n",
    "}"
   ]
  },
  {
   "cell_type": "markdown",
   "metadata": {},
   "source": [
    "#### Set up parameters for GridSearchCV w/ TfidfVectorizer"
   ]
  },
  {
   "cell_type": "code",
   "execution_count": 43,
   "metadata": {},
   "outputs": [],
   "source": [
    "params_tvec_lr = {\n",
    "    'tvec__max_features': [2500, 3000, 3500],\n",
    "    'tvec__min_df': [1, 2, 3, 4],\n",
    "    'tvec__max_df': [0.85, 0.9, 0.95],\n",
    "    'tvec__ngram_range': [(1,1), (1,2), (1,3)]\n",
    "}\n",
    "\n",
    "params_tvec_knn = {\n",
    "    'tvec__max_features': [2500, 3000, 3500],\n",
    "    'tvec__min_df': [1, 2, 3, 4],\n",
    "    'tvec__max_df': [0.85, 0.9, 0.95],\n",
    "    'tvec__ngram_range': [(1,1), (1,2), (1,3)]\n",
    "}\n",
    "\n",
    "params_tvec_nb = {\n",
    "    'tvec__max_features': [2500, 3000, 3500],\n",
    "    'tvec__min_df': [1, 2, 3, 4],\n",
    "    'tvec__max_df': [0.85, 0.9, 0.95],\n",
    "    'tvec__ngram_range': [(1,1), (1,2), (1,3)]\n",
    "}"
   ]
  },
  {
   "cell_type": "code",
   "execution_count": 44,
   "metadata": {},
   "outputs": [],
   "source": [
    "# Instantiate a dictionary to house Models' Scores\n",
    "results = {}"
   ]
  },
  {
   "cell_type": "markdown",
   "metadata": {},
   "source": [
    "#### Function to Run All Different Models and Print Results"
   ]
  },
  {
   "cell_type": "code",
   "execution_count": 45,
   "metadata": {},
   "outputs": [],
   "source": [
    "# Define function to run Pipeline + GridSearchCV\n",
    "\n",
    "def run_model(pipeline, parameters, cv=3, model_name=''):\n",
    "    \n",
    "    # Instantiate GridSearchCV\n",
    "    gs = GridSearchCV(pipeline, parameters, cv=3)\n",
    "       \n",
    "    # Fit GridSearch to training data\n",
    "    gs.fit(X_train, y_train)\n",
    "    \n",
    "    # Best mean score out of cross validation out of all models tested\n",
    "    print(f'Best Score: {gs.best_score_}')\n",
    "    \n",
    "    # Best Paramenters\n",
    "    print(f'Best Parameters: {gs.best_params_}')\n",
    "    \n",
    "    # Save best model\n",
    "    gs_model = gs.best_estimator_\n",
    "    \n",
    "    # Score model on train set\n",
    "    print(f'Training Accuracy Score: {gs_model.score(X_train, y_train)}')\n",
    "    \n",
    "    # Score model on test set\n",
    "    print(f'Testing Accuracy Score: {gs_model.score(X_test, y_test)}')\n",
    "    \n",
    "    # Predictions\n",
    "    pred = gs_model.predict(X_test)\n",
    "    \n",
    "    # Confusion Matrix\n",
    "    cm_df = pd.DataFrame(confusion_matrix(y_test, pred),\n",
    "                         columns=['pred_shitty', 'pred_godtier'],\n",
    "                         index=['actual_shitty', 'actual_godtier'])\n",
    "    print('Confusion Matrix:')\n",
    "    print(cm_df)\n",
    "    print(' ')\n",
    "    \n",
    "    tn, fp, fn, tp = confusion_matrix(y_test, pred).ravel()\n",
    "    \n",
    "    # Print different metrics\n",
    "    accuracy = (tp + tn) / (tp + tn + fp + fn)\n",
    "    print(f'Accuracy: {accuracy}')\n",
    "    \n",
    "    misclassification = 1 - accuracy\n",
    "    print(f'Misclassification: {misclassification}') \n",
    "    \n",
    "    sensitivity = tp / (tp + fn)\n",
    "    print(f'Sensitivity: {sensitivity}')\n",
    "    \n",
    "    specificity = tn / (tn + fp)\n",
    "    print(f'Specificity: {specificity}')\n",
    "    \n",
    "    precision = tp / (tp + fp)\n",
    "    print(f'Precision: {precision}')\n",
    "    \n",
    "    # 'Append' accuracy scores to 'results' dictinoary\n",
    "    results[model_name] = [gs_model.score(X_train, y_train), gs_model.score(X_test, y_test),\n",
    "                           misclassification, sensitivity, specificity, precision]"
   ]
  },
  {
   "cell_type": "markdown",
   "metadata": {},
   "source": [
    "#### ( 1.1 ) CountVectorizer + LogisticRegression"
   ]
  },
  {
   "cell_type": "code",
   "execution_count": 46,
   "metadata": {},
   "outputs": [
    {
     "name": "stdout",
     "output_type": "stream",
     "text": [
      "Best Score: 0.652140419491514\n",
      "Best Parameters: {'cvec__max_df': 0.85, 'cvec__max_features': 3500, 'cvec__min_df': 1, 'cvec__ngram_range': (1, 2)}\n",
      "Training Accuracy Score: 0.9671581769436998\n",
      "Testing Accuracy Score: 0.6164658634538153\n",
      "Confusion Matrix:\n",
      "                pred_shitty  pred_godtier\n",
      "actual_shitty           147           101\n",
      "actual_godtier           90           160\n",
      " \n",
      "Accuracy: 0.6164658634538153\n",
      "Misclassification: 0.38353413654618473\n",
      "Sensitivity: 0.64\n",
      "Specificity: 0.592741935483871\n",
      "Precision: 0.6130268199233716\n"
     ]
    }
   ],
   "source": [
    "run_model(pipe_cvec_lr, params_cvec_lr, cv=3, model_name='cvec_lr')"
   ]
  },
  {
   "cell_type": "markdown",
   "metadata": {},
   "source": [
    "#### ( 1.2 ) CountVectorizer + K Nearest Neighbor"
   ]
  },
  {
   "cell_type": "code",
   "execution_count": 47,
   "metadata": {},
   "outputs": [
    {
     "name": "stdout",
     "output_type": "stream",
     "text": [
      "Best Score: 0.5716979251681441\n",
      "Best Parameters: {'cvec__max_df': 0.95, 'cvec__max_features': 2500, 'cvec__min_df': 2, 'cvec__ngram_range': (1, 3)}\n",
      "Training Accuracy Score: 0.7339142091152815\n",
      "Testing Accuracy Score: 0.5502008032128514\n",
      "Confusion Matrix:\n",
      "                pred_shitty  pred_godtier\n",
      "actual_shitty            73           175\n",
      "actual_godtier           49           201\n",
      " \n",
      "Accuracy: 0.5502008032128514\n",
      "Misclassification: 0.44979919678714864\n",
      "Sensitivity: 0.804\n",
      "Specificity: 0.29435483870967744\n",
      "Precision: 0.5345744680851063\n"
     ]
    }
   ],
   "source": [
    "run_model(pipe_cvec_knn, params_cvec_knn, cv=3, model_name='cvec_knn')"
   ]
  },
  {
   "cell_type": "markdown",
   "metadata": {},
   "source": [
    "#### ( 1.3 ) CountVectorizer + Naive Bayes\n"
   ]
  },
  {
   "cell_type": "code",
   "execution_count": 48,
   "metadata": {},
   "outputs": [
    {
     "name": "stdout",
     "output_type": "stream",
     "text": [
      "Best Score: 0.6461244037181592\n",
      "Best Parameters: {'cvec__max_df': 0.85, 'cvec__max_features': 2500, 'cvec__min_df': 4, 'cvec__ngram_range': (1, 2)}\n",
      "Training Accuracy Score: 0.8076407506702413\n",
      "Testing Accuracy Score: 0.6706827309236948\n",
      "Confusion Matrix:\n",
      "                pred_shitty  pred_godtier\n",
      "actual_shitty           168            80\n",
      "actual_godtier           84           166\n",
      " \n",
      "Accuracy: 0.6706827309236948\n",
      "Misclassification: 0.3293172690763052\n",
      "Sensitivity: 0.664\n",
      "Specificity: 0.6774193548387096\n",
      "Precision: 0.6747967479674797\n"
     ]
    }
   ],
   "source": [
    "run_model(pipe_cvec_nb, params_cvec_nb, cv=3, model_name='cvec_nb')"
   ]
  },
  {
   "cell_type": "markdown",
   "metadata": {},
   "source": [
    "#### ( 2.1 ) TfidfVectorizer + LogisticRegression"
   ]
  },
  {
   "cell_type": "code",
   "execution_count": 49,
   "metadata": {},
   "outputs": [
    {
     "name": "stdout",
     "output_type": "stream",
     "text": [
      "Best Score: 0.6541457580826323\n",
      "Best Parameters: {'tvec__max_df': 0.95, 'tvec__max_features': 3000, 'tvec__min_df': 1, 'tvec__ngram_range': (1, 2)}\n",
      "Training Accuracy Score: 0.8907506702412868\n",
      "Testing Accuracy Score: 0.6606425702811245\n",
      "Confusion Matrix:\n",
      "                pred_shitty  pred_godtier\n",
      "actual_shitty           170            78\n",
      "actual_godtier           91           159\n",
      " \n",
      "Accuracy: 0.6606425702811245\n",
      "Misclassification: 0.3393574297188755\n",
      "Sensitivity: 0.636\n",
      "Specificity: 0.6854838709677419\n",
      "Precision: 0.6708860759493671\n"
     ]
    }
   ],
   "source": [
    "run_model(pipe_tvec_lr, params_tvec_lr, cv=3, model_name='tvec_lr')\n"
   ]
  },
  {
   "cell_type": "markdown",
   "metadata": {},
   "source": [
    "#### ( 2.2 ) TfidfVectorizer + K Nearest Neighbor"
   ]
  },
  {
   "cell_type": "code",
   "execution_count": 50,
   "metadata": {},
   "outputs": [
    {
     "name": "stdout",
     "output_type": "stream",
     "text": [
      "Best Score: 0.5918307704325013\n",
      "Best Parameters: {'tvec__max_df': 0.95, 'tvec__max_features': 2500, 'tvec__min_df': 4, 'tvec__ngram_range': (1, 2)}\n",
      "Training Accuracy Score: 0.8156836461126006\n",
      "Testing Accuracy Score: 0.5542168674698795\n",
      "Confusion Matrix:\n",
      "                pred_shitty  pred_godtier\n",
      "actual_shitty           173            75\n",
      "actual_godtier          147           103\n",
      " \n",
      "Accuracy: 0.5542168674698795\n",
      "Misclassification: 0.4457831325301205\n",
      "Sensitivity: 0.412\n",
      "Specificity: 0.6975806451612904\n",
      "Precision: 0.5786516853932584\n"
     ]
    }
   ],
   "source": [
    "run_model(pipe_tvec_knn, params_tvec_knn, cv=3, model_name='tvec_knn')"
   ]
  },
  {
   "cell_type": "markdown",
   "metadata": {},
   "source": [
    "#### ( 2.3 ) TfidfVectorizer + Naive Bayes"
   ]
  },
  {
   "cell_type": "code",
   "execution_count": 51,
   "metadata": {},
   "outputs": [
    {
     "name": "stdout",
     "output_type": "stream",
     "text": [
      "Best Score: 0.6534750672710965\n",
      "Best Parameters: {'tvec__max_df': 0.85, 'tvec__max_features': 3000, 'tvec__min_df': 1, 'tvec__ngram_range': (1, 2)}\n",
      "Training Accuracy Score: 0.8914209115281502\n",
      "Testing Accuracy Score: 0.6445783132530121\n",
      "Confusion Matrix:\n",
      "                pred_shitty  pred_godtier\n",
      "actual_shitty           172            76\n",
      "actual_godtier          101           149\n",
      " \n",
      "Accuracy: 0.6445783132530121\n",
      "Misclassification: 0.35542168674698793\n",
      "Sensitivity: 0.596\n",
      "Specificity: 0.6935483870967742\n",
      "Precision: 0.6622222222222223\n"
     ]
    }
   ],
   "source": [
    "run_model(pipe_tvec_nb, params_tvec_nb, cv=3, model_name='tvec_nb')"
   ]
  },
  {
   "cell_type": "markdown",
   "metadata": {},
   "source": [
    "### Model Selection"
   ]
  },
  {
   "cell_type": "code",
   "execution_count": 52,
   "metadata": {},
   "outputs": [
    {
     "data": {
      "text/html": [
       "<div>\n",
       "<style scoped>\n",
       "    .dataframe tbody tr th:only-of-type {\n",
       "        vertical-align: middle;\n",
       "    }\n",
       "\n",
       "    .dataframe tbody tr th {\n",
       "        vertical-align: top;\n",
       "    }\n",
       "\n",
       "    .dataframe thead th {\n",
       "        text-align: right;\n",
       "    }\n",
       "</style>\n",
       "<table border=\"1\" class=\"dataframe\">\n",
       "  <thead>\n",
       "    <tr style=\"text-align: right;\">\n",
       "      <th></th>\n",
       "      <th>train</th>\n",
       "      <th>test</th>\n",
       "      <th>misclassification</th>\n",
       "      <th>sensitivity</th>\n",
       "      <th>specificity</th>\n",
       "      <th>precision</th>\n",
       "    </tr>\n",
       "  </thead>\n",
       "  <tbody>\n",
       "    <tr>\n",
       "      <th>cvec_lr</th>\n",
       "      <td>0.967158</td>\n",
       "      <td>0.616466</td>\n",
       "      <td>0.383534</td>\n",
       "      <td>0.640</td>\n",
       "      <td>0.592742</td>\n",
       "      <td>0.613027</td>\n",
       "    </tr>\n",
       "    <tr>\n",
       "      <th>cvec_knn</th>\n",
       "      <td>0.733914</td>\n",
       "      <td>0.550201</td>\n",
       "      <td>0.449799</td>\n",
       "      <td>0.804</td>\n",
       "      <td>0.294355</td>\n",
       "      <td>0.534574</td>\n",
       "    </tr>\n",
       "    <tr>\n",
       "      <th>cvec_nb</th>\n",
       "      <td>0.807641</td>\n",
       "      <td>0.670683</td>\n",
       "      <td>0.329317</td>\n",
       "      <td>0.664</td>\n",
       "      <td>0.677419</td>\n",
       "      <td>0.674797</td>\n",
       "    </tr>\n",
       "    <tr>\n",
       "      <th>tvec_lr</th>\n",
       "      <td>0.890751</td>\n",
       "      <td>0.660643</td>\n",
       "      <td>0.339357</td>\n",
       "      <td>0.636</td>\n",
       "      <td>0.685484</td>\n",
       "      <td>0.670886</td>\n",
       "    </tr>\n",
       "    <tr>\n",
       "      <th>tvec_knn</th>\n",
       "      <td>0.815684</td>\n",
       "      <td>0.554217</td>\n",
       "      <td>0.445783</td>\n",
       "      <td>0.412</td>\n",
       "      <td>0.697581</td>\n",
       "      <td>0.578652</td>\n",
       "    </tr>\n",
       "    <tr>\n",
       "      <th>tvec_nb</th>\n",
       "      <td>0.891421</td>\n",
       "      <td>0.644578</td>\n",
       "      <td>0.355422</td>\n",
       "      <td>0.596</td>\n",
       "      <td>0.693548</td>\n",
       "      <td>0.662222</td>\n",
       "    </tr>\n",
       "  </tbody>\n",
       "</table>\n",
       "</div>"
      ],
      "text/plain": [
       "             train      test  misclassification  sensitivity  specificity  \\\n",
       "cvec_lr   0.967158  0.616466           0.383534        0.640     0.592742   \n",
       "cvec_knn  0.733914  0.550201           0.449799        0.804     0.294355   \n",
       "cvec_nb   0.807641  0.670683           0.329317        0.664     0.677419   \n",
       "tvec_lr   0.890751  0.660643           0.339357        0.636     0.685484   \n",
       "tvec_knn  0.815684  0.554217           0.445783        0.412     0.697581   \n",
       "tvec_nb   0.891421  0.644578           0.355422        0.596     0.693548   \n",
       "\n",
       "          precision  \n",
       "cvec_lr    0.613027  \n",
       "cvec_knn   0.534574  \n",
       "cvec_nb    0.674797  \n",
       "tvec_lr    0.670886  \n",
       "tvec_knn   0.578652  \n",
       "tvec_nb    0.662222  "
      ]
     },
     "execution_count": 52,
     "metadata": {},
     "output_type": "execute_result"
    }
   ],
   "source": [
    "# DataFrame with Results\n",
    "results_df = pd.DataFrame(results, index=['train', 'test', 'misclassification',\n",
    "                             'sensitivity', 'specificity', 'precision']).T\n",
    "\n",
    "results_df"
   ]
  },
  {
   "cell_type": "markdown",
   "metadata": {},
   "source": [
    "#### Plots for Score"
   ]
  },
  {
   "cell_type": "code",
   "execution_count": 53,
   "metadata": {},
   "outputs": [],
   "source": [
    "# Set plot style\n",
    "plt.style.use('seaborn-darkgrid')"
   ]
  },
  {
   "cell_type": "code",
   "execution_count": 54,
   "metadata": {},
   "outputs": [
    {
     "data": {
      "image/png": "[encoded data removed]",
      "text/plain": [
       "<Figure size 1152x360 with 1 Axes>"
      ]
     },
     "metadata": {},
     "output_type": "display_data"
    }
   ],
   "source": [
    "# Create plot fot 'Test Accuracy Scores'\n",
    "results_df['test'].plot(kind='bar', figsize=(16,5))\n",
    "\n",
    "plt.title('Test Accuracy Scores', size=16, pad=10)\n",
    "plt.axhline(0.5, color='r')\n",
    "plt.ylabel('Test Accuracy', size=14)\n",
    "plt.xticks(size=13, rotation=0)\n",
    "plt.yticks(size=13)\n",
    "plt.ylim(0, 1);"
   ]
  },
  {
   "cell_type": "code",
   "execution_count": 55,
   "metadata": {},
   "outputs": [
    {
     "data": {
      "image/png": "[encoded data removed]",
      "text/plain": [
       "<Figure size 1152x360 with 1 Axes>"
      ]
     },
     "metadata": {},
     "output_type": "display_data"
    }
   ],
   "source": [
    "# Create plot fot 'Specificity Scores'\n",
    "results_df['specificity'].plot(kind='bar', figsize=(16,5))\n",
    "\n",
    "plt.title('Specificity Scores', size=16, pad=10)\n",
    "plt.axhline(0.5, color='r')\n",
    "plt.ylabel('Test Accuracy', size=14)\n",
    "# plt.annotate()\n",
    "plt.xticks(size=13, rotation=0)\n",
    "plt.yticks(size=13)\n",
    "plt.ylim(0,1);\n"
   ]
  },
  {
   "cell_type": "code",
   "execution_count": 56,
   "metadata": {},
   "outputs": [
    {
     "data": {
      "image/png": "[encoded data removed]",
      "text/plain": [
       "<Figure size 1152x360 with 1 Axes>"
      ]
     },
     "metadata": {},
     "output_type": "display_data"
    }
   ],
   "source": [
    "# Create plot fot 'Sensitivity Scores'\n",
    "results_df['sensitivity'].plot(kind='bar', figsize=(16,5))\n",
    "\n",
    "plt.title('Sensitivity Scores', size=16, pad=10)\n",
    "plt.axhline(0.5, color='r')\n",
    "plt.ylabel('Sensitivity', size=14)\n",
    "plt.xticks(size=13, rotation=0)\n",
    "plt.yticks(size=13)\n",
    "plt.ylim(0,1);"
   ]
  },
  {
   "cell_type": "code",
   "execution_count": 57,
   "metadata": {},
   "outputs": [
    {
     "data": {
      "image/png": "[encoded data removed]",
      "text/plain": [
       "<Figure size 1152x360 with 1 Axes>"
      ]
     },
     "metadata": {},
     "output_type": "display_data"
    }
   ],
   "source": [
    "# Create plot fot 'Precision Scores'\n",
    "results_df['precision'].plot(kind='bar', figsize=(16,5))\n",
    "\n",
    "plt.title('Precision Scores', size=16, pad=10)\n",
    "plt.axhline(0.5, color='r')\n",
    "plt.ylabel('Precision', size=14)\n",
    "plt.xticks(size=13, rotation=0)\n",
    "plt.yticks(size=13)\n",
    "plt.ylim(0,1);"
   ]
  },
  {
   "cell_type": "markdown",
   "metadata": {},
   "source": [
    "### Result"
   ]
  },
  {
   "cell_type": "markdown",
   "metadata": {},
   "source": [
    "Parameters to Select Best Model:\n",
    "\n",
    "1. Test acuracy Score: cvec_nb got the highest 0.670 out of 1. \n",
    "2. Sensitivity: cvec_knn got the highest 0.804 out of 1.\n",
    "3. Specificity: tvec_knn got the highest 0.697 out of 1. \n",
    "4. Precision: cvec_nb got the highest 0.675 out of 1.\n",
    "\n",
    "Overall, cvec_nb has the strongest score as it has the highest accuracy score and precision score. \n"
   ]
  },
  {
   "cell_type": "markdown",
   "metadata": {},
   "source": [
    "#### Chosen Model: CountVectorizer + Naive Bayes\n",
    "\n",
    "Best Parameters: \n",
    "\n",
    "{'cvec__max_df': 0.85, \n",
    "\n",
    "'cvec__max_features': 2500, \n",
    "\n",
    "'cvec__min_df': 4, \n",
    "\n",
    "'cvec__ngram_range': (1, 2)}"
   ]
  },
  {
   "cell_type": "code",
   "execution_count": 58,
   "metadata": {},
   "outputs": [],
   "source": [
    "pipe = Pipeline([\n",
    "    ('cvec', CountVectorizer()),\n",
    "    ('nb', MultinomialNB())\n",
    "])"
   ]
  },
  {
   "cell_type": "code",
   "execution_count": 59,
   "metadata": {},
   "outputs": [],
   "source": [
    "pipe_params = {\n",
    "    'cvec__max_features': [2500],\n",
    "    'cvec__min_df': [4],\n",
    "    'cvec__max_df': [0.85],\n",
    "    'cvec__ngram_range': [(1,2)]\n",
    "}"
   ]
  },
  {
   "cell_type": "code",
   "execution_count": 60,
   "metadata": {},
   "outputs": [],
   "source": [
    "gs = GridSearchCV(pipe, param_grid=pipe_params, cv=3)\n",
    "\n",
    "gs.fit(X_train, y_train)\n",
    "\n",
    "pred = gs.predict(X_test)"
   ]
  },
  {
   "cell_type": "code",
   "execution_count": 61,
   "metadata": {},
   "outputs": [
    {
     "name": "stdout",
     "output_type": "stream",
     "text": [
      "Confusion Matrix:\n",
      "                pred_shitty  pred_godtier\n",
      "actual_shitty           168            80\n",
      "actual_godtier           84           166\n",
      " \n",
      "Accuracy: 0.6706827309236948\n",
      "Misclassification: 0.3293172690763052\n",
      "Sensitivity: 0.664\n",
      "Specificity: 0.6774193548387096\n",
      "Precision: 0.6747967479674797\n"
     ]
    }
   ],
   "source": [
    "# Confusion Matrix\n",
    "cm_df = pd.DataFrame(confusion_matrix(y_test, pred),\n",
    "                     columns=['pred_shitty', 'pred_godtier'],\n",
    "                     index=['actual_shitty', 'actual_godtier'])\n",
    "print('Confusion Matrix:')\n",
    "print(cm_df)\n",
    "print(' ')\n",
    "    \n",
    "tn, fp, fn, tp = confusion_matrix(y_test, pred).ravel()\n",
    "    \n",
    "# Print different metrics\n",
    "accuracy = (tp + tn) / (tp + tn + fp + fn)\n",
    "print(f'Accuracy: {accuracy}')\n",
    "    \n",
    "misclassification = 1 - accuracy\n",
    "print(f'Misclassification: {misclassification}') \n",
    "    \n",
    "sensitivity = tp / (tp + fn)\n",
    "print(f'Sensitivity: {sensitivity}')\n",
    "    \n",
    "specificity = tn / (tn + fp)\n",
    "print(f'Specificity: {specificity}')\n",
    "    \n",
    "precision = tp / (tp + fp)\n",
    "print(f'Precision: {precision}')"
   ]
  },
  {
   "cell_type": "markdown",
   "metadata": {},
   "source": [
    "## 4. Conclusion & Recommendation"
   ]
  },
  {
   "cell_type": "markdown",
   "metadata": {},
   "source": [
    "We believe applying a classfication predictive model into our decision making process is essential. A superhero character is the core of a movie, and the new movie series is a long term 5 year plan that is involved a huge amount of investment, no matter time or money. Hence, a reliable and accurate model is very important.\n",
    "\n",
    "In this project, our research team has compared 3 models and evalued them with classficaiton metrics to decide which one is the best, which is **CountVectorizer + Naive Bayes**. Its accuracy score is 0.671 out of 1. Compare to baseline accuracy score 0.502, this model has shown an improved accuracy score. Moreover, we have also generated the best parameters for this model and it will be applied in the future use. \n",
    "\n",
    "Marvel Studios strives to create innovative and inspiring superheroes with super powers that audience dreams of, as these super powers contain people's wishes, desires and hopes. For example, the top few words in both subreddits share few words, like time, control, change. \n",
    "\n",
    "Hence directors or producers can consider a superhero who has the super power to stop time instantly or rewind or fastforward for the upcoming movie series. The dataset was collected in late September 2020, if we dive deeper, we can also analyze if these super powers are related external environments, for example, maybe due to Covid situation, people feel like they are running out of time and wish to own such a power to multitask in daily life. Depending on the circumstances and external factors, audience will have changing desires for super powers over time. Moreover, with the help of model, we can understand how the audience interprets a certain kind of super power if they see it as shitty or god tier super power. And film producers can decide what kind of super powers shouldn't be included in a movie. \n",
    "\n",
    "We look forward to the insights that the model will provide our company and help us with the storyline, character development.\n",
    "\n",
    "### Recommendations\n",
    "\n",
    "No models are perfect. And below are some points that can be improved in the future to make this model even better:\n",
    "\n",
    "1. N-Gram Range \n",
    "\n",
    "    When preprocessing the data for modeling, I only removed stop words in the posts but didn't use N-Gram Range - it has the ability to capture n-word phrases. Since we are predicting based on text context, sometimes there are phrases that comprises of more than one single word, and using N-Gram Range can possibly help us prepare a better set of data for modeling and improve the accuracy.\n",
    "\n",
    "2. A larger dataset is needed.\n",
    "\n",
    "    We have collected only around 1000 posts from each subreddit for the modeling. The scale is pretty small to provide convincing result. Hence, with a bigger size of dataset, I believe the modeling can attain better scores.\n"
   ]
  }
 ],
 "metadata": {
  "kernelspec": {
   "display_name": "Python 3",
   "language": "python",
   "name": "python3"
  },
  "language_info": {
   "codemirror_mode": {
    "name": "ipython",
    "version": 3
   },
   "file_extension": ".py",
   "mimetype": "text/x-python",
   "name": "python",
   "nbconvert_exporter": "python",
   "pygments_lexer": "ipython3",
   "version": "3.8.3"
  }
 },
 "nbformat": 4,
 "nbformat_minor": 4
}
